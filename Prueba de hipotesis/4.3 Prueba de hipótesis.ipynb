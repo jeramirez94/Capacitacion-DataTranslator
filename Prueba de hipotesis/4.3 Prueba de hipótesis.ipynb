{
 "cells": [
  {
   "cell_type": "code",
   "execution_count": 1,
   "id": "c4c7e671",
   "metadata": {},
   "outputs": [],
   "source": [
    "import numpy as np\n",
    "import pandas as pd\n",
    "import scipy.stats as stats\n",
    "import matplotlib.pyplot as plt\n",
    "%matplotlib inline"
   ]
  },
  {
   "cell_type": "code",
   "execution_count": 2,
   "id": "a67f1fd2",
   "metadata": {},
   "outputs": [],
   "source": [
    "#Problema del inventor\n",
    "#Un inventor ha desarrollado un nuevo motor para podadoras de bajo consumo energético. Afirma que el motor funcionará continuamente durante más de 5 horas (300 minutos) con un solo galón de gasolina.\n",
    "#El motor de podadoras de la marca líder funciona durante 300 minutos con un galón de gasolina. \n",
    "#De su stock de motores, el inventor selecciona una muestra aleatoria de 50 motores para probarlos. Los motores seleccionados funcionan en promedio 305 minutos, con una desviación estándar de 30 minutos.\n",
    "#Probar la hipótesis de que el tiempo medio de funcionamiento es superior a 300 minutos. Utilizar un nivel de significación de 0.05.\n"
   ]
  },
  {
   "cell_type": "code",
   "execution_count": 9,
   "id": "08bd06e2",
   "metadata": {},
   "outputs": [
    {
     "data": {
      "text/plain": [
       "(1.1785113019775793, 1.6448536269514722, 0.11929641465821783)"
      ]
     },
     "execution_count": 9,
     "metadata": {},
     "output_type": "execute_result"
    }
   ],
   "source": [
    "sig=0.05\n",
    "t=300\n",
    "n=50\n",
    "m=305\n",
    "s=30\n",
    "denominador = s/(n**0.5)\n",
    "\n",
    "z_score = (m-t)/denominador\n",
    "ppf=stats.norm(0,1).ppf(1-sig)\n",
    "p_value = 1 - stats.norm(0,1).cdf(z_score)\n",
    "\n",
    "z_score, ppf, p_value\n",
    "\n",
    "#p>0.005 entonces se acepta Ho, se entiende que dura más\n",
    "# 1-sig cola derecha, sig cola izquierda, sig/2 ambas colas"
   ]
  },
  {
   "cell_type": "code",
   "execution_count": 18,
   "id": "a91db404",
   "metadata": {},
   "outputs": [
    {
     "data": {
      "text/plain": [
       "(-17.74823934929882, -2.575829303548901, 1.0)"
      ]
     },
     "execution_count": 18,
     "metadata": {},
     "output_type": "execute_result"
    }
   ],
   "source": [
    "#Un fabricante de aderezos para ensaladas utiliza una máquina para dispensar los ingredientes líquidos en botellas que se mueven a lo largo de una línea de llenado. La dispensadora funciona correctamente con una cantidad de 8 onzas.\n",
    "#Supongamos que la cantidad media dispensada en una muestra de 35 botellas es de 7.91 onzas con una varianza de 0.03 onzas al cuadrado. \n",
    "#Determinar si la máquina debe detenerse y la producción debe esperar hasta que se repare la máquina\n",
    "#La pérdida de producción derivada de una parada es tan grande que la dirección cree que el nivel de significación en el análisis debe ser del 99%.\n",
    "\n",
    "sig=0.01\n",
    "t=8\n",
    "n=35\n",
    "m=7.91\n",
    "s= 0.03 #(0.03*0.03)**0.5\n",
    "denominador = s/(n**0.5)\n",
    "\n",
    "z_score = (m-t)/denominador\n",
    "ppf=stats.norm(0,1).ppf(sig/2)\n",
    "p_value = 1 - stats.norm(0,1).cdf(z_score)\n",
    "\n",
    "z_score, ppf, p_value"
   ]
  },
  {
   "cell_type": "code",
   "execution_count": null,
   "id": "762e57f0",
   "metadata": {},
   "outputs": [],
   "source": []
  }
 ],
 "metadata": {
  "kernelspec": {
   "display_name": "Python 3 (ipykernel)",
   "language": "python",
   "name": "python3"
  },
  "language_info": {
   "codemirror_mode": {
    "name": "ipython",
    "version": 3
   },
   "file_extension": ".py",
   "mimetype": "text/x-python",
   "name": "python",
   "nbconvert_exporter": "python",
   "pygments_lexer": "ipython3",
   "version": "3.9.12"
  }
 },
 "nbformat": 4,
 "nbformat_minor": 5
}
