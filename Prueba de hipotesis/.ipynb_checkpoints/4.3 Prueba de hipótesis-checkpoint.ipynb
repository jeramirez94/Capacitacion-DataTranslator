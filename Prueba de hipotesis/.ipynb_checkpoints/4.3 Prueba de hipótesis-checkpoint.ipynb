{
 "cells": [
  {
   "cell_type": "code",
   "execution_count": 3,
   "id": "c4c7e671",
   "metadata": {},
   "outputs": [],
   "source": [
    "import numpy as np\n",
    "import pandas as pd\n",
    "import scipy.stats as stats\n",
    "import matplotlib.pyplot as plt\n",
    "%matplotlib inline"
   ]
  },
  {
   "cell_type": "code",
   "execution_count": 4,
   "id": "a67f1fd2",
   "metadata": {},
   "outputs": [],
   "source": [
    "#Problema del inventor\n",
    "#Un inventor ha desarrollado un nuevo motor para podadoras de bajo consumo energético. Afirma que el motor funcionará continuamente durante más de 5 horas (300 minutos) con un solo galón de gasolina.\n",
    "#El motor de podadoras de la marca líder funciona durante 300 minutos con un galón de gasolina. \n",
    "#De su stock de motores, el inventor selecciona una muestra aleatoria de 50 motores para probarlos. Los motores seleccionados funcionan en promedio 305 minutos, con una desviación estándar de 30 minutos.\n",
    "#Probar la hipótesis de que el tiempo medio de funcionamiento es superior a 300 minutos. Utilizar un nivel de significación de 0.05.\n"
   ]
  },
  {
   "cell_type": "code",
   "execution_count": 12,
   "id": "08bd06e2",
   "metadata": {},
   "outputs": [
    {
     "data": {
      "text/plain": [
       "(1.1785113019775793,\n",
       " -1.6448536269514729,\n",
       " 1.6448536269514722,\n",
       " 0.11929641465821783,\n",
       " 11.929641465821783)"
      ]
     },
     "execution_count": 12,
     "metadata": {},
     "output_type": "execute_result"
    }
   ],
   "source": [
    "# h0 <= 300\n",
    "# h1 > 300\n",
    "# 1 o 2 colas? 1 cola\n",
    "# z o t test? z, por el tamaño de muestra\n",
    "alpha=0.05\n",
    "n=50\n",
    "x_bar=305\n",
    "t = 300\n",
    "s=30\n",
    "se=s/(n**0.5) #4.24\n",
    "\n",
    "z_score = (x_bar-t)/se\n",
    "critical_region=stats.norm(0,1).ppf(alpha)\n",
    "ppf=stats.norm(0,1).ppf(1-alpha)\n",
    "\n",
    "p_value = 1 - stats.norm(0,1).cdf(z_score)\n",
    "\n",
    "z_score, critical_region, ppf, p_value, p_value * 100 \n",
    "# 11.91% == 12 %\n",
    "#p>0.005 entonces se acepta (no se rechaza) Ho, se entiende que dura más\n",
    "# 1-sig cola derecha, sig cola izquierda, sig/2 ambas colas"
   ]
  },
  {
   "cell_type": "code",
   "execution_count": null,
   "id": "daca68ab",
   "metadata": {},
   "outputs": [],
   "source": []
  },
  {
   "cell_type": "code",
   "execution_count": 18,
   "id": "a91db404",
   "metadata": {},
   "outputs": [
    {
     "data": {
      "text/plain": [
       "(-17.74823934929882, -2.575829303548901, 1.0)"
      ]
     },
     "execution_count": 18,
     "metadata": {},
     "output_type": "execute_result"
    }
   ],
   "source": [
    "#Un fabricante de aderezos para ensaladas utiliza una máquina para dispensar los ingredientes líquidos en botellas que se mueven a lo largo de una línea de llenado. La dispensadora funciona correctamente con una cantidad de 8 onzas.\n",
    "#Supongamos que la cantidad media dispensada en una muestra de 35 botellas es de 7.91 onzas con una varianza de 0.03 onzas al cuadrado. \n",
    "#Determinar si la máquina debe detenerse y la producción debe esperar hasta que se repare la máquina\n",
    "#La pérdida de producción derivada de una parada es tan grande que la dirección cree que el nivel de significación en el análisis debe ser del 99%.\n",
    "\n",
    "sig=0.01\n",
    "t=8\n",
    "n=35\n",
    "m=7.91\n",
    "s= 0.03 #(0.03*0.03)**0.5\n",
    "denominador = s/(n**0.5)\n",
    "\n",
    "z_score = (m-t)/denominador\n",
    "ppf=stats.norm(0,1).ppf(sig/2)\n",
    "p_value = 1 - stats.norm(0,1).cdf(z_score)\n",
    "\n",
    "z_score, ppf, p_value"
   ]
  },
  {
   "cell_type": "code",
   "execution_count": 16,
   "id": "762e57f0",
   "metadata": {},
   "outputs": [
    {
     "data": {
      "text/plain": [
       "(-2.5089123466169267,\n",
       " -2.3263478740408408,\n",
       " 2.3263478740408408,\n",
       " 0.006055176555648026)"
      ]
     },
     "execution_count": 16,
     "metadata": {},
     "output_type": "execute_result"
    }
   ],
   "source": [
    "#Una empresa de bebidas afirma que sus botellas de agua tienen exactamente 16 onzas. \n",
    "#Las muestras se encuentran en el documento “wáter.csv”\n",
    "#Elaborar una prueba de hipótesis con alfa = 1%.\n",
    "bebidas = pd.read_csv('./water.csv')\n",
    "alpha = 0.01  # 1% \n",
    "\n",
    "x_bar = bebidas['0'].mean()\n",
    "stddesv = bebidas['0'].std()\n",
    "n = df_bebidas['0'].count()\n",
    "t = 16\n",
    "se = stddesv / (n**0.5)\n",
    "\n",
    "z_score = (x_bar-t)/se\n",
    "critical_region=stats.norm(0,1).ppf(alpha)\n",
    "ppf=stats.norm(0,1).ppf(1-alpha)\n",
    "p_value = stats.norm(0,1).cdf(z_score)\n",
    "\n",
    "z_score, critical_region, ppf, p_value\n",
    "\n",
    "# we no reject Ho, p > 0.005"
   ]
  },
  {
   "cell_type": "code",
   "execution_count": 20,
   "id": "07e5103b",
   "metadata": {},
   "outputs": [
    {
     "data": {
      "text/plain": [
       "(2.1920465567410328,\n",
       " 2.796939504772804,\n",
       " 0.0383135642841681,\n",
       " 'P es mayor a alpha entonces no se rechaza la hipotesis')"
      ]
     },
     "execution_count": 20,
     "metadata": {},
     "output_type": "execute_result"
    }
   ],
   "source": [
    "#La escala Brinell es una medida de la dureza de un material. Un ingeniero supone que la puntuación Brinell \n",
    "#media de todas las piezas de cierto tipo de material (hierro dúctil recocido subcríticamente) no es igual a 170. \n",
    "#El ingeniero mide 25 piezas de este tipo de material y calcula que la media de la muestra es de 174.52 y la desviación \n",
    "#estándar de la muestra es de 10.31. \n",
    "#Elaborar una prueba de hipótesis de que la verdadera puntuación Brinell media no es igual a 170, así como el \n",
    "#correspondiente intervalo de confianza con alfa = 0.01.\n",
    "\n",
    "sig = .005 \n",
    "\n",
    "media = 174.52\n",
    "desviacion = 10.31\n",
    "muestra = 25\n",
    "Mu = 170\n",
    "\n",
    "#Tamaño de la muestra menor a 30 entonces usare una prueba T\n",
    "t = (media - Mu) / (desviacion/(muestra)**.5)\n",
    "\n",
    "t_crit = stats.t.ppf(q=1-sig, df=24)\n",
    "p_value = 2*(1-stats.t.cdf(x=t,df=24))\n",
    "\n",
    "t,t_crit,p_value,'P es mayor a alpha entonces no se rechaza la hipotesis'"
   ]
  },
  {
   "cell_type": "code",
   "execution_count": 21,
   "id": "101558a5",
   "metadata": {},
   "outputs": [
    {
     "data": {
      "text/plain": [
       "(2.081728548586485,\n",
       " 1.7613101357748562,\n",
       " 0.028099370183143346,\n",
       " 'P es menor a alpha entonces se rechaza la hipotesis')"
      ]
     },
     "execution_count": 21,
     "metadata": {},
     "output_type": "execute_result"
    }
   ],
   "source": [
    "#Matías tiene ocho años, y estableció un tiempo medio de 16.43 segundos para nadar 22 metros de estilo libre. \n",
    "#Su padre, Paco, pensaba que Jeffrey podría disminuir este tiempo usando goggles. Paco le compró a Jeffrey un nuevo \n",
    "#par de goggles y cronometró a Matías durante 15 pruebas de 22 metros estilo libre.\n",
    "#En las 15 pruebas, el tiempo medio de Matías fue de 16 segundos, con una desviación estándar de 0.8 segundos. \n",
    "#Paco pensó que las gafas ayudaban a Matías a nadar más rápido que antes. \n",
    "#Elaborar una prueba de hipótesis utilizando un alfa= 0.05.\n",
    "significancia = .05  \n",
    "\n",
    "media = 16.43\n",
    "desviacion = .8 #de la muestra\n",
    "muestra = 15\n",
    "Mu = 16 #media de la muestra\n",
    "\n",
    "#Tamaño de la muestra menor a 30 entonces usare una prueba T\n",
    "\n",
    "t = (media - Mu) / (desviacion/(muestra)**.5)\n",
    "\n",
    "t_crit = stats.t.ppf(q=1-significancia, df=14)\n",
    "p_value = (1-stats.t.cdf(x=t,df=14))\n",
    "\n",
    "#H0 = los googles reducen el tiempo ?\n",
    "\n",
    "t,t_crit,p_value,'P es menor a alpha entonces se rechaza la hipotesis'"
   ]
  },
  {
   "cell_type": "code",
   "execution_count": 22,
   "id": "b661dff4",
   "metadata": {},
   "outputs": [
    {
     "data": {
      "text/plain": [
       "0.049999999999999975"
      ]
     },
     "execution_count": 22,
     "metadata": {},
     "output_type": "execute_result"
    }
   ],
   "source": [
    "#El corcho natural de las botellas de vino se deteriora, por lo que el vino de las botellas puede contaminarse. \n",
    "#El artículo \"Effects of Bottle Closure Type on Consumer Perceptions of Wine Quality\" (Amer. J. of Enology and Viticulture, \n",
    "#2007: 182-191) informó de que, en una cata de chardonnays comerciales, 16 de 91 botellas se consideraron estropeadas \n",
    "#en cierta medida por características asociadas al corcho.\n",
    "#¿Esta información es suficiente para concluir que más del 15% de todas esas botellas están contaminadas de esta manera? \n",
    "#Utilizar un nivel de significancia igual a 0.10.\n",
    "sig = .05  \n",
    "\n",
    "ppf = stats.norm(0,1).ppf(sig)\n",
    "\n",
    "p_value =  stats.norm(0,1).cdf(ppf)\n",
    "\n",
    "p_value"
   ]
  },
  {
   "cell_type": "code",
   "execution_count": null,
   "id": "1be07d17",
   "metadata": {},
   "outputs": [],
   "source": []
  }
 ],
 "metadata": {
  "kernelspec": {
   "display_name": "Python 3 (ipykernel)",
   "language": "python",
   "name": "python3"
  },
  "language_info": {
   "codemirror_mode": {
    "name": "ipython",
    "version": 3
   },
   "file_extension": ".py",
   "mimetype": "text/x-python",
   "name": "python",
   "nbconvert_exporter": "python",
   "pygments_lexer": "ipython3",
   "version": "3.9.12"
  }
 },
 "nbformat": 4,
 "nbformat_minor": 5
}
