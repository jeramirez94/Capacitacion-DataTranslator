{
 "cells": [
  {
   "cell_type": "markdown",
   "id": "2b200dbd-6af4-4f2d-bb3d-ac26c30bbdcb",
   "metadata": {},
   "source": [
    "# Imports"
   ]
  },
  {
   "cell_type": "code",
   "execution_count": 1,
   "id": "242147b2-c1bf-41cf-9b45-5cc9dd5493f5",
   "metadata": {},
   "outputs": [],
   "source": [
    "import numpy as np\n",
    "import scipy.stats as stats"
   ]
  },
  {
   "cell_type": "markdown",
   "id": "7da0e8fa-f5b2-46a0-8896-cd866a56d874",
   "metadata": {},
   "source": [
    "# Actividad"
   ]
  },
  {
   "cell_type": "code",
   "execution_count": 2,
   "id": "54f8039f-6180-4258-8384-652d29a64c67",
   "metadata": {},
   "outputs": [],
   "source": [
    "# Crear una distribución normal Q1. Create a Standard Normal Distribution"
   ]
  },
  {
   "cell_type": "code",
   "execution_count": 3,
   "id": "3c4a8840-ccec-4bb6-80a5-b234fe435514",
   "metadata": {},
   "outputs": [],
   "source": [
    "# Cuál es la p(desviación estándar entre -1 y +1)"
   ]
  },
  {
   "cell_type": "code",
   "execution_count": 4,
   "id": "5ecf42a7-6aa1-4e92-80e4-e9c24fadc278",
   "metadata": {},
   "outputs": [],
   "source": [
    "# Qué valor en el eje de las Xs brindará un 95% de confianza?\n",
    "# Solución 1?\n",
    "# Solución 2?"
   ]
  },
  {
   "cell_type": "code",
   "execution_count": 5,
   "id": "5a5610dd-b784-4262-8e38-5b9755755962",
   "metadata": {},
   "outputs": [],
   "source": [
    "# La probabilidad de que Sam no encuentre un empleo es de 74%. Si Sam aplica a 25 empleos\n",
    "# Cuál es la probabilidad de que obtenga menos de tres ofertas?"
   ]
  },
  {
   "cell_type": "code",
   "execution_count": null,
   "id": "36da15e1-045c-4e9d-884a-26aabc6113df",
   "metadata": {},
   "outputs": [],
   "source": []
  }
 ],
 "metadata": {
  "kernelspec": {
   "display_name": "Python 3 (ipykernel)",
   "language": "python",
   "name": "python3"
  },
  "language_info": {
   "codemirror_mode": {
    "name": "ipython",
    "version": 3
   },
   "file_extension": ".py",
   "mimetype": "text/x-python",
   "name": "python",
   "nbconvert_exporter": "python",
   "pygments_lexer": "ipython3",
   "version": "3.9.7"
  }
 },
 "nbformat": 4,
 "nbformat_minor": 5
}
