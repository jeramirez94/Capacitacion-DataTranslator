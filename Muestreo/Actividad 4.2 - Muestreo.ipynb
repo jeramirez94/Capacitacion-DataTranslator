{
 "cells": [
  {
   "cell_type": "code",
   "execution_count": 1,
   "id": "3c10897e",
   "metadata": {},
   "outputs": [],
   "source": [
    "import numpy as np\n",
    "import pandas as pd\n",
    "import scipy as sp\n",
    "import scipy.stats as stats\n",
    "import matplotlib.pyplot as plt"
   ]
  },
  {
   "cell_type": "code",
   "execution_count": 11,
   "id": "fb36accc",
   "metadata": {},
   "outputs": [],
   "source": [
    "binomial = stats.binom(n=25, p=0.7)\n",
    "#plt.bar(range(0,25),binomial.pmf(range(0,25)))"
   ]
  },
  {
   "cell_type": "code",
   "execution_count": 12,
   "id": "a4e56d7a",
   "metadata": {},
   "outputs": [],
   "source": [
    "uniforme = stats.randint(low=1, high=7)\n",
    "#plt.bar(range(1,7),uniforme.pmf(range(1,7)))"
   ]
  },
  {
   "cell_type": "code",
   "execution_count": 13,
   "id": "b3a06bef",
   "metadata": {},
   "outputs": [],
   "source": [
    "exponencial = stats.expon(10)\n",
    "#plt.plot(range(10,25), exponencial.cdf(range(10,25)))\n",
    "#plt.scatter(range(10,25), exponencial.cdf(range(10,25)), c=\"r\", marker=\"*\")"
   ]
  },
  {
   "cell_type": "code",
   "execution_count": 15,
   "id": "5b40e535",
   "metadata": {},
   "outputs": [],
   "source": [
    "np.random.seed(100)\n",
    "binom_sample = binomial.rvs(300)\n",
    "#binom_sample"
   ]
  },
  {
   "cell_type": "code",
   "execution_count": 17,
   "id": "2f74cea1",
   "metadata": {},
   "outputs": [],
   "source": [
    "np.random.seed(100)\n",
    "unif_sample = uniforme.rvs(300)\n",
    "#unif_sample"
   ]
  },
  {
   "cell_type": "code",
   "execution_count": 19,
   "id": "fdbd58d0",
   "metadata": {},
   "outputs": [],
   "source": [
    "np.random.seed(100)\n",
    "expon_sample = exponencial.rvs(300)\n",
    "#expon_sample"
   ]
  },
  {
   "cell_type": "code",
   "execution_count": 25,
   "id": "00a9a6c5",
   "metadata": {},
   "outputs": [],
   "source": [
    "def bootstrap(data, n_samples=100):\n",
    "    bootstrap_medians=[]\n",
    "    bootstrap_mean=[]\n",
    "    bootstrap_23=[]\n",
    "    for i in range(n_samples):\n",
    "        bootstrap_sample=np.random.choice(data, size=len(data),replace=True)\n",
    "        bootstrap_medians.append(np.median(bootstrap_sample))\n",
    "        bootstrap_mean.append(np.mean(bootstrap_sample))\n",
    "        bootstrap_23.append(np.percentile(bootstrap_sample,23))\n",
    "    fig,ax=plt.subplots(1,figsize=(15,4))\n",
    "    ax.hist(bootstrap_medians, bins=25, density=True, color=\"black\", alpha=0.4, label=\"Medians\")\n",
    "    ax.hist(bootstrap_mean, bins=25, density=True, color=\"red\", alpha=0.75, label=\"Medias\")\n",
    "    ax.hist(bootstrap_23, bins=25, density=True, color=\"blue\", alpha=0.6, label=\"Percentil23\")\n",
    "    ax.legend()\n",
    "    return bootstrap_medians, bootstrap_mean, bootstrap_23"
   ]
  },
  {
   "cell_type": "code",
   "execution_count": 26,
   "id": "db28c9ea",
   "metadata": {},
   "outputs": [
    {
     "data": {
      "image/png": "[encoded data removed]",
      "text/plain": [
       "<Figure size 1080x288 with 1 Axes>"
      ]
     },
     "metadata": {
      "needs_background": "light"
     },
     "output_type": "display_data"
    }
   ],
   "source": [
    "binom_median, binom_mean, binom_23 = bootstrap(binom_sample)"
   ]
  },
  {
   "cell_type": "code",
   "execution_count": 27,
   "id": "91abf1ac",
   "metadata": {},
   "outputs": [
    {
     "data": {
      "image/png": "[encoded data removed]",
      "text/plain": [
       "<Figure size 1080x288 with 1 Axes>"
      ]
     },
     "metadata": {
      "needs_background": "light"
     },
     "output_type": "display_data"
    }
   ],
   "source": [
    "unif_median, unif_mean, unif_23 = bootstrap(unif_sample)"
   ]
  },
  {
   "cell_type": "code",
   "execution_count": 28,
   "id": "3ba34526",
   "metadata": {},
   "outputs": [
    {
     "data": {
      "image/png": "[encoded data removed]",
      "text/plain": [
       "<Figure size 1080x288 with 1 Axes>"
      ]
     },
     "metadata": {
      "needs_background": "light"
     },
     "output_type": "display_data"
    }
   ],
   "source": [
    "expon_median, expon_mean, expon_23 = bootstrap(expon_sample)"
   ]
  },
  {
   "cell_type": "code",
   "execution_count": 35,
   "id": "98643706",
   "metadata": {},
   "outputs": [
    {
     "name": "stdout",
     "output_type": "stream",
     "text": [
      "Media  17.45\n",
      "IC bootstrap [17.20, 17.74]\n"
     ]
    }
   ],
   "source": [
    "#media binomial\n",
    "izq=np.percentile(binom_mean, 2.5) #-- IC=97.5 derecha\n",
    "der=np.percentile(binom_mean, 97.5)\n",
    "print(\"Media \", np.mean(binom_sample))\n",
    "print(\"IC bootstrap [{:2.2f}, {:2.2f}]\".format(izq,der))"
   ]
  },
  {
   "cell_type": "code",
   "execution_count": 44,
   "id": "364d9abf",
   "metadata": {},
   "outputs": [],
   "source": [
    "doc = open(\"productivity.txt\",\"r\")\n",
    "sample = doc.readlines()"
   ]
  },
  {
   "cell_type": "code",
   "execution_count": 45,
   "id": "7e280f61",
   "metadata": {},
   "outputs": [
    {
     "name": "stderr",
     "output_type": "stream",
     "text": [
      "C:\\Users\\jeramirez\\AppData\\Local\\Temp\\ipykernel_27656\\681393566.py:1: DeprecationWarning: `np.float` is a deprecated alias for the builtin `float`. To silence this warning, use `float` by itself. Doing this will not modify any behavior and is safe. If you specifically wanted the numpy scalar type, use `np.float64` here.\n",
      "Deprecated in NumPy 1.20; for more details and guidance: https://numpy.org/devdocs/release/1.20.0-notes.html#deprecations\n",
      "  sample_values = np.array(sample).astype(np.float)\n"
     ]
    }
   ],
   "source": [
    "sample_values = np.array(sample).astype(np.float)"
   ]
  },
  {
   "cell_type": "code",
   "execution_count": 46,
   "id": "233e255e",
   "metadata": {},
   "outputs": [],
   "source": [
    "#CI = Intervalo de confianza\n",
    "def bootstrap_ci(sample_values, stat_function=np.mean, resamples=10000, ci=95):\n",
    "    statistics = np.zeros(resamples)\n",
    "    for i in range(resamples):\n",
    "        bootstrap = np.random.choice(sample_values, len(sample_values), replace=True)\n",
    "        statistic = stat_function(bootstrap)\n",
    "        statistics[i] = statistic\n",
    "    lower_bound = (100-ci)/2\n",
    "    return np.percentile(statistics, lower_bound), stat_function(sample_values), np.percentile(statistics, 100-lower_bound), statistics"
   ]
  },
  {
   "cell_type": "code",
   "execution_count": 47,
   "id": "af1d8a91",
   "metadata": {},
   "outputs": [],
   "source": [
    "lower, estimate, upper, bootstraps = bootstrap_ci(sample_values)"
   ]
  },
  {
   "cell_type": "code",
   "execution_count": 48,
   "id": "0284e279",
   "metadata": {},
   "outputs": [
    {
     "data": {
      "text/plain": [
       "(-0.05999999999999987,\n",
       " 5.044,\n",
       " 10.308099999999998,\n",
       " array([ 7.368,  6.6  ,  7.016, ..., -0.236,  7.688,  0.504]))"
      ]
     },
     "execution_count": 48,
     "metadata": {},
     "output_type": "execute_result"
    }
   ],
   "source": [
    "lower, estimate, upper, bootstraps"
   ]
  },
  {
   "cell_type": "code",
   "execution_count": 49,
   "id": "9c5600b6",
   "metadata": {},
   "outputs": [
    {
     "data": {
      "text/plain": [
       "(array([  22.,  144.,  720., 1691., 2649., 2571., 1524.,  530.,  123.,\n",
       "          26.]),\n",
       " array([-4.272 , -2.3704, -0.4688,  1.4328,  3.3344,  5.236 ,  7.1376,\n",
       "         9.0392, 10.9408, 12.8424, 14.744 ]),\n",
       " <BarContainer object of 10 artists>)"
      ]
     },
     "execution_count": 49,
     "metadata": {},
     "output_type": "execute_result"
    },
    {
     "data": {
      "image/png": "[encoded data removed]",
      "text/plain": [
       "<Figure size 432x288 with 1 Axes>"
      ]
     },
     "metadata": {
      "needs_background": "light"
     },
     "output_type": "display_data"
    }
   ],
   "source": [
    "plt.hist(bootstraps)"
   ]
  },
  {
   "cell_type": "code",
   "execution_count": null,
   "id": "70c65d04",
   "metadata": {},
   "outputs": [],
   "source": []
  }
 ],
 "metadata": {
  "kernelspec": {
   "display_name": "Python 3 (ipykernel)",
   "language": "python",
   "name": "python3"
  },
  "language_info": {
   "codemirror_mode": {
    "name": "ipython",
    "version": 3
   },
   "file_extension": ".py",
   "mimetype": "text/x-python",
   "name": "python",
   "nbconvert_exporter": "python",
   "pygments_lexer": "ipython3",
   "version": "3.9.12"
  }
 },
 "nbformat": 4,
 "nbformat_minor": 5
}
