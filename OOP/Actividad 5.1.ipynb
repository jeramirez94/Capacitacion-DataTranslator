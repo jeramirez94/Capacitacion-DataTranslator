{
 "cells": [
  {
   "cell_type": "code",
   "execution_count": 1,
   "id": "a44a5374",
   "metadata": {},
   "outputs": [],
   "source": [
    "from math import sqrt"
   ]
  },
  {
   "cell_type": "code",
   "execution_count": 17,
   "id": "33236b9f",
   "metadata": {},
   "outputs": [],
   "source": [
    "class calculador:\n",
    "    def __init__(self, numero1, numero2):\n",
    "        self.numero1 = float(numero1)\n",
    "        self.numero2 = float(numero2)\n",
    "        \n",
    "    def suma(self):\n",
    "        suma = self.numero1 + self.numero2\n",
    "        print(\"La suma de {0}+{1} es {2}\"\n",
    "              .format(self.numero1,self.numero2,suma))\n",
    "        \n",
    "    def resta(self):\n",
    "        resta = self.numero1 - self.numero2\n",
    "        print(\"La resta de {0}-{1} es {2}\"\n",
    "              .format(self.numero1,self.numero2,resta))\n",
    "        \n",
    "    def multiplicacion(self):\n",
    "        multiplicacion = self.numero1 * self.numero2\n",
    "        print(\"La multiplicación de {0}*{1} es {2}\"\n",
    "              .format(self.numero1,self.numero2,multiplicacion))\n",
    "        \n",
    "    def division(self):\n",
    "        division = self.numero1 / self.numero2\n",
    "        print(\"El división de {0}/{1} es {2:.2f}\"\n",
    "              .format(self.numero1,self.numero2,division))\n",
    "        \n",
    "    def raiz(self):\n",
    "        raiz1 = sqrt(self.numero1)\n",
    "        raiz2 = sqrt(self.numero2)\n",
    "        print(\"La raíz de {0} es {1:.2f} y la raíz de {2} es {3:.2f}\"\n",
    "              .format(self.numero1,raiz1, self.numero2,raiz2))\n",
    "        \n",
    "    def potencia(self):\n",
    "        potencia = self.numero1 ** self.numero2\n",
    "        print(\"La potencia de {0}^{1} es {2}\"\n",
    "              .format(self.numero1,self.numero2,potencia))\n",
    "        "
   ]
  },
  {
   "cell_type": "code",
   "execution_count": 18,
   "id": "8b13af56",
   "metadata": {},
   "outputs": [
    {
     "name": "stdout",
     "output_type": "stream",
     "text": [
      "Ingrese el primer número: 5\n",
      "Ingrese el segundo número: 6\n",
      "La suma de 5.0+6.0 es 11.0\n",
      "La resta de 5.0-6.0 es -1.0\n",
      "El división de 5.0/6.0 es 0.83\n",
      "La multiplicación de 5.0*6.0 es 30.0\n",
      "La raíz de 5.0 es 2.24 y la raíz de 6.0 es 2.45\n",
      "La potencia de 5.0^6.0 es 15625.0\n"
     ]
    }
   ],
   "source": [
    "numero1 = input(\"Ingrese el primer número: \")\n",
    "numero2 = input(\"Ingrese el segundo número: \")\n",
    "calculador = calculador(numero1,numero2)\n",
    "calculador.suma()\n",
    "calculador.resta()\n",
    "calculador.division()\n",
    "calculador.multiplicacion()\n",
    "calculador.raiz()\n",
    "calculador.potencia()"
   ]
  },
  {
   "cell_type": "code",
   "execution_count": null,
   "id": "76aa6417",
   "metadata": {},
   "outputs": [],
   "source": []
  }
 ],
 "metadata": {
  "kernelspec": {
   "display_name": "Python 3 (ipykernel)",
   "language": "python",
   "name": "python3"
  },
  "language_info": {
   "codemirror_mode": {
    "name": "ipython",
    "version": 3
   },
   "file_extension": ".py",
   "mimetype": "text/x-python",
   "name": "python",
   "nbconvert_exporter": "python",
   "pygments_lexer": "ipython3",
   "version": "3.9.12"
  }
 },
 "nbformat": 4,
 "nbformat_minor": 5
}
