{
 "cells": [
  {
   "cell_type": "code",
   "execution_count": 20,
   "id": "4ecf3b4b",
   "metadata": {},
   "outputs": [],
   "source": [
    "from sklearn.model_selection import train_test_split\n",
    "from sklearn.neighbors import KNeighborsRegressor\n",
    "from sklearn.model_selection import KFold\n",
    "from sklearn.model_selection import cross_val_score\n",
    "import numpy as np\n",
    "from sklearn.datasets import load_boston\n",
    "from sklearn.metrics import mean_squared_error\n",
    "import matplotlib.pyplot as plt"
   ]
  },
  {
   "cell_type": "code",
   "execution_count": 2,
   "id": "4cedba20",
   "metadata": {},
   "outputs": [
    {
     "name": "stderr",
     "output_type": "stream",
     "text": [
      "C:\\Users\\jeramirez\\Anaconda3\\lib\\site-packages\\sklearn\\utils\\deprecation.py:87: FutureWarning: Function load_boston is deprecated; `load_boston` is deprecated in 1.0 and will be removed in 1.2.\n",
      "\n",
      "    The Boston housing prices dataset has an ethical problem. You can refer to\n",
      "    the documentation of this function for further details.\n",
      "\n",
      "    The scikit-learn maintainers therefore strongly discourage the use of this\n",
      "    dataset unless the purpose of the code is to study and educate about\n",
      "    ethical issues in data science and machine learning.\n",
      "\n",
      "    In this special case, you can fetch the dataset from the original\n",
      "    source::\n",
      "\n",
      "        import pandas as pd\n",
      "        import numpy as np\n",
      "\n",
      "\n",
      "        data_url = \"http://lib.stat.cmu.edu/datasets/boston\"\n",
      "        raw_df = pd.read_csv(data_url, sep=\"\\s+\", skiprows=22, header=None)\n",
      "        data = np.hstack([raw_df.values[::2, :], raw_df.values[1::2, :2]])\n",
      "        target = raw_df.values[1::2, 2]\n",
      "\n",
      "    Alternative datasets include the California housing dataset (i.e.\n",
      "    :func:`~sklearn.datasets.fetch_california_housing`) and the Ames housing\n",
      "    dataset. You can load the datasets as follows::\n",
      "\n",
      "        from sklearn.datasets import fetch_california_housing\n",
      "        housing = fetch_california_housing()\n",
      "\n",
      "    for the California housing dataset and::\n",
      "\n",
      "        from sklearn.datasets import fetch_openml\n",
      "        housing = fetch_openml(name=\"house_prices\", as_frame=True)\n",
      "\n",
      "    for the Ames housing dataset.\n",
      "    \n",
      "  warnings.warn(msg, category=FutureWarning)\n"
     ]
    }
   ],
   "source": [
    "boston = load_boston()\n",
    "x = boston.data\n",
    "y = boston.target"
   ]
  },
  {
   "cell_type": "code",
   "execution_count": 10,
   "id": "a6b3117b",
   "metadata": {},
   "outputs": [],
   "source": [
    "X_train, X_test, y_train, y_test = train_test_split(x, y, test_size = 0.25)"
   ]
  },
  {
   "cell_type": "code",
   "execution_count": 4,
   "id": "d68a4a2a",
   "metadata": {},
   "outputs": [],
   "source": [
    "ytest = np.array([0,1,2])"
   ]
  },
  {
   "cell_type": "code",
   "execution_count": 5,
   "id": "a925b6af",
   "metadata": {},
   "outputs": [],
   "source": [
    "ypred = np.array([0.5,.3,2])"
   ]
  },
  {
   "cell_type": "code",
   "execution_count": 11,
   "id": "9995702e",
   "metadata": {},
   "outputs": [],
   "source": [
    "def rmse (a,b):\n",
    "    result = (((a - b)**2).mean())**0.5\n",
    "    return result"
   ]
  },
  {
   "cell_type": "code",
   "execution_count": 12,
   "id": "9f4299cf",
   "metadata": {},
   "outputs": [
    {
     "name": "stdout",
     "output_type": "stream",
     "text": [
      "RMSE for training set  4.999937097229654\n",
      "RMSE for test set  6.908140581894132\n"
     ]
    }
   ],
   "source": [
    "# Fit your model using the training set\n",
    "reg = KNeighborsRegressor()\n",
    "reg.fit(X_train, y_train)\n",
    "\n",
    "# Call predict to get the predicted values for training and test set\n",
    "train_predicted = reg.predict(X_train)\n",
    "test_predicted = reg.predict(X_test)\n",
    "\n",
    "# Calculate RMSE for training and test set\n",
    "print( 'RMSE for training set ', rmse(y_train, train_predicted) )\n",
    "print( 'RMSE for test set ', rmse(y_test, test_predicted) )"
   ]
  },
  {
   "cell_type": "code",
   "execution_count": 14,
   "id": "b97c1163",
   "metadata": {},
   "outputs": [
    {
     "data": {
      "text/plain": [
       "24.9993709762533"
      ]
     },
     "execution_count": 14,
     "metadata": {},
     "output_type": "execute_result"
    }
   ],
   "source": [
    "mean_squared_error(y_train,train_predicted)"
   ]
  },
  {
   "cell_type": "code",
   "execution_count": 15,
   "id": "7737aca7",
   "metadata": {},
   "outputs": [
    {
     "data": {
      "text/plain": [
       "47.7224062992126"
      ]
     },
     "execution_count": 15,
     "metadata": {},
     "output_type": "execute_result"
    }
   ],
   "source": [
    "mean_squared_error(y_test,test_predicted)"
   ]
  },
  {
   "cell_type": "code",
   "execution_count": 16,
   "id": "7f099781",
   "metadata": {},
   "outputs": [],
   "source": [
    "def cross_val(a,b,folds, k):\n",
    "    kf = KFold(n_splits=folds)\n",
    "    knn = KNeighborsRegressor(n_neighbors=k)\n",
    "    temp = np.zeros(folds)\n",
    "    temp2 = np.zeros(folds)\n",
    "    for j, (train_index, val_index) in enumerate(kf.split(a)):\n",
    "        X_tr = a[train_index]\n",
    "        y_tr = b[train_index]\n",
    "        X_vl = a[val_index]\n",
    "        y_vl = b[val_index]\n",
    "\n",
    "        y_pred = knn.fit(X_tr, y_tr).predict(X_vl)\n",
    "        temp[j] = rmse(y_pred, y_vl)\n",
    "        y_pred2 = knn.fit(X_tr, y_tr).predict(X_tr)\n",
    "        temp2[j] = rmse(y_pred2, y_tr)\n",
    "        #temp2[j] = mean_squared_error(y_pred, y_vl)\n",
    "    return temp.mean(), temp2.mean()"
   ]
  },
  {
   "cell_type": "code",
   "execution_count": 17,
   "id": "0fb841b8",
   "metadata": {},
   "outputs": [],
   "source": [
    "neighbors = np.array(range(1,101))\n",
    "prediccion = np.zeros(100)\n",
    "training = np.zeros(100)"
   ]
  },
  {
   "cell_type": "code",
   "execution_count": 18,
   "id": "58bdc247",
   "metadata": {},
   "outputs": [],
   "source": [
    "for i,j in enumerate(neighbors):\n",
    "    prediccion[i],training[i] = cross_val(X_train, y_train, 5, j)"
   ]
  },
  {
   "cell_type": "code",
   "execution_count": 21,
   "id": "acdec4ef",
   "metadata": {},
   "outputs": [
    {
     "data": {
      "text/plain": [
       "Text(0.5, 0.98, 'Bias vs Variance')"
      ]
     },
     "execution_count": 21,
     "metadata": {},
     "output_type": "execute_result"
    },
    {
     "data": {
      "image/png": "[encoded data removed]",
      "text/plain": [
       "<Figure size 864x432 with 1 Axes>"
      ]
     },
     "metadata": {
      "needs_background": "light"
     },
     "output_type": "display_data"
    }
   ],
   "source": [
    "fig, ax = plt.subplots(figsize=(12,6))\n",
    "ax.plot(neighbors, prediccion, color='red')\n",
    "ax.plot(neighbors, training, color='blue',marker='*')\n",
    "ax.set_xlabel('Neighbors (K)')\n",
    "ax.set_ylabel('RMSE')\n",
    "fig.suptitle('Bias vs Variance')"
   ]
  },
  {
   "cell_type": "code",
   "execution_count": null,
   "id": "70a61d0b",
   "metadata": {},
   "outputs": [],
   "source": []
  }
 ],
 "metadata": {
  "kernelspec": {
   "display_name": "Python 3 (ipykernel)",
   "language": "python",
   "name": "python3"
  },
  "language_info": {
   "codemirror_mode": {
    "name": "ipython",
    "version": 3
   },
   "file_extension": ".py",
   "mimetype": "text/x-python",
   "name": "python",
   "nbconvert_exporter": "python",
   "pygments_lexer": "ipython3",
   "version": "3.9.12"
  }
 },
 "nbformat": 4,
 "nbformat_minor": 5
}
