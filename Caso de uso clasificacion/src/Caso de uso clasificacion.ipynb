{
 "cells": [
  {
   "cell_type": "code",
   "execution_count": 1,
   "metadata": {},
   "outputs": [],
   "source": [
    "import pandas as pd\n",
    "import numpy as np\n",
    "import seaborn as sns\n",
    "import matplotlib.pyplot as plt\n",
    "from functions import Cleaner\n",
    "from Models import Models\n",
    "import matplotlib.pyplot as plt\n",
    "from sklearn.model_selection import KFold, GridSearchCV, cross_val_score\n",
    "\n",
    "from sklearn.neighbors import KNeighborsClassifier\n",
    "from sklearn.tree import DecisionTreeClassifier\n",
    "from sklearn.ensemble import RandomForestClassifier\n",
    "from xgboost import XGBClassifier\n",
    "import xgboost\n",
    "\n",
    "\n"
   ]
  },
  {
   "cell_type": "code",
   "execution_count": 2,
   "metadata": {},
   "outputs": [],
   "source": [
    "df=pd.read_csv('../data/churn_train.csv')\n",
    "df_test=pd.read_csv('../data/churn_test.csv')"
   ]
  },
  {
   "cell_type": "code",
   "execution_count": 3,
   "metadata": {},
   "outputs": [],
   "source": [
    "cols=df.columns.tolist()\n",
    "clean = Cleaner(cols)\n",
    "\n",
    "clean.fit(df)\n",
    "X_train=clean.transform(df)\n",
    "y_train = clean.get_target(df)\n",
    "\n",
    "X_test=clean.transform(df_test)\n",
    "y_test = clean.get_target(df_test)"
   ]
  },
  {
   "cell_type": "code",
   "execution_count": 4,
   "metadata": {},
   "outputs": [
    {
     "data": {
      "text/html": [
       "<div>\n",
       "<style scoped>\n",
       "    .dataframe tbody tr th:only-of-type {\n",
       "        vertical-align: middle;\n",
       "    }\n",
       "\n",
       "    .dataframe tbody tr th {\n",
       "        vertical-align: top;\n",
       "    }\n",
       "\n",
       "    .dataframe thead th {\n",
       "        text-align: right;\n",
       "    }\n",
       "</style>\n",
       "<table border=\"1\" class=\"dataframe\">\n",
       "  <thead>\n",
       "    <tr style=\"text-align: right;\">\n",
       "      <th></th>\n",
       "      <th>count</th>\n",
       "      <th>mean</th>\n",
       "      <th>std</th>\n",
       "      <th>min</th>\n",
       "      <th>25%</th>\n",
       "      <th>50%</th>\n",
       "      <th>75%</th>\n",
       "      <th>max</th>\n",
       "    </tr>\n",
       "  </thead>\n",
       "  <tbody>\n",
       "    <tr>\n",
       "      <th>avg_dist</th>\n",
       "      <td>40000.0</td>\n",
       "      <td>5.791302</td>\n",
       "      <td>5.708056</td>\n",
       "      <td>0.0</td>\n",
       "      <td>2.42</td>\n",
       "      <td>3.88</td>\n",
       "      <td>6.93</td>\n",
       "      <td>160.96</td>\n",
       "    </tr>\n",
       "    <tr>\n",
       "      <th>avg_rating_by_driver</th>\n",
       "      <td>40000.0</td>\n",
       "      <td>4.777434</td>\n",
       "      <td>0.447180</td>\n",
       "      <td>1.0</td>\n",
       "      <td>4.70</td>\n",
       "      <td>5.00</td>\n",
       "      <td>5.00</td>\n",
       "      <td>5.00</td>\n",
       "    </tr>\n",
       "    <tr>\n",
       "      <th>avg_rating_of_driver</th>\n",
       "      <td>40000.0</td>\n",
       "      <td>4.601697</td>\n",
       "      <td>0.562407</td>\n",
       "      <td>1.0</td>\n",
       "      <td>4.50</td>\n",
       "      <td>4.70</td>\n",
       "      <td>5.00</td>\n",
       "      <td>5.00</td>\n",
       "    </tr>\n",
       "    <tr>\n",
       "      <th>avg_surge</th>\n",
       "      <td>40000.0</td>\n",
       "      <td>1.074956</td>\n",
       "      <td>0.222427</td>\n",
       "      <td>1.0</td>\n",
       "      <td>1.00</td>\n",
       "      <td>1.00</td>\n",
       "      <td>1.05</td>\n",
       "      <td>8.00</td>\n",
       "    </tr>\n",
       "    <tr>\n",
       "      <th>last_trip_date</th>\n",
       "      <td>40000.0</td>\n",
       "      <td>735342.231425</td>\n",
       "      <td>61.794023</td>\n",
       "      <td>735234.0</td>\n",
       "      <td>735278.00</td>\n",
       "      <td>735361.00</td>\n",
       "      <td>735401.00</td>\n",
       "      <td>735415.00</td>\n",
       "    </tr>\n",
       "    <tr>\n",
       "      <th>signup_date</th>\n",
       "      <td>40000.0</td>\n",
       "      <td>735249.539500</td>\n",
       "      <td>8.749512</td>\n",
       "      <td>735234.0</td>\n",
       "      <td>735242.00</td>\n",
       "      <td>735250.00</td>\n",
       "      <td>735257.00</td>\n",
       "      <td>735264.00</td>\n",
       "    </tr>\n",
       "    <tr>\n",
       "      <th>surge_pct</th>\n",
       "      <td>40000.0</td>\n",
       "      <td>8.857342</td>\n",
       "      <td>20.014008</td>\n",
       "      <td>0.0</td>\n",
       "      <td>0.00</td>\n",
       "      <td>0.00</td>\n",
       "      <td>8.30</td>\n",
       "      <td>100.00</td>\n",
       "    </tr>\n",
       "    <tr>\n",
       "      <th>trips_in_first_30_days</th>\n",
       "      <td>40000.0</td>\n",
       "      <td>2.280700</td>\n",
       "      <td>3.811289</td>\n",
       "      <td>0.0</td>\n",
       "      <td>0.00</td>\n",
       "      <td>1.00</td>\n",
       "      <td>3.00</td>\n",
       "      <td>125.00</td>\n",
       "    </tr>\n",
       "    <tr>\n",
       "      <th>luxury_car_user</th>\n",
       "      <td>40000.0</td>\n",
       "      <td>0.376150</td>\n",
       "      <td>0.484424</td>\n",
       "      <td>0.0</td>\n",
       "      <td>0.00</td>\n",
       "      <td>0.00</td>\n",
       "      <td>1.00</td>\n",
       "      <td>1.00</td>\n",
       "    </tr>\n",
       "    <tr>\n",
       "      <th>weekday_pct</th>\n",
       "      <td>40000.0</td>\n",
       "      <td>60.874382</td>\n",
       "      <td>37.089619</td>\n",
       "      <td>0.0</td>\n",
       "      <td>33.30</td>\n",
       "      <td>66.70</td>\n",
       "      <td>100.00</td>\n",
       "      <td>100.00</td>\n",
       "    </tr>\n",
       "    <tr>\n",
       "      <th>phone_iPhone</th>\n",
       "      <td>40000.0</td>\n",
       "      <td>0.698675</td>\n",
       "      <td>0.458839</td>\n",
       "      <td>0.0</td>\n",
       "      <td>0.00</td>\n",
       "      <td>1.00</td>\n",
       "      <td>1.00</td>\n",
       "      <td>1.00</td>\n",
       "    </tr>\n",
       "    <tr>\n",
       "      <th>city_King's Landing</th>\n",
       "      <td>40000.0</td>\n",
       "      <td>0.203600</td>\n",
       "      <td>0.402680</td>\n",
       "      <td>0.0</td>\n",
       "      <td>0.00</td>\n",
       "      <td>0.00</td>\n",
       "      <td>0.00</td>\n",
       "      <td>1.00</td>\n",
       "    </tr>\n",
       "    <tr>\n",
       "      <th>city_Winterfell</th>\n",
       "      <td>40000.0</td>\n",
       "      <td>0.465500</td>\n",
       "      <td>0.498815</td>\n",
       "      <td>0.0</td>\n",
       "      <td>0.00</td>\n",
       "      <td>0.00</td>\n",
       "      <td>1.00</td>\n",
       "      <td>1.00</td>\n",
       "    </tr>\n",
       "  </tbody>\n",
       "</table>\n",
       "</div>"
      ],
      "text/plain": [
       "                          count           mean        std       min  \\\n",
       "avg_dist                40000.0       5.791302   5.708056       0.0   \n",
       "avg_rating_by_driver    40000.0       4.777434   0.447180       1.0   \n",
       "avg_rating_of_driver    40000.0       4.601697   0.562407       1.0   \n",
       "avg_surge               40000.0       1.074956   0.222427       1.0   \n",
       "last_trip_date          40000.0  735342.231425  61.794023  735234.0   \n",
       "signup_date             40000.0  735249.539500   8.749512  735234.0   \n",
       "surge_pct               40000.0       8.857342  20.014008       0.0   \n",
       "trips_in_first_30_days  40000.0       2.280700   3.811289       0.0   \n",
       "luxury_car_user         40000.0       0.376150   0.484424       0.0   \n",
       "weekday_pct             40000.0      60.874382  37.089619       0.0   \n",
       "phone_iPhone            40000.0       0.698675   0.458839       0.0   \n",
       "city_King's Landing     40000.0       0.203600   0.402680       0.0   \n",
       "city_Winterfell         40000.0       0.465500   0.498815       0.0   \n",
       "\n",
       "                              25%        50%        75%        max  \n",
       "avg_dist                     2.42       3.88       6.93     160.96  \n",
       "avg_rating_by_driver         4.70       5.00       5.00       5.00  \n",
       "avg_rating_of_driver         4.50       4.70       5.00       5.00  \n",
       "avg_surge                    1.00       1.00       1.05       8.00  \n",
       "last_trip_date          735278.00  735361.00  735401.00  735415.00  \n",
       "signup_date             735242.00  735250.00  735257.00  735264.00  \n",
       "surge_pct                    0.00       0.00       8.30     100.00  \n",
       "trips_in_first_30_days       0.00       1.00       3.00     125.00  \n",
       "luxury_car_user              0.00       0.00       1.00       1.00  \n",
       "weekday_pct                 33.30      66.70     100.00     100.00  \n",
       "phone_iPhone                 0.00       1.00       1.00       1.00  \n",
       "city_King's Landing          0.00       0.00       0.00       1.00  \n",
       "city_Winterfell              0.00       0.00       1.00       1.00  "
      ]
     },
     "execution_count": 4,
     "metadata": {},
     "output_type": "execute_result"
    }
   ],
   "source": [
    "X_train.describe().T"
   ]
  },
  {
   "cell_type": "code",
   "execution_count": 5,
   "metadata": {},
   "outputs": [
    {
     "data": {
      "text/html": [
       "<div>\n",
       "<style scoped>\n",
       "    .dataframe tbody tr th:only-of-type {\n",
       "        vertical-align: middle;\n",
       "    }\n",
       "\n",
       "    .dataframe tbody tr th {\n",
       "        vertical-align: top;\n",
       "    }\n",
       "\n",
       "    .dataframe thead th {\n",
       "        text-align: right;\n",
       "    }\n",
       "</style>\n",
       "<table border=\"1\" class=\"dataframe\">\n",
       "  <thead>\n",
       "    <tr style=\"text-align: right;\">\n",
       "      <th></th>\n",
       "      <th>count</th>\n",
       "      <th>mean</th>\n",
       "      <th>std</th>\n",
       "      <th>min</th>\n",
       "      <th>25%</th>\n",
       "      <th>50%</th>\n",
       "      <th>75%</th>\n",
       "      <th>max</th>\n",
       "    </tr>\n",
       "  </thead>\n",
       "  <tbody>\n",
       "    <tr>\n",
       "      <th>avg_dist</th>\n",
       "      <td>10000.0</td>\n",
       "      <td>5.818925</td>\n",
       "      <td>5.704789</td>\n",
       "      <td>0.0</td>\n",
       "      <td>2.42</td>\n",
       "      <td>3.89</td>\n",
       "      <td>6.99</td>\n",
       "      <td>79.34</td>\n",
       "    </tr>\n",
       "    <tr>\n",
       "      <th>avg_rating_by_driver</th>\n",
       "      <td>10000.0</td>\n",
       "      <td>4.781056</td>\n",
       "      <td>0.440010</td>\n",
       "      <td>1.0</td>\n",
       "      <td>4.70</td>\n",
       "      <td>5.00</td>\n",
       "      <td>5.00</td>\n",
       "      <td>5.00</td>\n",
       "    </tr>\n",
       "    <tr>\n",
       "      <th>avg_rating_of_driver</th>\n",
       "      <td>10000.0</td>\n",
       "      <td>4.601011</td>\n",
       "      <td>0.575169</td>\n",
       "      <td>1.0</td>\n",
       "      <td>4.50</td>\n",
       "      <td>4.80</td>\n",
       "      <td>5.00</td>\n",
       "      <td>5.00</td>\n",
       "    </tr>\n",
       "    <tr>\n",
       "      <th>avg_surge</th>\n",
       "      <td>10000.0</td>\n",
       "      <td>1.073996</td>\n",
       "      <td>0.221982</td>\n",
       "      <td>1.0</td>\n",
       "      <td>1.00</td>\n",
       "      <td>1.00</td>\n",
       "      <td>1.05</td>\n",
       "      <td>5.00</td>\n",
       "    </tr>\n",
       "    <tr>\n",
       "      <th>last_trip_date</th>\n",
       "      <td>10000.0</td>\n",
       "      <td>735342.748200</td>\n",
       "      <td>61.419253</td>\n",
       "      <td>735234.0</td>\n",
       "      <td>735280.00</td>\n",
       "      <td>735361.00</td>\n",
       "      <td>735402.00</td>\n",
       "      <td>735415.00</td>\n",
       "    </tr>\n",
       "    <tr>\n",
       "      <th>signup_date</th>\n",
       "      <td>10000.0</td>\n",
       "      <td>735249.565400</td>\n",
       "      <td>8.773438</td>\n",
       "      <td>735234.0</td>\n",
       "      <td>735242.00</td>\n",
       "      <td>735250.00</td>\n",
       "      <td>735257.00</td>\n",
       "      <td>735264.00</td>\n",
       "    </tr>\n",
       "    <tr>\n",
       "      <th>surge_pct</th>\n",
       "      <td>10000.0</td>\n",
       "      <td>8.818310</td>\n",
       "      <td>19.737440</td>\n",
       "      <td>0.0</td>\n",
       "      <td>0.00</td>\n",
       "      <td>0.00</td>\n",
       "      <td>9.10</td>\n",
       "      <td>100.00</td>\n",
       "    </tr>\n",
       "    <tr>\n",
       "      <th>trips_in_first_30_days</th>\n",
       "      <td>10000.0</td>\n",
       "      <td>2.268200</td>\n",
       "      <td>3.717506</td>\n",
       "      <td>0.0</td>\n",
       "      <td>0.00</td>\n",
       "      <td>1.00</td>\n",
       "      <td>3.00</td>\n",
       "      <td>71.00</td>\n",
       "    </tr>\n",
       "    <tr>\n",
       "      <th>luxury_car_user</th>\n",
       "      <td>10000.0</td>\n",
       "      <td>0.380800</td>\n",
       "      <td>0.485608</td>\n",
       "      <td>0.0</td>\n",
       "      <td>0.00</td>\n",
       "      <td>0.00</td>\n",
       "      <td>1.00</td>\n",
       "      <td>1.00</td>\n",
       "    </tr>\n",
       "    <tr>\n",
       "      <th>weekday_pct</th>\n",
       "      <td>10000.0</td>\n",
       "      <td>61.132890</td>\n",
       "      <td>37.050156</td>\n",
       "      <td>0.0</td>\n",
       "      <td>33.30</td>\n",
       "      <td>66.70</td>\n",
       "      <td>100.00</td>\n",
       "      <td>100.00</td>\n",
       "    </tr>\n",
       "    <tr>\n",
       "      <th>phone_iPhone</th>\n",
       "      <td>10000.0</td>\n",
       "      <td>0.703100</td>\n",
       "      <td>0.456915</td>\n",
       "      <td>0.0</td>\n",
       "      <td>0.00</td>\n",
       "      <td>1.00</td>\n",
       "      <td>1.00</td>\n",
       "      <td>1.00</td>\n",
       "    </tr>\n",
       "    <tr>\n",
       "      <th>city_King's Landing</th>\n",
       "      <td>10000.0</td>\n",
       "      <td>0.198600</td>\n",
       "      <td>0.398966</td>\n",
       "      <td>0.0</td>\n",
       "      <td>0.00</td>\n",
       "      <td>0.00</td>\n",
       "      <td>0.00</td>\n",
       "      <td>1.00</td>\n",
       "    </tr>\n",
       "    <tr>\n",
       "      <th>city_Winterfell</th>\n",
       "      <td>10000.0</td>\n",
       "      <td>0.471600</td>\n",
       "      <td>0.499218</td>\n",
       "      <td>0.0</td>\n",
       "      <td>0.00</td>\n",
       "      <td>0.00</td>\n",
       "      <td>1.00</td>\n",
       "      <td>1.00</td>\n",
       "    </tr>\n",
       "  </tbody>\n",
       "</table>\n",
       "</div>"
      ],
      "text/plain": [
       "                          count           mean        std       min  \\\n",
       "avg_dist                10000.0       5.818925   5.704789       0.0   \n",
       "avg_rating_by_driver    10000.0       4.781056   0.440010       1.0   \n",
       "avg_rating_of_driver    10000.0       4.601011   0.575169       1.0   \n",
       "avg_surge               10000.0       1.073996   0.221982       1.0   \n",
       "last_trip_date          10000.0  735342.748200  61.419253  735234.0   \n",
       "signup_date             10000.0  735249.565400   8.773438  735234.0   \n",
       "surge_pct               10000.0       8.818310  19.737440       0.0   \n",
       "trips_in_first_30_days  10000.0       2.268200   3.717506       0.0   \n",
       "luxury_car_user         10000.0       0.380800   0.485608       0.0   \n",
       "weekday_pct             10000.0      61.132890  37.050156       0.0   \n",
       "phone_iPhone            10000.0       0.703100   0.456915       0.0   \n",
       "city_King's Landing     10000.0       0.198600   0.398966       0.0   \n",
       "city_Winterfell         10000.0       0.471600   0.499218       0.0   \n",
       "\n",
       "                              25%        50%        75%        max  \n",
       "avg_dist                     2.42       3.89       6.99      79.34  \n",
       "avg_rating_by_driver         4.70       5.00       5.00       5.00  \n",
       "avg_rating_of_driver         4.50       4.80       5.00       5.00  \n",
       "avg_surge                    1.00       1.00       1.05       5.00  \n",
       "last_trip_date          735280.00  735361.00  735402.00  735415.00  \n",
       "signup_date             735242.00  735250.00  735257.00  735264.00  \n",
       "surge_pct                    0.00       0.00       9.10     100.00  \n",
       "trips_in_first_30_days       0.00       1.00       3.00      71.00  \n",
       "luxury_car_user              0.00       0.00       1.00       1.00  \n",
       "weekday_pct                 33.30      66.70     100.00     100.00  \n",
       "phone_iPhone                 0.00       1.00       1.00       1.00  \n",
       "city_King's Landing          0.00       0.00       0.00       1.00  \n",
       "city_Winterfell              0.00       0.00       1.00       1.00  "
      ]
     },
     "execution_count": 5,
     "metadata": {},
     "output_type": "execute_result"
    }
   ],
   "source": [
    "X_test.describe().T"
   ]
  },
  {
   "cell_type": "code",
   "execution_count": 6,
   "metadata": {},
   "outputs": [
    {
     "data": {
      "text/plain": [
       "<AxesSubplot:>"
      ]
     },
     "execution_count": 6,
     "metadata": {},
     "output_type": "execute_result"
    },
    {
     "data": {
      "image/png": "[encoded data removed]",
      "text/plain": [
       "<Figure size 864x720 with 2 Axes>"
      ]
     },
     "metadata": {
      "needs_background": "light"
     },
     "output_type": "display_data"
    }
   ],
   "source": [
    "corr = X_train.corr()\n",
    "f, ax = plt.subplots(figsize=(12, 10))\n",
    "\n",
    "mask = np.triu(np.ones_like(corr, dtype=bool))\n",
    "cmap = sns.diverging_palette(230, 20, as_cmap=True)\n",
    "\n",
    "sns.heatmap(corr, annot=True, mask = mask, cmap=cmap)"
   ]
  },
  {
   "cell_type": "code",
   "execution_count": 7,
   "metadata": {},
   "outputs": [
    {
     "data": {
      "text/plain": [
       "array([[<AxesSubplot:title={'center':'avg_dist'}>,\n",
       "        <AxesSubplot:title={'center':'avg_rating_by_driver'}>,\n",
       "        <AxesSubplot:title={'center':'avg_rating_of_driver'}>],\n",
       "       [<AxesSubplot:title={'center':'avg_surge'}>,\n",
       "        <AxesSubplot:title={'center':'surge_pct'}>,\n",
       "        <AxesSubplot:title={'center':'trips_in_first_30_days'}>],\n",
       "       [<AxesSubplot:title={'center':'weekday_pct'}>,\n",
       "        <AxesSubplot:title={'center':'target'}>, <AxesSubplot:>]],\n",
       "      dtype=object)"
      ]
     },
     "execution_count": 7,
     "metadata": {},
     "output_type": "execute_result"
    },
    {
     "data": {
      "image/png": "[encoded data removed]",
      "text/plain": [
       "<Figure size 432x288 with 9 Axes>"
      ]
     },
     "metadata": {
      "needs_background": "light"
     },
     "output_type": "display_data"
    }
   ],
   "source": [
    "df.hist()"
   ]
  },
  {
   "cell_type": "code",
   "execution_count": 8,
   "metadata": {},
   "outputs": [
    {
     "data": {
      "image/png": "[encoded data removed]",
      "text/plain": [
       "<Figure size 432x288 with 1 Axes>"
      ]
     },
     "metadata": {
      "needs_background": "light"
     },
     "output_type": "display_data"
    }
   ],
   "source": [
    "ax = sns.boxplot(x=df['avg_dist'])"
   ]
  },
  {
   "cell_type": "code",
   "execution_count": 9,
   "metadata": {},
   "outputs": [
    {
     "name": "stdout",
     "output_type": "stream",
     "text": [
      "<class 'pandas.core.frame.DataFrame'>\n",
      "RangeIndex: 40000 entries, 0 to 39999\n",
      "Data columns (total 13 columns):\n",
      " #   Column                  Non-Null Count  Dtype  \n",
      "---  ------                  --------------  -----  \n",
      " 0   avg_dist                40000 non-null  float64\n",
      " 1   avg_rating_by_driver    39838 non-null  float64\n",
      " 2   avg_rating_of_driver    33472 non-null  float64\n",
      " 3   avg_surge               40000 non-null  float64\n",
      " 4   city                    40000 non-null  object \n",
      " 5   last_trip_date          40000 non-null  object \n",
      " 6   phone                   39681 non-null  object \n",
      " 7   signup_date             40000 non-null  object \n",
      " 8   surge_pct               40000 non-null  float64\n",
      " 9   trips_in_first_30_days  40000 non-null  int64  \n",
      " 10  luxury_car_user         40000 non-null  bool   \n",
      " 11  weekday_pct             40000 non-null  float64\n",
      " 12  target                  40000 non-null  int64  \n",
      "dtypes: bool(1), float64(6), int64(2), object(4)\n",
      "memory usage: 3.7+ MB\n"
     ]
    }
   ],
   "source": [
    "df.info()"
   ]
  },
  {
   "cell_type": "code",
   "execution_count": 10,
   "metadata": {},
   "outputs": [
    {
     "name": "stdout",
     "output_type": "stream",
     "text": [
      "<class 'pandas.core.frame.DataFrame'>\n",
      "RangeIndex: 40000 entries, 0 to 39999\n",
      "Data columns (total 13 columns):\n",
      " #   Column                  Non-Null Count  Dtype  \n",
      "---  ------                  --------------  -----  \n",
      " 0   avg_dist                40000 non-null  float64\n",
      " 1   avg_rating_by_driver    40000 non-null  float64\n",
      " 2   avg_rating_of_driver    40000 non-null  float64\n",
      " 3   avg_surge               40000 non-null  float64\n",
      " 4   last_trip_date          40000 non-null  int64  \n",
      " 5   signup_date             40000 non-null  int64  \n",
      " 6   surge_pct               40000 non-null  float64\n",
      " 7   trips_in_first_30_days  40000 non-null  int64  \n",
      " 8   luxury_car_user         40000 non-null  int32  \n",
      " 9   weekday_pct             40000 non-null  float64\n",
      " 10  phone_iPhone            40000 non-null  float64\n",
      " 11  city_King's Landing     40000 non-null  float64\n",
      " 12  city_Winterfell         40000 non-null  float64\n",
      "dtypes: float64(9), int32(1), int64(3)\n",
      "memory usage: 3.8 MB\n"
     ]
    }
   ],
   "source": [
    "X_train.info()"
   ]
  },
  {
   "cell_type": "code",
   "execution_count": 7,
   "metadata": {},
   "outputs": [
    {
     "name": "stdout",
     "output_type": "stream",
     "text": [
      "<class 'pandas.core.frame.DataFrame'>\n",
      "RangeIndex: 10000 entries, 0 to 9999\n",
      "Data columns (total 13 columns):\n",
      " #   Column                  Non-Null Count  Dtype         \n",
      "---  ------                  --------------  -----         \n",
      " 0   avg_dist                10000 non-null  float64       \n",
      " 1   avg_rating_by_driver    10000 non-null  float64       \n",
      " 2   avg_rating_of_driver    10000 non-null  float64       \n",
      " 3   avg_surge               10000 non-null  float64       \n",
      " 4   last_trip_date          10000 non-null  datetime64[ns]\n",
      " 5   signup_date             10000 non-null  datetime64[ns]\n",
      " 6   surge_pct               10000 non-null  float64       \n",
      " 7   trips_in_first_30_days  10000 non-null  int64         \n",
      " 8   luxury_car_user         10000 non-null  int32         \n",
      " 9   weekday_pct             10000 non-null  float64       \n",
      " 10  phone_iPhone            10000 non-null  float64       \n",
      " 11  city_King's Landing     10000 non-null  float64       \n",
      " 12  city_Winterfell         10000 non-null  float64       \n",
      "dtypes: datetime64[ns](2), float64(9), int32(1), int64(1)\n",
      "memory usage: 976.7 KB\n"
     ]
    }
   ],
   "source": [
    "X_test.info()"
   ]
  },
  {
   "cell_type": "code",
   "execution_count": 11,
   "metadata": {},
   "outputs": [],
   "source": [
    "modelos = [KNeighborsClassifier,DecisionTreeClassifier,RandomForestClassifier,XGBClassifier]\n",
    "r2s = []\n",
    "acc_scores = []\n",
    "prec_scores = []\n",
    "\n",
    "\n",
    "\n",
    "for model in modelos:\n",
    "    models = Models(model)\n",
    "    r2_score, acc_score, prec_score = models.mod(X_train, y_train, X_test, y_test)\n",
    "    r2s.append(r2_score)\n",
    "    acc_scores.append(acc_score)\n",
    "    prec_scores.append(prec_score)"
   ]
  },
  {
   "cell_type": "code",
   "execution_count": 12,
   "metadata": {},
   "outputs": [
    {
     "data": {
      "text/plain": [
       "<BarContainer object of 4 artists>"
      ]
     },
     "execution_count": 12,
     "metadata": {},
     "output_type": "execute_result"
    },
    {
     "data": {
      "image/png": "[encoded data removed]",
      "text/plain": [
       "<Figure size 864x288 with 1 Axes>"
      ]
     },
     "metadata": {
      "needs_background": "light"
     },
     "output_type": "display_data"
    }
   ],
   "source": [
    "plt.figure(figsize=(12,4))\n",
    "plt.bar(x=[m.__name__ for m in modelos], height = r2s, width=0.3)"
   ]
  },
  {
   "cell_type": "code",
   "execution_count": 20,
   "metadata": {},
   "outputs": [
    {
     "data": {
      "text/plain": [
       "[0.9931, 1.0, 1.0, 1.0]"
      ]
     },
     "execution_count": 20,
     "metadata": {},
     "output_type": "execute_result"
    },
    {
     "data": {
      "image/png": "[encoded data removed]",
      "text/plain": [
       "<Figure size 864x288 with 1 Axes>"
      ]
     },
     "metadata": {
      "needs_background": "light"
     },
     "output_type": "display_data"
    }
   ],
   "source": [
    "plt.figure(figsize=(12,4))\n",
    "plt.bar(x=[m.__name__ for m in modelos], height = acc_scores, width=0.3)\n",
    "acc_scores"
   ]
  },
  {
   "cell_type": "code",
   "execution_count": 19,
   "metadata": {},
   "outputs": [
    {
     "data": {
      "text/plain": [
       "[0.988909426987061, 1.0, 1.0, 1.0]"
      ]
     },
     "execution_count": 19,
     "metadata": {},
     "output_type": "execute_result"
    },
    {
     "data": {
      "image/png": "[encoded data removed]",
      "text/plain": [
       "<Figure size 864x288 with 1 Axes>"
      ]
     },
     "metadata": {
      "needs_background": "light"
     },
     "output_type": "display_data"
    }
   ],
   "source": [
    "plt.figure(figsize=(12,4))\n",
    "plt.bar(x=[m.__name__ for m in modelos], height = prec_scores, width=0.3)\n",
    "prec_scores"
   ]
  },
  {
   "cell_type": "code",
   "execution_count": 13,
   "metadata": {},
   "outputs": [
    {
     "data": {
      "text/plain": [
       "0    6228\n",
       "1    3772\n",
       "Name: target, dtype: int64"
      ]
     },
     "execution_count": 13,
     "metadata": {},
     "output_type": "execute_result"
    }
   ],
   "source": [
    "y_test.value_counts()"
   ]
  },
  {
   "cell_type": "code",
   "execution_count": null,
   "metadata": {},
   "outputs": [],
   "source": []
  }
 ],
 "metadata": {
  "interpreter": {
   "hash": "a5eb8adb18433bf51da62188fb560cca2e2f1e75edf04f3276998aca7ad5aa49"
  },
  "kernelspec": {
   "display_name": "Python 3 (ipykernel)",
   "language": "python",
   "name": "python3"
  },
  "language_info": {
   "codemirror_mode": {
    "name": "ipython",
    "version": 3
   },
   "file_extension": ".py",
   "mimetype": "text/x-python",
   "name": "python",
   "nbconvert_exporter": "python",
   "pygments_lexer": "ipython3",
   "version": "3.9.12"
  }
 },
 "nbformat": 4,
 "nbformat_minor": 2
}
