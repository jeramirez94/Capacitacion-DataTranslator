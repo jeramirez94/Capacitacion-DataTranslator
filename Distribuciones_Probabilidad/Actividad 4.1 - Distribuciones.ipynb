{
 "cells": [
  {
   "cell_type": "code",
   "execution_count": 1,
   "id": "dc3e75cd",
   "metadata": {},
   "outputs": [],
   "source": [
    "import numpy as np\n",
    "import pandas as pd\n",
    "import scipy as sp\n",
    "import scipy.stats as stats\n",
    "import matplotlib.pyplot as plt"
   ]
  },
  {
   "cell_type": "code",
   "execution_count": 2,
   "id": "a265f8b6",
   "metadata": {},
   "outputs": [],
   "source": [
    "#parte 1 Dado de 20 caras\n",
    "dado= stats.randint(low=1, high=21)"
   ]
  },
  {
   "cell_type": "code",
   "execution_count": 9,
   "id": "74b03d95",
   "metadata": {},
   "outputs": [
    {
     "data": {
      "text/plain": [
       "0.2"
      ]
     },
     "execution_count": 9,
     "metadata": {},
     "output_type": "execute_result"
    }
   ],
   "source": [
    "#obtener un número entre 6 y 9\n",
    "def sumatoria(*args):\n",
    "    return sum(args)\n",
    "\n",
    "P6=dado.pmf(6)\n",
    "P7=dado.pmf(7)\n",
    "P8=dado.pmf(8)\n",
    "P9=dado.pmf(9)\n",
    "sumatoria(P6,P7,P8,P9)\n",
    "#dado.pmf([6,7,8,9]).sum() una sola línea"
   ]
  },
  {
   "cell_type": "code",
   "execution_count": 10,
   "id": "aba682d5",
   "metadata": {},
   "outputs": [
    {
     "data": {
      "text/plain": [
       "0.44999999999999996"
      ]
     },
     "execution_count": 10,
     "metadata": {},
     "output_type": "execute_result"
    }
   ],
   "source": [
    "#obtener al menos 12\n",
    "#dado.cdf(12) #Obtener 12 o menos\n",
    "#1-dado.cdf(12) #Obtener más de 12 (13,14,...,20)\n",
    "1-dado.cdf(11) #Obtener más de 11 (12,...,20) --> Al menos 12"
   ]
  },
  {
   "cell_type": "code",
   "execution_count": 11,
   "id": "236fbfec",
   "metadata": {},
   "outputs": [
    {
     "data": {
      "text/plain": [
       "0.15"
      ]
     },
     "execution_count": 11,
     "metadata": {},
     "output_type": "execute_result"
    }
   ],
   "source": [
    "#obtener 3 o menos\n",
    "dado.cdf(3)"
   ]
  },
  {
   "cell_type": "code",
   "execution_count": 14,
   "id": "643ff272",
   "metadata": {},
   "outputs": [
    {
     "data": {
      "text/plain": [
       "(0.0, 0.2)"
      ]
     },
     "execution_count": 14,
     "metadata": {},
     "output_type": "execute_result"
    },
    {
     "data": {
      "image/png": "[encoded data removed]",
      "text/plain": [
       "<Figure size 432x288 with 1 Axes>"
      ]
     },
     "metadata": {
      "needs_background": "light"
     },
     "output_type": "display_data"
    }
   ],
   "source": [
    "#grafico de la PMF\n",
    "plt.bar(range(1,21),dado.pmf(range(1,21)))\n",
    "plt.ylim([0,0.2])"
   ]
  },
  {
   "cell_type": "code",
   "execution_count": 15,
   "id": "af97045b",
   "metadata": {},
   "outputs": [],
   "source": [
    "#parte 2 apagador que funciona 1 de 5 veces\n",
    "apagador = stats.binom(n=15, p=0.2)"
   ]
  },
  {
   "cell_type": "code",
   "execution_count": 16,
   "id": "42c7ba6b",
   "metadata": {},
   "outputs": [
    {
     "data": {
      "text/plain": [
       "0.0006717597286400011"
      ]
     },
     "execution_count": 16,
     "metadata": {},
     "output_type": "execute_result"
    }
   ],
   "source": [
    "#P(Funcione 9 veces)\n",
    "apagador.pmf(9)"
   ]
  },
  {
   "cell_type": "code",
   "execution_count": 17,
   "id": "93916c54",
   "metadata": {},
   "outputs": [
    {
     "data": {
      "text/plain": [
       "0.8357662760632318"
      ]
     },
     "execution_count": 17,
     "metadata": {},
     "output_type": "execute_result"
    }
   ],
   "source": [
    "#P(Funcione menos de 4 veces)\n",
    "apagador.cdf(4)"
   ]
  },
  {
   "cell_type": "code",
   "execution_count": 18,
   "id": "593cd699",
   "metadata": {},
   "outputs": [
    {
     "data": {
      "text/plain": [
       "0.3518378954260484"
      ]
     },
     "execution_count": 18,
     "metadata": {},
     "output_type": "execute_result"
    }
   ],
   "source": [
    "#P(Funcione 3 o más veces)\n",
    "1-apagador.cdf(3)"
   ]
  },
  {
   "cell_type": "code",
   "execution_count": 52,
   "id": "490faa7b",
   "metadata": {},
   "outputs": [
    {
     "data": {
      "text/plain": [
       "<BarContainer object of 15 artists>"
      ]
     },
     "execution_count": 52,
     "metadata": {},
     "output_type": "execute_result"
    },
    {
     "data": {
      "image/png": "[encoded data removed]",
      "text/plain": [
       "<Figure size 432x288 with 1 Axes>"
      ]
     },
     "metadata": {
      "needs_background": "light"
     },
     "output_type": "display_data"
    }
   ],
   "source": [
    "#Graficar la Función de Densidad de Probabilidad\n",
    "plt.bar(range(0,15),apagador.pmf(range(0,15)))"
   ]
  },
  {
   "cell_type": "code",
   "execution_count": 22,
   "id": "4e259f5d",
   "metadata": {},
   "outputs": [],
   "source": [
    "#parte 3 - En una línea de producción se estrellan 3 vitrales por hora\n",
    "vitrales = stats.poisson(mu=3)"
   ]
  },
  {
   "cell_type": "code",
   "execution_count": 24,
   "id": "b2e55c22",
   "metadata": {},
   "outputs": [
    {
     "data": {
      "text/plain": [
       "0.14936120510359185"
      ]
     },
     "execution_count": 24,
     "metadata": {},
     "output_type": "execute_result"
    }
   ],
   "source": [
    "#P(Estrellar un vitral por hora)\n",
    "vitrales.pmf(1)"
   ]
  },
  {
   "cell_type": "code",
   "execution_count": 37,
   "id": "1a847425",
   "metadata": {},
   "outputs": [
    {
     "data": {
      "text/plain": [
       "0.34086360736141147"
      ]
     },
     "execution_count": 37,
     "metadata": {},
     "output_type": "execute_result"
    }
   ],
   "source": [
    "#P(Estrellar entre 4 y 7 por hora)\n",
    "vitrales.pmf([4,5,6,7]).sum()\n",
    "#vitrales.cdf(7) - vitrales.cdf(3)"
   ]
  },
  {
   "cell_type": "code",
   "execution_count": 38,
   "id": "4e7783bf",
   "metadata": {},
   "outputs": [
    {
     "data": {
      "text/plain": [
       "0.9160820579686966"
      ]
     },
     "execution_count": 38,
     "metadata": {},
     "output_type": "execute_result"
    }
   ],
   "source": [
    "#P(Estrellar menos de 6 por hora)\n",
    "vitrales.cdf(5)"
   ]
  },
  {
   "cell_type": "code",
   "execution_count": 31,
   "id": "985a3230",
   "metadata": {},
   "outputs": [
    {
     "data": {
      "text/plain": [
       "<BarContainer object of 15 artists>"
      ]
     },
     "execution_count": 31,
     "metadata": {},
     "output_type": "execute_result"
    },
    {
     "data": {
      "image/png": "[encoded data removed]",
      "text/plain": [
       "<Figure size 432x288 with 1 Axes>"
      ]
     },
     "metadata": {
      "needs_background": "light"
     },
     "output_type": "display_data"
    }
   ],
   "source": [
    "#Graficar la Función de Densidad de Probabilidad\n",
    "plt.bar(range(0,15),vitrales.pmf(range(0,15)))"
   ]
  },
  {
   "cell_type": "code",
   "execution_count": 40,
   "id": "f841763a",
   "metadata": {},
   "outputs": [
    {
     "data": {
      "text/html": [
       "<div>\n",
       "<style scoped>\n",
       "    .dataframe tbody tr th:only-of-type {\n",
       "        vertical-align: middle;\n",
       "    }\n",
       "\n",
       "    .dataframe tbody tr th {\n",
       "        vertical-align: top;\n",
       "    }\n",
       "\n",
       "    .dataframe thead th {\n",
       "        text-align: right;\n",
       "    }\n",
       "</style>\n",
       "<table border=\"1\" class=\"dataframe\">\n",
       "  <thead>\n",
       "    <tr style=\"text-align: right;\">\n",
       "      <th></th>\n",
       "      <th>sqft</th>\n",
       "    </tr>\n",
       "  </thead>\n",
       "  <tbody>\n",
       "    <tr>\n",
       "      <th>count</th>\n",
       "      <td>100000.000000</td>\n",
       "    </tr>\n",
       "    <tr>\n",
       "      <th>mean</th>\n",
       "      <td>1549.911993</td>\n",
       "    </tr>\n",
       "    <tr>\n",
       "      <th>std</th>\n",
       "      <td>299.476520</td>\n",
       "    </tr>\n",
       "    <tr>\n",
       "      <th>min</th>\n",
       "      <td>141.069308</td>\n",
       "    </tr>\n",
       "    <tr>\n",
       "      <th>25%</th>\n",
       "      <td>1347.946300</td>\n",
       "    </tr>\n",
       "    <tr>\n",
       "      <th>50%</th>\n",
       "      <td>1549.542945</td>\n",
       "    </tr>\n",
       "    <tr>\n",
       "      <th>75%</th>\n",
       "      <td>1752.745570</td>\n",
       "    </tr>\n",
       "    <tr>\n",
       "      <th>max</th>\n",
       "      <td>2941.143841</td>\n",
       "    </tr>\n",
       "  </tbody>\n",
       "</table>\n",
       "</div>"
      ],
      "text/plain": [
       "                sqft\n",
       "count  100000.000000\n",
       "mean     1549.911993\n",
       "std       299.476520\n",
       "min       141.069308\n",
       "25%      1347.946300\n",
       "50%      1549.542945\n",
       "75%      1752.745570\n",
       "max      2941.143841"
      ]
     },
     "execution_count": 40,
     "metadata": {},
     "output_type": "execute_result"
    }
   ],
   "source": [
    "#parte 4 hogares\n",
    "dfHogares = pd.read_csv(\"sqft.csv\")\n",
    "dfHogares.describe()"
   ]
  },
  {
   "cell_type": "code",
   "execution_count": 41,
   "id": "5096eade",
   "metadata": {},
   "outputs": [],
   "source": [
    "hogares = stats.norm(loc=1549.911993, scale=299.476520) #loc es la media, scale es la desviación std"
   ]
  },
  {
   "cell_type": "code",
   "execution_count": 79,
   "id": "a24e2aff",
   "metadata": {},
   "outputs": [
    {
     "data": {
      "text/plain": [
       "sqft    0.00373\n",
       "dtype: float64"
      ]
     },
     "execution_count": 79,
     "metadata": {},
     "output_type": "execute_result"
    }
   ],
   "source": [
    "#P(Una casa posea 830 +/- 25 sqft) 805-855\n",
    "#hogares.cdf(855) - hogares.cdf(804.9999)\n",
    "dfHogares[(dfHogares[\"sqft\"]>805) & (dfHogares[\"sqft\"]<855)].count() / dfHogares.count()"
   ]
  },
  {
   "cell_type": "code",
   "execution_count": 77,
   "id": "67bac8bb",
   "metadata": {},
   "outputs": [
    {
     "data": {
      "text/plain": [
       "6.424486720391087e-07"
      ]
     },
     "execution_count": 77,
     "metadata": {},
     "output_type": "execute_result"
    }
   ],
   "source": [
    "#P(Una casa posea más de 3000 sqft)\n",
    "1-hogares.cdf(3000)"
   ]
  },
  {
   "cell_type": "code",
   "execution_count": 78,
   "id": "47f11c64",
   "metadata": {},
   "outputs": [
    {
     "data": {
      "text/plain": [
       "1.0353163755237544e-05"
      ]
     },
     "execution_count": 78,
     "metadata": {},
     "output_type": "execute_result"
    }
   ],
   "source": [
    "#P(Una casa posea menos de 275 sqft)\n",
    "hogares.cdf(275)"
   ]
  },
  {
   "cell_type": "code",
   "execution_count": 81,
   "id": "84781e93",
   "metadata": {},
   "outputs": [
    {
     "data": {
      "text/plain": [
       "array([[<AxesSubplot:title={'center':'sqft'}>]], dtype=object)"
      ]
     },
     "execution_count": 81,
     "metadata": {},
     "output_type": "execute_result"
    },
    {
     "data": {
      "image/png": "[encoded data removed]",
      "text/plain": [
       "<Figure size 432x288 with 1 Axes>"
      ]
     },
     "metadata": {
      "needs_background": "light"
     },
     "output_type": "display_data"
    }
   ],
   "source": [
    "#Graficar la Función de Densidad de Probabilidad\n",
    "#plt.plot(range(141,3000),hogares.pdf(range(141,3000)))\n",
    "dfHogares.hist()"
   ]
  },
  {
   "cell_type": "code",
   "execution_count": 89,
   "id": "9c5df3ab",
   "metadata": {},
   "outputs": [
    {
     "data": {
      "text/plain": [
       "0.1353352832366127"
      ]
     },
     "execution_count": 89,
     "metadata": {},
     "output_type": "execute_result"
    }
   ],
   "source": [
    "#Parte 5\n",
    "#Un mecanógrafo comete una media de 2 errores por página \n",
    "#¿Cuál es la probabilidad de que una página concreta no tenga errores?\n",
    "mecanografo = stats.poisson(2)\n",
    "mecanografo.pmf(0)"
   ]
  },
  {
   "cell_type": "code",
   "execution_count": 90,
   "id": "aef218ea",
   "metadata": {},
   "outputs": [
    {
     "data": {
      "text/plain": [
       "[<matplotlib.lines.Line2D at 0x183afe62e50>]"
      ]
     },
     "execution_count": 90,
     "metadata": {},
     "output_type": "execute_result"
    },
    {
     "data": {
      "image/png": "[encoded data removed]",
      "text/plain": [
       "<Figure size 432x288 with 1 Axes>"
      ]
     },
     "metadata": {
      "needs_background": "light"
     },
     "output_type": "display_data"
    }
   ],
   "source": [
    "plt.bar(range(0,10),mecanografo.pmf(range(0,10)))\n",
    "plt.plot(range(0,10),mecanografo.pmf(range(0,10)), marker='*', c=\"r\")"
   ]
  },
  {
   "cell_type": "code",
   "execution_count": 91,
   "id": "0a673360",
   "metadata": {},
   "outputs": [
    {
     "data": {
      "text/plain": [
       "[<matplotlib.lines.Line2D at 0x183afed91c0>]"
      ]
     },
     "execution_count": 91,
     "metadata": {},
     "output_type": "execute_result"
    },
    {
     "data": {
      "image/png": "[encoded data removed]",
      "text/plain": [
       "<Figure size 432x288 with 1 Axes>"
      ]
     },
     "metadata": {
      "needs_background": "light"
     },
     "output_type": "display_data"
    }
   ],
   "source": [
    "plt.bar(range(0,10),mecanografo.cdf(range(0,10)))\n",
    "plt.plot(range(0,10),mecanografo.cdf(range(0,10)), marker='*', c=\"r\")"
   ]
  },
  {
   "cell_type": "code",
   "execution_count": 93,
   "id": "3a0cee88",
   "metadata": {},
   "outputs": [
    {
     "data": {
      "text/plain": [
       "0.28517980706429846"
      ]
     },
     "execution_count": 93,
     "metadata": {},
     "output_type": "execute_result"
    }
   ],
   "source": [
    "#Los componentes se embalan en cajas de 20. La probabilidad de que un \n",
    "#componente individual sea defectuoso es del 10%. Calcula las siguientes probabilidades:\n",
    "componentes = stats.binom(n=20, p=0.1)\n",
    "#Que una caja contenga exactamente 2 componentes defectuosos\n",
    "#Pista: 20 componentes independientes con un estado binario: normal o defectuoso.\n",
    "componentes.pmf(2)"
   ]
  },
  {
   "cell_type": "code",
   "execution_count": 94,
   "id": "d2a807d1",
   "metadata": {},
   "outputs": [
    {
     "data": {
      "text/plain": [
       "0.6769268051894659"
      ]
     },
     "execution_count": 94,
     "metadata": {},
     "output_type": "execute_result"
    }
   ],
   "source": [
    "#Qué una caja contenga máximo 2 componentes defectuosos\n",
    "#Pista: Encuentra todas las posibilidades de que haya al menos 2 componentes defectuosos.\n",
    "componentes.cdf(2)"
   ]
  },
  {
   "cell_type": "code",
   "execution_count": 119,
   "id": "2697d40e",
   "metadata": {},
   "outputs": [
    {
     "data": {
      "text/plain": [
       "0.0024787521766663767"
      ]
     },
     "execution_count": 119,
     "metadata": {},
     "output_type": "execute_result"
    }
   ],
   "source": [
    "#Los clientes llegan a un bar local a un ritmo de 30 por hora. \n",
    "#¿Cuál es la probabilidad de que el portero pueda tomarse un descanso de \n",
    "   #tres minutos para ir al baño sin perder al siguiente cliente?\n",
    "#Pista 1: Reducir la tasa de persona/hora a persona/minuto\n",
    "tasa = 30/1 * (1/60) #30personas/1hora * 1hora/60minutos\n",
    "#Pista 2: La probabilidad del tiempo antes de que ocurra el evento sigue \n",
    "#una distribución exponencial.\n",
    "\n",
    "clientes = stats.expon(tasa)\n",
    "#clientes.pdf(3)\n",
    "\n",
    "#stats.expon.cdf(3, scale=0.5) #P de que alguien llegue en t<=3 min\n",
    "1 - stats.expon.cdf(3, scale=0.5) #P de que nadie llegue"
   ]
  },
  {
   "cell_type": "code",
   "execution_count": 123,
   "id": "66ef516c",
   "metadata": {},
   "outputs": [
    {
     "data": {
      "text/plain": [
       "<matplotlib.collections.PathCollection at 0x183b18c2f70>"
      ]
     },
     "execution_count": 123,
     "metadata": {},
     "output_type": "execute_result"
    },
    {
     "data": {
      "image/png": "[encoded data removed]",
      "text/plain": [
       "<Figure size 432x288 with 1 Axes>"
      ]
     },
     "metadata": {
      "needs_background": "light"
     },
     "output_type": "display_data"
    }
   ],
   "source": [
    "#Parte 6\n",
    "#Tienes que encontrar a una persona alta, \n",
    "#de al menos 1,80 metros, para que te ayude a alcanzar un tarro de galletas. \n",
    "#El 8% de la población mide 1,80 m o más, y la gente pasa de media dos veces por minuto. \n",
    "#Si esperas en la acera, ¿cuál es la probabilidad de que tengas que esperar más \n",
    "#de diez minutos para conseguir unas galletas?\n",
    "#Pista 1: Halla la tasa de número de personas altas/minuto.\n",
    "#Pista 2: El problema se reduce a una función de distribución exponencial.\n",
    "alta = stats.expon(0, scale=2)\n",
    "plt.plot(range(0,15), alta.cdf(range(0,15)))\n",
    "plt.scatter(range(0,15), alta.cdf(range(0,15)), c=\"r\", marker=\"*\")"
   ]
  },
  {
   "cell_type": "code",
   "execution_count": 124,
   "id": "8fd1ecf7",
   "metadata": {},
   "outputs": [
    {
     "data": {
      "text/plain": [
       "0.9932620530009145"
      ]
     },
     "execution_count": 124,
     "metadata": {},
     "output_type": "execute_result"
    }
   ],
   "source": [
    "alta.cdf(10)"
   ]
  },
  {
   "cell_type": "code",
   "execution_count": 125,
   "id": "ea96f6c5",
   "metadata": {},
   "outputs": [
    {
     "data": {
      "text/plain": [
       "0.006737946999085476"
      ]
     },
     "execution_count": 125,
     "metadata": {},
     "output_type": "execute_result"
    }
   ],
   "source": [
    "1-alta.cdf(10)"
   ]
  },
  {
   "cell_type": "code",
   "execution_count": 126,
   "id": "f858feac",
   "metadata": {},
   "outputs": [
    {
     "data": {
      "text/plain": [
       "0.000539035759926838"
      ]
     },
     "execution_count": 126,
     "metadata": {},
     "output_type": "execute_result"
    }
   ],
   "source": [
    "(1-alta.cdf(10))*0.08"
   ]
  },
  {
   "cell_type": "code",
   "execution_count": 127,
   "id": "8ec3f4f8",
   "metadata": {},
   "outputs": [
    {
     "data": {
      "text/plain": [
       "0.07946096424007316"
      ]
     },
     "execution_count": 127,
     "metadata": {},
     "output_type": "execute_result"
    }
   ],
   "source": [
    "alta.cdf(10)*0.08"
   ]
  },
  {
   "cell_type": "code",
   "execution_count": 137,
   "id": "556289d8",
   "metadata": {},
   "outputs": [
    {
     "data": {
      "text/plain": [
       "0.05"
      ]
     },
     "execution_count": 137,
     "metadata": {},
     "output_type": "execute_result"
    }
   ],
   "source": [
    "#Un pasajero apresurado llegará varios minutos tarde a un vuelo programado para las 10 de la mañana a Nueva York. \n",
    "#Sin embargo, es posible que llegue al vuelo, ya que el embarque siempre se permite hasta las 10:10 A.M., y a veces \n",
    "#se permite el embarque hasta las 10:30 AM. Suponiendo que la hora de finalización del intervalo de embarque se \n",
    "#distribuye uniformemente sobre los límites anteriores, encuentre la probabilidad de que el pasajero llegue a su vuelo, \n",
    "#suponiendo que llega a la puerta de embarque a las 10:25.\n",
    "\n",
    "vuelo = stats.randint(low=10, high=30)\n",
    "vuelo2 = stats.uniform(loc=10, scale=20) #scale es prueba y error --> desviación estándar\n",
    "vuelo.pmf(25)\n",
    "#vuelo2.pdf(25)"
   ]
  },
  {
   "cell_type": "code",
   "execution_count": 129,
   "id": "1fcafbd2",
   "metadata": {},
   "outputs": [
    {
     "data": {
      "text/plain": [
       "[<matplotlib.lines.Line2D at 0x183b19faf40>]"
      ]
     },
     "execution_count": 129,
     "metadata": {},
     "output_type": "execute_result"
    },
    {
     "data": {
      "image/png": "[encoded data removed]",
      "text/plain": [
       "<Figure size 432x288 with 1 Axes>"
      ]
     },
     "metadata": {
      "needs_background": "light"
     },
     "output_type": "display_data"
    }
   ],
   "source": [
    "plt.plot(range(0,35), vuelo.cdf(range(0,35)))"
   ]
  },
  {
   "cell_type": "code",
   "execution_count": 134,
   "id": "96352b2b",
   "metadata": {},
   "outputs": [
    {
     "data": {
      "text/plain": [
       "[<matplotlib.lines.Line2D at 0x183b1b78520>]"
      ]
     },
     "execution_count": 134,
     "metadata": {},
     "output_type": "execute_result"
    },
    {
     "data": {
      "image/png": "[encoded data removed]",
      "text/plain": [
       "<Figure size 432x288 with 1 Axes>"
      ]
     },
     "metadata": {
      "needs_background": "light"
     },
     "output_type": "display_data"
    }
   ],
   "source": [
    "#función de punto de probabilidad\n",
    "plt.plot(range(0,35), vuelo2.cdf(range(0,35)))"
   ]
  },
  {
   "cell_type": "code",
   "execution_count": 138,
   "id": "2b7881b5",
   "metadata": {},
   "outputs": [
    {
     "data": {
      "text/plain": [
       "0.0010916410041039767"
      ]
     },
     "execution_count": 138,
     "metadata": {},
     "output_type": "execute_result"
    }
   ],
   "source": [
    "#Parte 7\n",
    "#Tu gato empieza a pedir la cena a las 3:30 todos los días, \n",
    "#y sospechas que maúlla a un ritmo fijo. Has observado que aproximadamente \n",
    "#una quinta parte de las veces tu gato no maúlla hasta las 3:40, \n",
    "#lo que te da 10 minutos inesperados de tranquilidad. \n",
    "#¿Cuál es la probabilidad de que tu gato te deje tranquilo durante 30 minutos?\n",
    "#Pista : Primero encuentra el parámetro de la distribución, y luego utiliza el \n",
    "#parámetro que has encontrado para calcular la probabilidad desconocida.\n",
    "\n",
    "Nm=1/5\n",
    "gato = stats.poisson(Nm)\n",
    "gato.pmf(3)"
   ]
  },
  {
   "cell_type": "code",
   "execution_count": 139,
   "id": "6cbc83bc",
   "metadata": {},
   "outputs": [
    {
     "data": {
      "text/plain": [
       "0.0917832167832168"
      ]
     },
     "execution_count": 139,
     "metadata": {},
     "output_type": "execute_result"
    }
   ],
   "source": [
    "#De alguna manera, has acabado con dos tipos de tenedores. Están los tenedores buenos, \n",
    "#que son grandes y sirven para un bocado sano, pero también están estos pequeños y finos \n",
    "#que no entiendes muy bien para qué sirven, probablemente deberías deshacerte de ellos. \n",
    "#Necesitas dos tenedores para ti y tu pareja, y coge un puñado de 5. \n",
    "#Si hay 14 tenedores en el cajón, de los cuales la mitad son del tipo bueno, \n",
    "#¿cuál es la probabilidad de que tengas al menos los dos tenedores buenos que necesitas?\n",
    "#Pista 1: Este es un problema de distribución hipogeométrica.\n",
    "#Pista 2: Descomponga todas las posibilidades de tener al menos dos tenedores buenos, \n",
    "#es decir, 2 tenedores buenos, 3, 4 y 5.\n",
    "\n",
    "#Total = 14, tenedores buenos = total/2 = 7, muestra = 5\n",
    "tenedores = stats.nhypergeom(M=14, n=7, r=5)\n",
    "tenedores.pmf(2)"
   ]
  },
  {
   "cell_type": "code",
   "execution_count": 144,
   "id": "965470a9",
   "metadata": {},
   "outputs": [
    {
     "data": {
      "text/plain": [
       "0.6689976689976695"
      ]
     },
     "execution_count": 144,
     "metadata": {},
     "output_type": "execute_result"
    }
   ],
   "source": [
    "tenedores.pmf([2,3,4,5]).sum()"
   ]
  },
  {
   "cell_type": "code",
   "execution_count": null,
   "id": "f006a9ed",
   "metadata": {},
   "outputs": [],
   "source": [
    "#parte 8\n",
    "#De los alumnos de una clase, el 60% son genios, el 70% aman el chocolate y el 40% entran en ambas categorías. Determina la probabilidad de que un alumno seleccionado al azar no sea ni un genio ni un amante del chocolate.\n",
    "#Pista: Es de tipo conjunto\n",
    "\n",
    "#P(A) = 60% genios --> P*(A)=40% (* significa inversa)\n",
    "#P(B) = 70% AC  --> P*(B)=30%\n",
    "\n",
    "#P(A|B) = 40  -- probabilidad de A dado B\n",
    "#P Genios que no ama el chocolate\n",
    "#P(A|B)=P(AnB)/P(B)\n"
   ]
  },
  {
   "cell_type": "code",
   "execution_count": 145,
   "id": "938afb7a",
   "metadata": {},
   "outputs": [
    {
     "data": {
      "text/plain": [
       "0.16"
      ]
     },
     "execution_count": 145,
     "metadata": {},
     "output_type": "execute_result"
    }
   ],
   "source": [
    "P=0.4*(0.7-0.3)\n",
    "P"
   ]
  },
  {
   "cell_type": "code",
   "execution_count": 148,
   "id": "b7f7e14d",
   "metadata": {},
   "outputs": [
    {
     "name": "stdout",
     "output_type": "stream",
     "text": [
      "Es más probable tener una suma de 11: 7.9% que la suma de 12 7.3%\n"
     ]
    }
   ],
   "source": [
    "#Se lanza tres veces, de forma independiente, un dado justo de 6 caras. \n",
    "#¿Qué es más probable: una suma de 11 o una suma de 12?\n",
    "dado = stats.randint(low=1, high=6)\n",
    "\n",
    "suma11=[]\n",
    "suma12=[]\n",
    "#for i in range(30):\n",
    " #   print('Lanzamiento ',i,': ', dado.rvs())\n",
    "    \n",
    "    # 3 ciclos de 1 a 7 porque es un dado de 6 caras, lanzado tres veces\n",
    "for i in range(1,7):\n",
    "    for j in range(1,7):\n",
    "        for k in range(1,7):\n",
    "            suma=i+j+k\n",
    "            if suma == 11:\n",
    "                suma11.append(suma)\n",
    "            elif suma==12:\n",
    "                suma12.append(suma)\n",
    "total=7**3\n",
    "prob11=np.round(len(suma11)/total*100,1)\n",
    "prob12=np.round(len(suma12)/total*100,1)\n",
    "\n",
    "if prob11 > prob12:\n",
    "    print(f'Es más probable tener una suma de 11: {prob11}% que la suma de 12 {prob12}%')\n",
    "elif prob12 > prob11:\n",
    "    print(f'Es más probable tener una suma de 12: {prob12}% que la suma de 11 {prob11}%')\n",
    "else:\n",
    "    print('Es igual de probable 11 que 12')"
   ]
  },
  {
   "cell_type": "code",
   "execution_count": 149,
   "id": "f3d63451",
   "metadata": {},
   "outputs": [],
   "source": [
    "#Hay que repartir 90 alumnos al azar en 3 clases de igual tamaño. Joe y Jane son dos de los estudiantes. \n",
    "#¿Cuál es la probabilidad de que acaben en la misma clase?\n",
    "total=90\n",
    "grupos=3\n",
    "EpC=total/grupos\n",
    "JJ=2\n",
    "\n",
    "def factorial(n):\n",
    "    if n==0:\n",
    "        res=1\n",
    "    else:\n",
    "        res=n*factorial(n-1)\n",
    "    return res"
   ]
  },
  {
   "cell_type": "code",
   "execution_count": 153,
   "id": "6aa2c055",
   "metadata": {},
   "outputs": [
    {
     "data": {
      "text/plain": [
       "6.731329745065802e+23"
      ]
     },
     "execution_count": 153,
     "metadata": {},
     "output_type": "execute_result"
    }
   ],
   "source": [
    "combinaciones = factorial(total)/(factorial(total-EpC)*factorial(EpC))\n",
    "combinaciones"
   ]
  },
  {
   "cell_type": "code",
   "execution_count": 156,
   "id": "b66c9d36",
   "metadata": {},
   "outputs": [
    {
     "data": {
      "text/plain": [
       "7.311182120108923e+22"
      ]
     },
     "execution_count": 156,
     "metadata": {},
     "output_type": "execute_result"
    }
   ],
   "source": [
    "dosJ=factorial(total-JJ)/(factorial((total-JJ)-(EpC-JJ))*factorial(EpC-JJ))\n",
    "dosJ"
   ]
  },
  {
   "cell_type": "code",
   "execution_count": 163,
   "id": "27de5436",
   "metadata": {},
   "outputs": [
    {
     "name": "stdout",
     "output_type": "stream",
     "text": [
      "La probabilidad de que estén juntos es 32.58%\n"
     ]
    }
   ],
   "source": [
    "print(f'La probabilidad de que estén juntos es {np.round(3*(dosJ/combinaciones)*100,2)}%')"
   ]
  },
  {
   "cell_type": "code",
   "execution_count": 171,
   "id": "44d3d326",
   "metadata": {},
   "outputs": [
    {
     "name": "stdout",
     "output_type": "stream",
     "text": [
      "La probabilidad de que todos tengan un as 10.55%\n"
     ]
    }
   ],
   "source": [
    "#Se reparte una baraja bien barajada de 52 cartas a 4 jugadores. \n",
    "#Encuentra la probabilidad de que cada uno de los jugadores obtenga un as.\n",
    "total=52\n",
    "manos=4\n",
    "CpM=total/manos\n",
    "AS = 1\n",
    "combinaciones = factorial(total)/(factorial(manos)*factorial(total-manos))\n",
    "UnAs=factorial(CpM)/(factorial(AS)*factorial(CpM-AS))\n",
    "                     \n",
    "print(f'La probabilidad de que todos tengan un as {np.round((UnAs**manos/combinaciones)*100,2)}%')"
   ]
  },
  {
   "cell_type": "code",
   "execution_count": null,
   "id": "f20281fe",
   "metadata": {},
   "outputs": [],
   "source": []
  }
 ],
 "metadata": {
  "kernelspec": {
   "display_name": "Python 3 (ipykernel)",
   "language": "python",
   "name": "python3"
  },
  "language_info": {
   "codemirror_mode": {
    "name": "ipython",
    "version": 3
   },
   "file_extension": ".py",
   "mimetype": "text/x-python",
   "name": "python",
   "nbconvert_exporter": "python",
   "pygments_lexer": "ipython3",
   "version": "3.9.12"
  }
 },
 "nbformat": 4,
 "nbformat_minor": 5
}
