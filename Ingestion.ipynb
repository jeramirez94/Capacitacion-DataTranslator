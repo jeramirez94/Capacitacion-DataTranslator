{
 "cells": [
  {
   "cell_type": "code",
   "execution_count": 1,
   "id": "b741fab1",
   "metadata": {},
   "outputs": [],
   "source": [
    "import pandas as pd\n",
    "import numpy as np\n",
    "import requests\n",
    "import pickle"
   ]
  },
  {
   "cell_type": "code",
   "execution_count": 8,
   "id": "70b3a6bd",
   "metadata": {},
   "outputs": [],
   "source": [
    "titanic = pd.read_csv(\"Data/titanic_data.csv\")\n",
    "#df1"
   ]
  },
  {
   "cell_type": "code",
   "execution_count": 9,
   "id": "1787d7ac",
   "metadata": {},
   "outputs": [],
   "source": [
    "crime = pd.read_excel(\"Data/crime.xls\",skiprows=3,nrows=20)\n",
    "#df2.head(3)"
   ]
  },
  {
   "cell_type": "code",
   "execution_count": 12,
   "id": "de6ee03e",
   "metadata": {},
   "outputs": [],
   "source": [
    "markers = pd.read_json(\"Data/markers.json\")\n",
    "#markers"
   ]
  },
  {
   "cell_type": "code",
   "execution_count": 13,
   "id": "43af1d45",
   "metadata": {},
   "outputs": [
    {
     "data": {
      "text/html": [
       "<div>\n",
       "<style scoped>\n",
       "    .dataframe tbody tr th:only-of-type {\n",
       "        vertical-align: middle;\n",
       "    }\n",
       "\n",
       "    .dataframe tbody tr th {\n",
       "        vertical-align: top;\n",
       "    }\n",
       "\n",
       "    .dataframe thead th {\n",
       "        text-align: right;\n",
       "    }\n",
       "</style>\n",
       "<table border=\"1\" class=\"dataframe\">\n",
       "  <thead>\n",
       "    <tr style=\"text-align: right;\">\n",
       "      <th></th>\n",
       "      <th>name</th>\n",
       "      <th>position</th>\n",
       "      <th>lat</th>\n",
       "      <th>long</th>\n",
       "    </tr>\n",
       "  </thead>\n",
       "  <tbody>\n",
       "    <tr>\n",
       "      <th>0</th>\n",
       "      <td>Grocery Store</td>\n",
       "      <td>[25.1212, 53.1535]</td>\n",
       "      <td>25.1212</td>\n",
       "      <td>53.1535</td>\n",
       "    </tr>\n",
       "    <tr>\n",
       "      <th>1</th>\n",
       "      <td>Gas Station</td>\n",
       "      <td>[12.3456, 5.2719000000000005]</td>\n",
       "      <td>12.3456</td>\n",
       "      <td>5.2719</td>\n",
       "    </tr>\n",
       "    <tr>\n",
       "      <th>2</th>\n",
       "      <td>Disneyland</td>\n",
       "      <td>[4.8765, 17.3273]</td>\n",
       "      <td>4.8765</td>\n",
       "      <td>17.3273</td>\n",
       "    </tr>\n",
       "  </tbody>\n",
       "</table>\n",
       "</div>"
      ],
      "text/plain": [
       "            name                       position      lat     long\n",
       "0  Grocery Store             [25.1212, 53.1535]  25.1212  53.1535\n",
       "1    Gas Station  [12.3456, 5.2719000000000005]  12.3456   5.2719\n",
       "2     Disneyland              [4.8765, 17.3273]   4.8765  17.3273"
      ]
     },
     "execution_count": 13,
     "metadata": {},
     "output_type": "execute_result"
    }
   ],
   "source": [
    "markers[[\"lat\",\"long\"]] = pd.DataFrame(zip(*markers.position)).T\n",
    "markers"
   ]
  },
  {
   "cell_type": "code",
   "execution_count": 15,
   "id": "1291a101",
   "metadata": {},
   "outputs": [
    {
     "data": {
      "text/html": [
       "<div>\n",
       "<style scoped>\n",
       "    .dataframe tbody tr th:only-of-type {\n",
       "        vertical-align: middle;\n",
       "    }\n",
       "\n",
       "    .dataframe tbody tr th {\n",
       "        vertical-align: top;\n",
       "    }\n",
       "\n",
       "    .dataframe thead th {\n",
       "        text-align: right;\n",
       "    }\n",
       "</style>\n",
       "<table border=\"1\" class=\"dataframe\">\n",
       "  <thead>\n",
       "    <tr style=\"text-align: right;\">\n",
       "      <th></th>\n",
       "      <th>name</th>\n",
       "      <th>lat</th>\n",
       "      <th>long</th>\n",
       "    </tr>\n",
       "  </thead>\n",
       "  <tbody>\n",
       "    <tr>\n",
       "      <th>0</th>\n",
       "      <td>Grocery Store</td>\n",
       "      <td>25.1212</td>\n",
       "      <td>53.1535</td>\n",
       "    </tr>\n",
       "    <tr>\n",
       "      <th>1</th>\n",
       "      <td>Gas Station</td>\n",
       "      <td>12.3456</td>\n",
       "      <td>5.2719</td>\n",
       "    </tr>\n",
       "    <tr>\n",
       "      <th>2</th>\n",
       "      <td>Disneyland</td>\n",
       "      <td>4.8765</td>\n",
       "      <td>17.3273</td>\n",
       "    </tr>\n",
       "  </tbody>\n",
       "</table>\n",
       "</div>"
      ],
      "text/plain": [
       "            name      lat     long\n",
       "0  Grocery Store  25.1212  53.1535\n",
       "1    Gas Station  12.3456   5.2719\n",
       "2     Disneyland   4.8765  17.3273"
      ]
     },
     "execution_count": 15,
     "metadata": {},
     "output_type": "execute_result"
    }
   ],
   "source": [
    "del markers[\"position\"]; markers"
   ]
  },
  {
   "cell_type": "code",
   "execution_count": 18,
   "id": "b8880883",
   "metadata": {},
   "outputs": [],
   "source": [
    "json_req = requests.get(\"https://jsonplaceholder.typicode.com/users\").json()\n",
    "#json_req"
   ]
  },
  {
   "cell_type": "code",
   "execution_count": 21,
   "id": "79776859",
   "metadata": {},
   "outputs": [],
   "source": [
    "json_req_dt = pd.json_normalize(json_req)\n",
    "#json_req_dt"
   ]
  },
  {
   "cell_type": "code",
   "execution_count": 25,
   "id": "7534f7bd",
   "metadata": {},
   "outputs": [],
   "source": [
    "for i, df in enumerate([titanic,crime, markers, json_req_dt]):\n",
    "    df.to_csv(f\"./Data/{i}.csv\")\n",
    "    df.to_excel(f\"./Data/{i}.xlsx\")\n",
    "    df.to_json(f\"./Data/{i}.json\")"
   ]
  },
  {
   "cell_type": "code",
   "execution_count": 26,
   "id": "fdef012d",
   "metadata": {},
   "outputs": [],
   "source": [
    "for i, df in enumerate([titanic,crime, markers, json_req_dt]):\n",
    "    with open(f\"./Data/{i}.pickle\", \"wb\") as f:\n",
    "        pickle.dump(df,f, protocol=5)"
   ]
  },
  {
   "cell_type": "code",
   "execution_count": 27,
   "id": "43dc23e0",
   "metadata": {},
   "outputs": [
    {
     "name": "stdout",
     "output_type": "stream",
     "text": [
      "(891, 12)\n",
      "(20, 22)\n",
      "(3, 3)\n",
      "(10, 15)\n"
     ]
    }
   ],
   "source": [
    "for i, df in enumerate([titanic,crime, markers, json_req_dt]):\n",
    "    with open(f\"./Data/{i}.pickle\", \"rb\") as f:\n",
    "        print(pickle.load(f).shape)"
   ]
  },
  {
   "cell_type": "code",
   "execution_count": null,
   "id": "729b2d8a",
   "metadata": {},
   "outputs": [],
   "source": []
  }
 ],
 "metadata": {
  "kernelspec": {
   "display_name": "Python 3 (ipykernel)",
   "language": "python",
   "name": "python3"
  },
  "language_info": {
   "codemirror_mode": {
    "name": "ipython",
    "version": 3
   },
   "file_extension": ".py",
   "mimetype": "text/x-python",
   "name": "python",
   "nbconvert_exporter": "python",
   "pygments_lexer": "ipython3",
   "version": "3.9.12"
  }
 },
 "nbformat": 4,
 "nbformat_minor": 5
}
