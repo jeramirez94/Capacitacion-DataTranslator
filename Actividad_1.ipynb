{
 "cells": [
  {
   "cell_type": "code",
   "execution_count": 1,
   "id": "52f177e6-914b-45c9-99b3-8e3005720cfc",
   "metadata": {},
   "outputs": [],
   "source": [
    "def hola_mundo():\n",
    "    print('Hola Mundo by Eduardo')"
   ]
  },
  {
   "cell_type": "code",
   "execution_count": 2,
   "id": "3547cccd-3ada-42c5-900d-596241b9d578",
   "metadata": {},
   "outputs": [
    {
     "name": "stdout",
     "output_type": "stream",
     "text": [
      "Hola Mundo by Eduardo\n"
     ]
    }
   ],
   "source": [
    "hola_mundo()"
   ]
  },
  {
   "cell_type": "code",
   "execution_count": 3,
   "id": "86894a88-abcf-4fe6-9a57-7327bd819e56",
   "metadata": {},
   "outputs": [],
   "source": [
    "def resistencias(colores):\n",
    "    dicColores = {'Rojo': '1', 'Naranja': '2', 'Amarillo': '3', 'Verde': '4', 'Azul': '5', 'Púrpura': '6', 'Gris': '7', 'Blanco': '8'}\n",
    "    colores = colores.split('-')\n",
    "    limite = 0\n",
    "    valor = ''\n",
    "    for i in range(len(colores)):\n",
    "        valor = valor + dicColores[colores[i]]\n",
    "        limite = limite + 1\n",
    "        if(limite==2):\n",
    "            break;\n",
    "    print(valor)"
   ]
  },
  {
   "cell_type": "code",
   "execution_count": 4,
   "id": "e2805e47",
   "metadata": {},
   "outputs": [
    {
     "name": "stdout",
     "output_type": "stream",
     "text": [
      "Por favor ingrese los colores separados por un guión\n",
      "0-Marrón\n",
      "1-Rojo\n",
      "2-Naranja\n",
      "3-Amarillo\n",
      "4-Verde\n",
      "5-Azul\n",
      "6-Púrpura\n",
      "7-Gris\n",
      "8-Blanco\n",
      "Rojo-Verde-Azul\n",
      "14\n"
     ]
    }
   ],
   "source": [
    "colores = input('Por favor ingrese los colores separados por un guión\\n0-Marrón\\n1-Rojo\\n2-Naranja\\n3-Amarillo\\n4-Verde\\n5-Azul\\n6-Púrpura\\n7-Gris\\n8-Blanco\\n')\n",
    "resistencias(colores)"
   ]
  },
  {
   "cell_type": "code",
   "execution_count": 5,
   "id": "02003050",
   "metadata": {},
   "outputs": [],
   "source": [
    "def bisiesto(anio):\n",
    "    if(anio % 4 != 0): #no se divide entre 4\n",
    "        print(\"El año {0} no es bisiesto\".format(anio))\n",
    "    elif (anio % 4 == 0 and anio % 100 != 0): #entre 4 y no entre 100 o 400\n",
    "        print(\"El año {0} es bisiesto\".format(anio))\n",
    "    elif (anio % 4 == 0 and anio % 100 == 0 and anio % 400 != 0): #entre 4 y 100 pero no entre 400\n",
    "        print(\"El año {0} no es bisiesto\".format(anio))\n",
    "    elif (anio % 4 == 0 and anio % 100 == 0 and anio % 400 == 0): #entre 4, 100 y 400\n",
    "        print(\"El año {0} es bisiesto\".format(anio))"
   ]
  },
  {
   "cell_type": "code",
   "execution_count": 6,
   "id": "7177a40b",
   "metadata": {},
   "outputs": [
    {
     "name": "stdout",
     "output_type": "stream",
     "text": [
      "El año 2022 no es bisiesto\n",
      "El año 2021 no es bisiesto\n",
      "El año 2020 es bisiesto\n",
      "El año 2019 no es bisiesto\n",
      "El año 2018 no es bisiesto\n"
     ]
    }
   ],
   "source": [
    "bisiesto(2022)\n",
    "bisiesto(2021)\n",
    "bisiesto(2020)\n",
    "bisiesto(2019)\n",
    "bisiesto(2018)"
   ]
  },
  {
   "cell_type": "code",
   "execution_count": 8,
   "id": "4da29682",
   "metadata": {},
   "outputs": [],
   "source": [
    "def anios(planeta, segundos):\n",
    "    dicEquivalencias = {'Mercurio':0.2408467, 'Venus':0.61519726, 'Tierra': 1.0, 'Marte':1.8808158, 'Júpiter':11.862615,\n",
    "                        'Saturno':29.447498, 'Urano':84.016846, 'Neptuno':164.79132}\n",
    "    aniosTerrestres = segundos / 31557600\n",
    "    aniosEnOtroPlaneta = aniosTerrestres * dicEquivalencias[planeta]\n",
    "    print('Tus años en {0} son {1}'.format(planeta,float(\"{:.2f}\".format(aniosEnOtroPlaneta))))"
   ]
  },
  {
   "cell_type": "code",
   "execution_count": 11,
   "id": "74683e7c",
   "metadata": {},
   "outputs": [
    {
     "name": "stdout",
     "output_type": "stream",
     "text": [
      "Tus años en Marte son 1.88\n"
     ]
    }
   ],
   "source": [
    "anios('Marte',31557600)"
   ]
  },
  {
   "cell_type": "code",
   "execution_count": null,
   "id": "182bba53",
   "metadata": {},
   "outputs": [],
   "source": []
  },
  {
   "cell_type": "code",
   "execution_count": null,
   "id": "0d2a5db7",
   "metadata": {},
   "outputs": [],
   "source": []
  }
 ],
 "metadata": {
  "kernelspec": {
   "display_name": "Python 3 (ipykernel)",
   "language": "python",
   "name": "python3"
  },
  "language_info": {
   "codemirror_mode": {
    "name": "ipython",
    "version": 3
   },
   "file_extension": ".py",
   "mimetype": "text/x-python",
   "name": "python",
   "nbconvert_exporter": "python",
   "pygments_lexer": "ipython3",
   "version": "3.9.12"
  }
 },
 "nbformat": 4,
 "nbformat_minor": 5
}
