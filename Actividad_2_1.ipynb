{
 "cells": [
  {
   "cell_type": "code",
   "execution_count": 1,
   "id": "a9f9fb66",
   "metadata": {},
   "outputs": [],
   "source": [
    "import pandas as pd\n",
    "import numpy as np\n",
    "import requests\n",
    "import pickle"
   ]
  },
  {
   "cell_type": "code",
   "execution_count": 8,
   "id": "4cf1bf63",
   "metadata": {},
   "outputs": [],
   "source": [
    "machine = pd.read_csv(\"./Actividad_2_1_Assets/Machine-readable-business-employment-data-sep-2021-quarter.csv\")\n",
    "annual_financial = pd.read_csv(\"./Actividad_2_1_Assets/electronic-card-transactions-november-2021-csv-tables.csv\")\n",
    "eCardsTrans = pd.read_csv(\"./Actividad_2_1_Assets/electronic-card-transactions-november-2021-csv-tables.csv\")\n",
    "\n",
    "#machine\n",
    "#annual_financial\n",
    "#eCardsTrans\n"
   ]
  },
  {
   "cell_type": "code",
   "execution_count": 12,
   "id": "a5d6829d",
   "metadata": {},
   "outputs": [],
   "source": [
    "sampleData = pd.read_excel(\"./Actividad_2_1_Assets/SampleData.xlsx\",sheet_name=\"SalesOrders\")\n",
    "sdFoodsales = pd.read_excel(\"./Actividad_2_1_Assets/sampledatafoodsales.xlsx\",sheet_name=\"FoodSales\")\n",
    "sdInsurance = pd.read_excel(\"./Actividad_2_1_Assets/sampledatainsurance.xlsx\",sheet_name=\"PolicyData\")\n",
    "\n",
    "#sampleData\n",
    "#sdFoodsales\n",
    "#sdInsurance"
   ]
  },
  {
   "cell_type": "code",
   "execution_count": 25,
   "id": "f80e076c",
   "metadata": {},
   "outputs": [],
   "source": [
    "todos = pd.json_normalize(requests.get(\"https://jsonplaceholder.typicode.com/todos\").json())\n",
    "photos = pd.json_normalize(requests.get(\"https://jsonplaceholder.typicode.com/photos\").json())\n",
    "albums = pd.json_normalize(requests.get(\"https://jsonplaceholder.typicode.com/albums\").json())\n",
    "\n",
    "#todos\n",
    "#photos\n",
    "#albums"
   ]
  },
  {
   "cell_type": "code",
   "execution_count": 28,
   "id": "2739d019",
   "metadata": {},
   "outputs": [
    {
     "name": "stdout",
     "output_type": "stream",
     "text": [
      "Terminé de guardar\n"
     ]
    }
   ],
   "source": [
    "def exportar(df, name):\n",
    "    df.to_csv(f\"./Actividad_2_1_Output/{name}.csv\")\n",
    "    df.to_excel(f\"./Actividad_2_1_Output/{name}.xlsx\")\n",
    "    df.to_json(f\"./Actividad_2_1_Output/{name}.json\")\n",
    "\n",
    "exportar(machine, \"machine\")\n",
    "exportar(annual_financial, \"annual_financial\")\n",
    "exportar(eCardsTrans, \"eCardsTrans\")\n",
    "exportar(sampleData, \"sampleData\")\n",
    "exportar(sdFoodsales, \"sdFoodsales\")\n",
    "exportar(sdInsurance, \"sdInsurance\")\n",
    "exportar(todos, \"todos\")\n",
    "exportar(photos, \"photos\")\n",
    "exportar(albums, \"albums\")\n",
    "print(\"Terminé de guardar\")"
   ]
  },
  {
   "cell_type": "code",
   "execution_count": 30,
   "id": "1ffa5a5f",
   "metadata": {},
   "outputs": [
    {
     "name": "stdout",
     "output_type": "stream",
     "text": [
      "Terminé de guardar\n"
     ]
    }
   ],
   "source": [
    "def doPickle(df, name):\n",
    "    with open(f\"./Actividad_2_1_Output/{name}.pickle\", \"wb\") as f:\n",
    "        pickle.dump(df,f, protocol=5)\n",
    "        \n",
    "doPickle(machine, \"machine\")\n",
    "doPickle(annual_financial, \"annual_financial\")\n",
    "doPickle(eCardsTrans, \"eCardsTrans\")\n",
    "doPickle(sampleData, \"sampleData\")\n",
    "doPickle(sdFoodsales, \"sdFoodsales\")\n",
    "doPickle(sdInsurance, \"sdInsurance\")\n",
    "doPickle(todos, \"todos\")\n",
    "doPickle(photos, \"photos\")\n",
    "doPickle(albums, \"albums\")\n",
    "print(\"Terminé de guardar\")"
   ]
  },
  {
   "cell_type": "code",
   "execution_count": 34,
   "id": "07d7a3bd",
   "metadata": {},
   "outputs": [
    {
     "name": "stdout",
     "output_type": "stream",
     "text": [
      "machine :  (19093, 14)\n",
      "annual_financial :  (18240, 14)\n",
      "eCardsTrans :  (18240, 14)\n",
      "sampleData :  (43, 7)\n",
      "sdFoodsales :  (244, 8)\n",
      "sdInsurance :  (500, 10)\n",
      "todos :  (200, 4)\n",
      "photos :  (5000, 5)\n",
      "albums :  (100, 3)\n"
     ]
    }
   ],
   "source": [
    "def doUnPickle(name):\n",
    "    with open(f\"./Actividad_2_1_Output/{name}.pickle\", \"rb\") as f:\n",
    "        print(name,\": \",pickle.load(f).shape)\n",
    "        \n",
    "doUnPickle(\"machine\")\n",
    "doUnPickle(\"annual_financial\")\n",
    "doUnPickle(\"eCardsTrans\")\n",
    "doUnPickle(\"sampleData\")\n",
    "doUnPickle(\"sdFoodsales\")\n",
    "doUnPickle(\"sdInsurance\")\n",
    "doUnPickle(\"todos\")\n",
    "doUnPickle(\"photos\")\n",
    "doUnPickle(\"albums\")"
   ]
  },
  {
   "cell_type": "code",
   "execution_count": null,
   "id": "fd546cd5",
   "metadata": {},
   "outputs": [],
   "source": []
  }
 ],
 "metadata": {
  "kernelspec": {
   "display_name": "Python 3 (ipykernel)",
   "language": "python",
   "name": "python3"
  },
  "language_info": {
   "codemirror_mode": {
    "name": "ipython",
    "version": 3
   },
   "file_extension": ".py",
   "mimetype": "text/x-python",
   "name": "python",
   "nbconvert_exporter": "python",
   "pygments_lexer": "ipython3",
   "version": "3.9.12"
  }
 },
 "nbformat": 4,
 "nbformat_minor": 5
}
