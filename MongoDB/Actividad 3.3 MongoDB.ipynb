{
 "cells": [
  {
   "cell_type": "code",
   "execution_count": 12,
   "id": "25736a53",
   "metadata": {},
   "outputs": [],
   "source": [
    "import pymongo\n",
    "import numpy as np\n",
    "import pandas as pd\n",
    "from pprint import pprint\n",
    "import matplotlib.pyplot as plt"
   ]
  },
  {
   "cell_type": "code",
   "execution_count": 3,
   "id": "4384c30e",
   "metadata": {},
   "outputs": [
    {
     "name": "stdout",
     "output_type": "stream",
     "text": [
      "No conectado\n"
     ]
    }
   ],
   "source": [
    "conn_str=\"mongodb://localhost:27017\"\n",
    "client=pymongo.MongoClient(conn_str,serverSelectionTimeoutMS=500)\n",
    "\n",
    "try:\n",
    "    print(client.server.info())\n",
    "except Exception:\n",
    "    print(\"No conectado\")"
   ]
  },
  {
   "cell_type": "code",
   "execution_count": 4,
   "id": "f1923635",
   "metadata": {},
   "outputs": [
    {
     "data": {
      "text/plain": [
       "Database(MongoClient(host=['localhost:27017'], document_class=dict, tz_aware=False, connect=True, serverselectiontimeoutms=500), 'Actividad')"
      ]
     },
     "execution_count": 4,
     "metadata": {},
     "output_type": "execute_result"
    }
   ],
   "source": [
    "db=client[\"Actividad\"]\n",
    "db"
   ]
  },
  {
   "cell_type": "code",
   "execution_count": 23,
   "id": "2aa1954f",
   "metadata": {},
   "outputs": [
    {
     "name": "stdout",
     "output_type": "stream",
     "text": [
      "<pymongo.cursor.Cursor object at 0x0000019C63920BB0>\n"
     ]
    }
   ],
   "source": [
    "clics=db[\"Clics\"]\n",
    "pprint(clics.find())"
   ]
  },
  {
   "cell_type": "code",
   "execution_count": 6,
   "id": "24ce0715",
   "metadata": {},
   "outputs": [
    {
     "name": "stdout",
     "output_type": "stream",
     "text": [
      "<pymongo.cursor.Cursor object at 0x000001FA9A5A3730>\n"
     ]
    }
   ],
   "source": [
    "tweets=db[\"Tweets\"]\n",
    "pprint(tweets.find())"
   ]
  },
  {
   "cell_type": "code",
   "execution_count": 35,
   "id": "2a59c7e2",
   "metadata": {},
   "outputs": [
    {
     "data": {
      "text/html": [
       "<div>\n",
       "<style scoped>\n",
       "    .dataframe tbody tr th:only-of-type {\n",
       "        vertical-align: middle;\n",
       "    }\n",
       "\n",
       "    .dataframe tbody tr th {\n",
       "        vertical-align: top;\n",
       "    }\n",
       "\n",
       "    .dataframe thead th {\n",
       "        text-align: right;\n",
       "    }\n",
       "</style>\n",
       "<table border=\"1\" class=\"dataframe\">\n",
       "  <thead>\n",
       "    <tr style=\"text-align: right;\">\n",
       "      <th></th>\n",
       "      <th>_id</th>\n",
       "      <th>a</th>\n",
       "      <th>cy</th>\n",
       "    </tr>\n",
       "  </thead>\n",
       "  <tbody>\n",
       "    <tr>\n",
       "      <th>0</th>\n",
       "      <td>6380fc2a616b4ab4d59e90cd</td>\n",
       "      <td>Mozilla/5.0 (compatible; MSIE 10.0; Windows NT...</td>\n",
       "      <td>Zoetermeer</td>\n",
       "    </tr>\n",
       "    <tr>\n",
       "      <th>1</th>\n",
       "      <td>6380fc2a616b4ab4d59e8c29</td>\n",
       "      <td>GoogleProducer; (+http://goo.gl/7y4SX)</td>\n",
       "      <td>Zaventem</td>\n",
       "    </tr>\n",
       "    <tr>\n",
       "      <th>2</th>\n",
       "      <td>6380fc2a616b4ab4d59e917e</td>\n",
       "      <td>Mozilla/5.0 (Windows NT 5.1) AppleWebKit/537.3...</td>\n",
       "      <td>Zarinsk</td>\n",
       "    </tr>\n",
       "    <tr>\n",
       "      <th>3</th>\n",
       "      <td>6380fc2a616b4ab4d59e9399</td>\n",
       "      <td>Mozilla/5.0 (Linux; U; Android 4.1.2; es-es; G...</td>\n",
       "      <td>Zaragoza</td>\n",
       "    </tr>\n",
       "    <tr>\n",
       "      <th>4</th>\n",
       "      <td>6380fc2a616b4ab4d59e8a31</td>\n",
       "      <td>Mozilla/5.0 (Windows NT 5.1; rv:20.0) Gecko/20...</td>\n",
       "      <td>Zagreb</td>\n",
       "    </tr>\n",
       "    <tr>\n",
       "      <th>...</th>\n",
       "      <td>...</td>\n",
       "      <td>...</td>\n",
       "      <td>...</td>\n",
       "    </tr>\n",
       "    <tr>\n",
       "      <th>3063</th>\n",
       "      <td>6380fc2a616b4ab4d59e943d</td>\n",
       "      <td>Mozilla/5.0 (iPhone; CPU iPhone OS 6_1_3 like ...</td>\n",
       "      <td>NaN</td>\n",
       "    </tr>\n",
       "    <tr>\n",
       "      <th>3064</th>\n",
       "      <td>6380fc2a616b4ab4d59e943f</td>\n",
       "      <td>Opera/9.80 (Series 60; Opera Mini/7.1.32444/29...</td>\n",
       "      <td>NaN</td>\n",
       "    </tr>\n",
       "    <tr>\n",
       "      <th>3065</th>\n",
       "      <td>6380fc2a616b4ab4d59e9448</td>\n",
       "      <td>Mozilla/5.0 (MeeGo; NokiaN9) AppleWebKit/534.1...</td>\n",
       "      <td>NaN</td>\n",
       "    </tr>\n",
       "    <tr>\n",
       "      <th>3066</th>\n",
       "      <td>6380fc2a616b4ab4d59e944c</td>\n",
       "      <td>Opera/9.80 (Windows NT 6.1; WOW64) Presto/2.12...</td>\n",
       "      <td>NaN</td>\n",
       "    </tr>\n",
       "    <tr>\n",
       "      <th>3067</th>\n",
       "      <td>6380fc2a616b4ab4d59e944d</td>\n",
       "      <td>Mozilla/5.0 (Windows NT 6.1; WOW64) AppleWebKi...</td>\n",
       "      <td>NaN</td>\n",
       "    </tr>\n",
       "  </tbody>\n",
       "</table>\n",
       "<p>3068 rows × 3 columns</p>\n",
       "</div>"
      ],
      "text/plain": [
       "                           _id  \\\n",
       "0     6380fc2a616b4ab4d59e90cd   \n",
       "1     6380fc2a616b4ab4d59e8c29   \n",
       "2     6380fc2a616b4ab4d59e917e   \n",
       "3     6380fc2a616b4ab4d59e9399   \n",
       "4     6380fc2a616b4ab4d59e8a31   \n",
       "...                        ...   \n",
       "3063  6380fc2a616b4ab4d59e943d   \n",
       "3064  6380fc2a616b4ab4d59e943f   \n",
       "3065  6380fc2a616b4ab4d59e9448   \n",
       "3066  6380fc2a616b4ab4d59e944c   \n",
       "3067  6380fc2a616b4ab4d59e944d   \n",
       "\n",
       "                                                      a          cy  \n",
       "0     Mozilla/5.0 (compatible; MSIE 10.0; Windows NT...  Zoetermeer  \n",
       "1                GoogleProducer; (+http://goo.gl/7y4SX)    Zaventem  \n",
       "2     Mozilla/5.0 (Windows NT 5.1) AppleWebKit/537.3...     Zarinsk  \n",
       "3     Mozilla/5.0 (Linux; U; Android 4.1.2; es-es; G...    Zaragoza  \n",
       "4     Mozilla/5.0 (Windows NT 5.1; rv:20.0) Gecko/20...      Zagreb  \n",
       "...                                                 ...         ...  \n",
       "3063  Mozilla/5.0 (iPhone; CPU iPhone OS 6_1_3 like ...         NaN  \n",
       "3064  Opera/9.80 (Series 60; Opera Mini/7.1.32444/29...         NaN  \n",
       "3065  Mozilla/5.0 (MeeGo; NokiaN9) AppleWebKit/534.1...         NaN  \n",
       "3066  Opera/9.80 (Windows NT 6.1; WOW64) Presto/2.12...         NaN  \n",
       "3067  Mozilla/5.0 (Windows NT 6.1; WOW64) AppleWebKi...         NaN  \n",
       "\n",
       "[3068 rows x 3 columns]"
      ]
     },
     "execution_count": 35,
     "metadata": {},
     "output_type": "execute_result"
    }
   ],
   "source": [
    "#CLICS\n",
    "#Seleccionar las columnas “_id”, “a”, y “cy” de clics\n",
    "pd.DataFrame(clics.find({},{\"a\":1, \"cy\":1}).sort(\"cy\", pymongo.DESCENDING).skip(1))"
   ]
  },
  {
   "cell_type": "code",
   "execution_count": 37,
   "id": "df1cbd77",
   "metadata": {},
   "outputs": [
    {
     "data": {
      "text/html": [
       "<div>\n",
       "<style scoped>\n",
       "    .dataframe tbody tr th:only-of-type {\n",
       "        vertical-align: middle;\n",
       "    }\n",
       "\n",
       "    .dataframe tbody tr th {\n",
       "        vertical-align: top;\n",
       "    }\n",
       "\n",
       "    .dataframe thead th {\n",
       "        text-align: right;\n",
       "    }\n",
       "</style>\n",
       "<table border=\"1\" class=\"dataframe\">\n",
       "  <thead>\n",
       "    <tr style=\"text-align: right;\">\n",
       "      <th></th>\n",
       "      <th>0</th>\n",
       "    </tr>\n",
       "  </thead>\n",
       "  <tbody>\n",
       "    <tr>\n",
       "      <th>0</th>\n",
       "      <td>0 Opera/9.80 (J2ME/MIDP; Opera Mini/6.5.27891/...</td>\n",
       "    </tr>\n",
       "    <tr>\n",
       "      <th>1</th>\n",
       "      <td>BlackBerry8520/5.0.0.1075 Profile/MIDP-2.1 Con...</td>\n",
       "    </tr>\n",
       "    <tr>\n",
       "      <th>2</th>\n",
       "      <td>BlackBerry8520/5.0.0.592 Profile/MIDP-2.1 Conf...</td>\n",
       "    </tr>\n",
       "    <tr>\n",
       "      <th>3</th>\n",
       "      <td>BlackBerry8520/5.0.0.592 Profile/MIDP-2.1 Conf...</td>\n",
       "    </tr>\n",
       "    <tr>\n",
       "      <th>4</th>\n",
       "      <td>BlackBerry8900/5.0.0.1036 Profile/MIDP-2.1 Con...</td>\n",
       "    </tr>\n",
       "    <tr>\n",
       "      <th>...</th>\n",
       "      <td>...</td>\n",
       "    </tr>\n",
       "    <tr>\n",
       "      <th>554</th>\n",
       "      <td>Xenu Link Sleuth/1.3.8</td>\n",
       "    </tr>\n",
       "    <tr>\n",
       "      <th>555</th>\n",
       "      <td>Yes Streamer 1.5.7.2 Indexer (powered by TVers...</td>\n",
       "    </tr>\n",
       "    <tr>\n",
       "      <th>556</th>\n",
       "      <td>findlinks/2.6 (+http://wortschatz.uni-leipzig....</td>\n",
       "    </tr>\n",
       "    <tr>\n",
       "      <th>557</th>\n",
       "      <td>iCoreService (unknown version) CFNetwork/520.5...</td>\n",
       "    </tr>\n",
       "    <tr>\n",
       "      <th>558</th>\n",
       "      <td>ichiro/3.0 (http://search.goo.ne.jp/option/use...</td>\n",
       "    </tr>\n",
       "  </tbody>\n",
       "</table>\n",
       "<p>559 rows × 1 columns</p>\n",
       "</div>"
      ],
      "text/plain": [
       "                                                     0\n",
       "0    0 Opera/9.80 (J2ME/MIDP; Opera Mini/6.5.27891/...\n",
       "1    BlackBerry8520/5.0.0.1075 Profile/MIDP-2.1 Con...\n",
       "2    BlackBerry8520/5.0.0.592 Profile/MIDP-2.1 Conf...\n",
       "3    BlackBerry8520/5.0.0.592 Profile/MIDP-2.1 Conf...\n",
       "4    BlackBerry8900/5.0.0.1036 Profile/MIDP-2.1 Con...\n",
       "..                                                 ...\n",
       "554                             Xenu Link Sleuth/1.3.8\n",
       "555  Yes Streamer 1.5.7.2 Indexer (powered by TVers...\n",
       "556  findlinks/2.6 (+http://wortschatz.uni-leipzig....\n",
       "557  iCoreService (unknown version) CFNetwork/520.5...\n",
       "558  ichiro/3.0 (http://search.goo.ne.jp/option/use...\n",
       "\n",
       "[559 rows x 1 columns]"
      ]
     },
     "execution_count": 37,
     "metadata": {},
     "output_type": "execute_result"
    }
   ],
   "source": [
    "#Crear una serie con todos los valores únicos de “a”\n",
    "pd.DataFrame(clics.distinct(\"a\"))"
   ]
  },
  {
   "cell_type": "code",
   "execution_count": 26,
   "id": "3ec50e93",
   "metadata": {},
   "outputs": [
    {
     "data": {
      "text/html": [
       "<div>\n",
       "<style scoped>\n",
       "    .dataframe tbody tr th:only-of-type {\n",
       "        vertical-align: middle;\n",
       "    }\n",
       "\n",
       "    .dataframe tbody tr th {\n",
       "        vertical-align: top;\n",
       "    }\n",
       "\n",
       "    .dataframe thead th {\n",
       "        text-align: right;\n",
       "    }\n",
       "</style>\n",
       "<table border=\"1\" class=\"dataframe\">\n",
       "  <thead>\n",
       "    <tr style=\"text-align: right;\">\n",
       "      <th></th>\n",
       "      <th>a</th>\n",
       "    </tr>\n",
       "  </thead>\n",
       "  <tbody>\n",
       "    <tr>\n",
       "      <th>0</th>\n",
       "      <td>2830</td>\n",
       "    </tr>\n",
       "  </tbody>\n",
       "</table>\n",
       "</div>"
      ],
      "text/plain": [
       "      a\n",
       "0  2830"
      ]
     },
     "execution_count": 26,
     "metadata": {},
     "output_type": "execute_result"
    }
   ],
   "source": [
    "#Contar los usuarios de Opera y Mozilla utilizando el campo \"a\"\n",
    "pd.DataFrame(clics.aggregate([\n",
    "    {\n",
    "        \"$match\":{\n",
    "            \"$or\":[{\"a\":{\"$regex\":\"Opera\"}},{\"a\":{\"$regex\":\"Mozilla\"}}]\n",
    "        }\n",
    "    },\n",
    "    {\"$count\":\"a\"}\n",
    "]))"
   ]
  },
  {
   "cell_type": "code",
   "execution_count": 31,
   "id": "bd2cce6a",
   "metadata": {},
   "outputs": [
    {
     "data": {
      "text/plain": [
       "1278"
      ]
     },
     "execution_count": 31,
     "metadata": {},
     "output_type": "execute_result"
    }
   ],
   "source": [
    "#Encontrar cuantos usuarios hablan inglés\n",
    "df_en = pd.DataFrame(clics.find({\"al\":{\"$regex\":\"en\"}},{\"_id\":0}))\n",
    "df_en.shape[0]"
   ]
  },
  {
   "cell_type": "code",
   "execution_count": 32,
   "id": "911a7d8d",
   "metadata": {},
   "outputs": [
    {
     "data": {
      "text/plain": [
       "6"
      ]
     },
     "execution_count": 32,
     "metadata": {},
     "output_type": "execute_result"
    }
   ],
   "source": [
    "#Encontrar cuántos usuarios son de Seoul.\n",
    "df_Se = pd.DataFrame(clics.find({\"cy\":{\"$regex\":\"Seoul\"}},{\"_id\":0}))\n",
    "df_Se.shape[0]"
   ]
  },
  {
   "cell_type": "code",
   "execution_count": 9,
   "id": "0e0e6dfc",
   "metadata": {},
   "outputs": [
    {
     "data": {
      "text/plain": [
       "122"
      ]
     },
     "execution_count": 9,
     "metadata": {},
     "output_type": "execute_result"
    }
   ],
   "source": [
    "#TWEETS\n",
    "#¿Cuántas filas contiene la collección?\n",
    "df_t = pd.DataFrame(tweets.find())\n",
    "df_t.shape[0]"
   ]
  },
  {
   "cell_type": "code",
   "execution_count": 89,
   "id": "8a4d0b63",
   "metadata": {},
   "outputs": [
    {
     "data": {
      "text/html": [
       "<div>\n",
       "<style scoped>\n",
       "    .dataframe tbody tr th:only-of-type {\n",
       "        vertical-align: middle;\n",
       "    }\n",
       "\n",
       "    .dataframe tbody tr th {\n",
       "        vertical-align: top;\n",
       "    }\n",
       "\n",
       "    .dataframe thead th {\n",
       "        text-align: right;\n",
       "    }\n",
       "</style>\n",
       "<table border=\"1\" class=\"dataframe\">\n",
       "  <thead>\n",
       "    <tr style=\"text-align: right;\">\n",
       "      <th></th>\n",
       "      <th>_id</th>\n",
       "      <th>conteo</th>\n",
       "    </tr>\n",
       "  </thead>\n",
       "  <tbody>\n",
       "    <tr>\n",
       "      <th>0</th>\n",
       "      <td>SoyLatte</td>\n",
       "      <td>2</td>\n",
       "    </tr>\n",
       "    <tr>\n",
       "      <th>1</th>\n",
       "      <td>arianaskittles</td>\n",
       "      <td>2</td>\n",
       "    </tr>\n",
       "  </tbody>\n",
       "</table>\n",
       "</div>"
      ],
      "text/plain": [
       "              _id  conteo\n",
       "0        SoyLatte       2\n",
       "1  arianaskittles       2"
      ]
     },
     "execution_count": 89,
     "metadata": {},
     "output_type": "execute_result"
    }
   ],
   "source": [
    "#Enumerar los screen_names de los usuarios que han tuiteado más de una vez\n",
    "pd.DataFrame(tweets.aggregate(\n",
    "    [ \n",
    "        { \"$group\":  { \"_id\": \"$user.screen_name\", \"conteo\": { \"$sum\": 1 } } },\n",
    "        {\"$match\": {\"conteo\": {\"$gt\": 1}}} \n",
    "    ]\n",
    "))"
   ]
  },
  {
   "cell_type": "code",
   "execution_count": 52,
   "id": "79779dd3",
   "metadata": {},
   "outputs": [
    {
     "data": {
      "text/plain": [
       "10"
      ]
     },
     "execution_count": 52,
     "metadata": {},
     "output_type": "execute_result"
    }
   ],
   "source": [
    "#¿Cuántos tweets son sobre Starbucks?\n",
    "df = pd.DataFrame(tweets.find({\"text\":{\"$regex\":\"Starbucks\"}},{\"_id\":0}))\n",
    "df.shape[0]"
   ]
  },
  {
   "cell_type": "code",
   "execution_count": 56,
   "id": "57778e8d",
   "metadata": {},
   "outputs": [
    {
     "data": {
      "text/plain": [
       "122"
      ]
     },
     "execution_count": 56,
     "metadata": {},
     "output_type": "execute_result"
    }
   ],
   "source": [
    "df_t[\"retweeted_status\"].notnull().count()"
   ]
  },
  {
   "cell_type": "code",
   "execution_count": 58,
   "id": "b94e1d76",
   "metadata": {},
   "outputs": [
    {
     "data": {
      "text/plain": [
       "17"
      ]
     },
     "execution_count": 58,
     "metadata": {},
     "output_type": "execute_result"
    }
   ],
   "source": [
    "#Enumerar los tweets en español\n",
    "df = pd.DataFrame(tweets.find({\"lang\":{\"$regex\":\"es\"}},{\"_id\":0}))\n",
    "df.shape[0]"
   ]
  },
  {
   "cell_type": "code",
   "execution_count": 13,
   "id": "41edbc55",
   "metadata": {},
   "outputs": [
    {
     "data": {
      "text/plain": [
       "<AxesSubplot:>"
      ]
     },
     "execution_count": 13,
     "metadata": {},
     "output_type": "execute_result"
    },
    {
     "data": {
      "image/png": "[encoded data removed]",
      "text/plain": [
       "<Figure size 432x288 with 1 Axes>"
      ]
     },
     "metadata": {
      "needs_background": "light"
     },
     "output_type": "display_data"
    }
   ],
   "source": [
    "#Elaborar un gráfico de barra con el lenguaje del tweet en el eje X, \n",
    "#y la cantidad de tweets en el eje Y\n",
    "df_t['lang'].value_counts().plot(kind='bar')"
   ]
  },
  {
   "cell_type": "code",
   "execution_count": null,
   "id": "34ead130",
   "metadata": {},
   "outputs": [],
   "source": []
  }
 ],
 "metadata": {
  "kernelspec": {
   "display_name": "Python 3 (ipykernel)",
   "language": "python",
   "name": "python3"
  },
  "language_info": {
   "codemirror_mode": {
    "name": "ipython",
    "version": 3
   },
   "file_extension": ".py",
   "mimetype": "text/x-python",
   "name": "python",
   "nbconvert_exporter": "python",
   "pygments_lexer": "ipython3",
   "version": "3.9.12"
  }
 },
 "nbformat": 4,
 "nbformat_minor": 5
}
