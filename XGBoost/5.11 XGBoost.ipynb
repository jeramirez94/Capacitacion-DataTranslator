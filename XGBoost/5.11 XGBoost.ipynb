{
 "cells": [
  {
   "cell_type": "code",
   "execution_count": 20,
   "id": "499b53ea",
   "metadata": {},
   "outputs": [],
   "source": [
    "import scipy.stats as stats\n",
    "import numpy as np\n",
    "import pandas as pd\n",
    "import matplotlib.pyplot as plt\n",
    "import seaborn as sns\n",
    "import plotly.express as px\n",
    "from sklearn.preprocessing import PolynomialFeatures, StandardScaler, MinMaxScaler\n",
    "\n",
    "\n",
    "from sklearn.model_selection import train_test_split, KFold, GridSearchCV, cross_val_score\n",
    "from sklearn.metrics import (r2_score, mean_squared_error, accuracy_score, precision_score, recall_score,\n",
    "                             f1_score, roc_auc_score, roc_curve, precision_recall_curve, make_scorer,\n",
    "                             confusion_matrix, multilabel_confusion_matrix, ConfusionMatrixDisplay)\n",
    "from sklearn.neighbors import KNeighborsClassifier, KNeighborsRegressor\n",
    "from sklearn.linear_model import LinearRegression, Lasso, Ridge, ElasticNet, LogisticRegression\n",
    "from sklearn.tree import DecisionTreeClassifier, DecisionTreeRegressor\n",
    "from sklearn.ensemble import RandomForestClassifier, RandomForestRegressor\n",
    "from xgboost import XGBRegressor, XGBClassifier\n",
    "import xgboost\n",
    "\n",
    "%matplotlib inline\n",
    "from sklearn.datasets import load_boston\n",
    "\n",
    "from sklearn.base import clone\n",
    "from sklearn import tree"
   ]
  },
  {
   "cell_type": "code",
   "execution_count": 21,
   "id": "4d289491",
   "metadata": {
    "collapsed": true
   },
   "outputs": [
    {
     "name": "stderr",
     "output_type": "stream",
     "text": [
      "C:\\Users\\jeramirez\\Anaconda3\\lib\\site-packages\\sklearn\\utils\\deprecation.py:87: FutureWarning: Function load_boston is deprecated; `load_boston` is deprecated in 1.0 and will be removed in 1.2.\n",
      "\n",
      "    The Boston housing prices dataset has an ethical problem. You can refer to\n",
      "    the documentation of this function for further details.\n",
      "\n",
      "    The scikit-learn maintainers therefore strongly discourage the use of this\n",
      "    dataset unless the purpose of the code is to study and educate about\n",
      "    ethical issues in data science and machine learning.\n",
      "\n",
      "    In this special case, you can fetch the dataset from the original\n",
      "    source::\n",
      "\n",
      "        import pandas as pd\n",
      "        import numpy as np\n",
      "\n",
      "\n",
      "        data_url = \"http://lib.stat.cmu.edu/datasets/boston\"\n",
      "        raw_df = pd.read_csv(data_url, sep=\"\\s+\", skiprows=22, header=None)\n",
      "        data = np.hstack([raw_df.values[::2, :], raw_df.values[1::2, :2]])\n",
      "        target = raw_df.values[1::2, 2]\n",
      "\n",
      "    Alternative datasets include the California housing dataset (i.e.\n",
      "    :func:`~sklearn.datasets.fetch_california_housing`) and the Ames housing\n",
      "    dataset. You can load the datasets as follows::\n",
      "\n",
      "        from sklearn.datasets import fetch_california_housing\n",
      "        housing = fetch_california_housing()\n",
      "\n",
      "    for the California housing dataset and::\n",
      "\n",
      "        from sklearn.datasets import fetch_openml\n",
      "        housing = fetch_openml(name=\"house_prices\", as_frame=True)\n",
      "\n",
      "    for the Ames housing dataset.\n",
      "    \n",
      "  warnings.warn(msg, category=FutureWarning)\n"
     ]
    }
   ],
   "source": [
    "boston = load_boston()\n",
    "# Precios de casa\n",
    "y = pd.DataFrame(boston.target, columns=[\"Target_price\"])\n",
    "# The other 13 features\n",
    "X = pd.DataFrame(boston.data, columns=boston.feature_names)"
   ]
  },
  {
   "cell_type": "code",
   "execution_count": 22,
   "id": "102f119a",
   "metadata": {},
   "outputs": [
    {
     "data": {
      "text/html": [
       "<div>\n",
       "<style scoped>\n",
       "    .dataframe tbody tr th:only-of-type {\n",
       "        vertical-align: middle;\n",
       "    }\n",
       "\n",
       "    .dataframe tbody tr th {\n",
       "        vertical-align: top;\n",
       "    }\n",
       "\n",
       "    .dataframe thead th {\n",
       "        text-align: right;\n",
       "    }\n",
       "</style>\n",
       "<table border=\"1\" class=\"dataframe\">\n",
       "  <thead>\n",
       "    <tr style=\"text-align: right;\">\n",
       "      <th></th>\n",
       "      <th>CRIM</th>\n",
       "      <th>ZN</th>\n",
       "      <th>INDUS</th>\n",
       "      <th>CHAS</th>\n",
       "      <th>NOX</th>\n",
       "      <th>RM</th>\n",
       "      <th>AGE</th>\n",
       "      <th>DIS</th>\n",
       "      <th>RAD</th>\n",
       "      <th>TAX</th>\n",
       "      <th>PTRATIO</th>\n",
       "      <th>B</th>\n",
       "      <th>LSTAT</th>\n",
       "    </tr>\n",
       "  </thead>\n",
       "  <tbody>\n",
       "    <tr>\n",
       "      <th>0</th>\n",
       "      <td>0.00632</td>\n",
       "      <td>18.0</td>\n",
       "      <td>2.31</td>\n",
       "      <td>0.0</td>\n",
       "      <td>0.538</td>\n",
       "      <td>6.575</td>\n",
       "      <td>65.2</td>\n",
       "      <td>4.0900</td>\n",
       "      <td>1.0</td>\n",
       "      <td>296.0</td>\n",
       "      <td>15.3</td>\n",
       "      <td>396.90</td>\n",
       "      <td>4.98</td>\n",
       "    </tr>\n",
       "    <tr>\n",
       "      <th>1</th>\n",
       "      <td>0.02731</td>\n",
       "      <td>0.0</td>\n",
       "      <td>7.07</td>\n",
       "      <td>0.0</td>\n",
       "      <td>0.469</td>\n",
       "      <td>6.421</td>\n",
       "      <td>78.9</td>\n",
       "      <td>4.9671</td>\n",
       "      <td>2.0</td>\n",
       "      <td>242.0</td>\n",
       "      <td>17.8</td>\n",
       "      <td>396.90</td>\n",
       "      <td>9.14</td>\n",
       "    </tr>\n",
       "    <tr>\n",
       "      <th>2</th>\n",
       "      <td>0.02729</td>\n",
       "      <td>0.0</td>\n",
       "      <td>7.07</td>\n",
       "      <td>0.0</td>\n",
       "      <td>0.469</td>\n",
       "      <td>7.185</td>\n",
       "      <td>61.1</td>\n",
       "      <td>4.9671</td>\n",
       "      <td>2.0</td>\n",
       "      <td>242.0</td>\n",
       "      <td>17.8</td>\n",
       "      <td>392.83</td>\n",
       "      <td>4.03</td>\n",
       "    </tr>\n",
       "  </tbody>\n",
       "</table>\n",
       "</div>"
      ],
      "text/plain": [
       "      CRIM    ZN  INDUS  CHAS    NOX     RM   AGE     DIS  RAD    TAX  \\\n",
       "0  0.00632  18.0   2.31   0.0  0.538  6.575  65.2  4.0900  1.0  296.0   \n",
       "1  0.02731   0.0   7.07   0.0  0.469  6.421  78.9  4.9671  2.0  242.0   \n",
       "2  0.02729   0.0   7.07   0.0  0.469  7.185  61.1  4.9671  2.0  242.0   \n",
       "\n",
       "   PTRATIO       B  LSTAT  \n",
       "0     15.3  396.90   4.98  \n",
       "1     17.8  396.90   9.14  \n",
       "2     17.8  392.83   4.03  "
      ]
     },
     "execution_count": 22,
     "metadata": {},
     "output_type": "execute_result"
    }
   ],
   "source": [
    "X.head(3)"
   ]
  },
  {
   "cell_type": "code",
   "execution_count": 23,
   "id": "ee3e45d1",
   "metadata": {},
   "outputs": [],
   "source": [
    "X_train, X_test, y_train, y_test = train_test_split(X, y, test_size=0.2, random_state=1)"
   ]
  },
  {
   "cell_type": "code",
   "execution_count": 24,
   "id": "1d705f42",
   "metadata": {},
   "outputs": [],
   "source": [
    "#[KNeighborsRegressor,LinearRegression,Lasso,Ridge,ElasticNet,DecisionTreeRegressor,RandomForestRegressor,XGBRegressor]"
   ]
  },
  {
   "cell_type": "code",
   "execution_count": 25,
   "id": "b1a47ce8",
   "metadata": {},
   "outputs": [],
   "source": [
    "#KNN\n",
    "knn = KNeighborsRegressor().fit(X_train, y_train)\n",
    "y_hat_knn = knn.predict(X_test)\n",
    "y_hat_knn=(y_hat_knn).flatten()"
   ]
  },
  {
   "cell_type": "code",
   "execution_count": 26,
   "id": "991efd7c",
   "metadata": {},
   "outputs": [],
   "source": [
    "#LinearR\n",
    "lir = LinearRegression().fit(X_train, y_train)\n",
    "y_hat_lir = lir.predict(X_test)\n",
    "y_hat_lir=(y_hat_lir).flatten()"
   ]
  },
  {
   "cell_type": "code",
   "execution_count": 27,
   "id": "fd02abd8",
   "metadata": {},
   "outputs": [],
   "source": [
    "#Lasso\n",
    "lasso = Lasso().fit(X_train, y_train)\n",
    "y_hat_lasso = lasso.predict(X_test)\n",
    "y_hat_lasso=(y_hat_lasso).flatten()"
   ]
  },
  {
   "cell_type": "code",
   "execution_count": 28,
   "id": "47d19a61",
   "metadata": {},
   "outputs": [],
   "source": [
    "#Ridge\n",
    "ridge = Ridge().fit(X_train, y_train)\n",
    "y_hat_ridge = ridge.predict(X_test)\n",
    "y_hat_ridge=(y_hat_ridge).flatten()"
   ]
  },
  {
   "cell_type": "code",
   "execution_count": 29,
   "id": "22cb4fa0",
   "metadata": {},
   "outputs": [],
   "source": [
    "#ElasticNet\n",
    "elasticNet = ElasticNet().fit(X_train, y_train)\n",
    "y_hat_ElasticNet = elasticNet.predict(X_test)\n",
    "y_hat_ElasticNet=(y_hat_ElasticNet).flatten()"
   ]
  },
  {
   "cell_type": "code",
   "execution_count": 30,
   "id": "bb7ae7dd",
   "metadata": {
    "collapsed": true
   },
   "outputs": [
    {
     "name": "stderr",
     "output_type": "stream",
     "text": [
      "C:\\Users\\jeramirez\\Anaconda3\\lib\\site-packages\\sklearn\\utils\\validation.py:993: DataConversionWarning: A column-vector y was passed when a 1d array was expected. Please change the shape of y to (n_samples, ), for example using ravel().\n",
      "  y = column_or_1d(y, warn=True)\n"
     ]
    },
    {
     "ename": "ValueError",
     "evalue": "Unknown label type: 'continuous'",
     "output_type": "error",
     "traceback": [
      "\u001b[1;31m---------------------------------------------------------------------------\u001b[0m",
      "\u001b[1;31mValueError\u001b[0m                                Traceback (most recent call last)",
      "Input \u001b[1;32mIn [30]\u001b[0m, in \u001b[0;36m<cell line: 2>\u001b[1;34m()\u001b[0m\n\u001b[0;32m      1\u001b[0m \u001b[38;5;66;03m#LogisticRegression\u001b[39;00m\n\u001b[1;32m----> 2\u001b[0m logisticRegression \u001b[38;5;241m=\u001b[39m \u001b[43mLogisticRegression\u001b[49m\u001b[43m(\u001b[49m\u001b[43m)\u001b[49m\u001b[38;5;241;43m.\u001b[39;49m\u001b[43mfit\u001b[49m\u001b[43m(\u001b[49m\u001b[43mX_train\u001b[49m\u001b[43m,\u001b[49m\u001b[43m \u001b[49m\u001b[43my_train\u001b[49m\u001b[43m)\u001b[49m\n\u001b[0;32m      3\u001b[0m y_hat_LogisticRegression \u001b[38;5;241m=\u001b[39m ogisticRegression\u001b[38;5;241m.\u001b[39mpredict(X_test)\n\u001b[0;32m      4\u001b[0m y_hat_LogisticRegression\u001b[38;5;241m=\u001b[39m(y_hat_LogisticRegression)\u001b[38;5;241m.\u001b[39mflatten()\n",
      "File \u001b[1;32m~\\Anaconda3\\lib\\site-packages\\sklearn\\linear_model\\_logistic.py:1516\u001b[0m, in \u001b[0;36mLogisticRegression.fit\u001b[1;34m(self, X, y, sample_weight)\u001b[0m\n\u001b[0;32m   1506\u001b[0m     _dtype \u001b[38;5;241m=\u001b[39m [np\u001b[38;5;241m.\u001b[39mfloat64, np\u001b[38;5;241m.\u001b[39mfloat32]\n\u001b[0;32m   1508\u001b[0m X, y \u001b[38;5;241m=\u001b[39m \u001b[38;5;28mself\u001b[39m\u001b[38;5;241m.\u001b[39m_validate_data(\n\u001b[0;32m   1509\u001b[0m     X,\n\u001b[0;32m   1510\u001b[0m     y,\n\u001b[1;32m   (...)\u001b[0m\n\u001b[0;32m   1514\u001b[0m     accept_large_sparse\u001b[38;5;241m=\u001b[39msolver \u001b[38;5;129;01mnot\u001b[39;00m \u001b[38;5;129;01min\u001b[39;00m [\u001b[38;5;124m\"\u001b[39m\u001b[38;5;124mliblinear\u001b[39m\u001b[38;5;124m\"\u001b[39m, \u001b[38;5;124m\"\u001b[39m\u001b[38;5;124msag\u001b[39m\u001b[38;5;124m\"\u001b[39m, \u001b[38;5;124m\"\u001b[39m\u001b[38;5;124msaga\u001b[39m\u001b[38;5;124m\"\u001b[39m],\n\u001b[0;32m   1515\u001b[0m )\n\u001b[1;32m-> 1516\u001b[0m \u001b[43mcheck_classification_targets\u001b[49m\u001b[43m(\u001b[49m\u001b[43my\u001b[49m\u001b[43m)\u001b[49m\n\u001b[0;32m   1517\u001b[0m \u001b[38;5;28mself\u001b[39m\u001b[38;5;241m.\u001b[39mclasses_ \u001b[38;5;241m=\u001b[39m np\u001b[38;5;241m.\u001b[39munique(y)\n\u001b[0;32m   1519\u001b[0m multi_class \u001b[38;5;241m=\u001b[39m _check_multi_class(\u001b[38;5;28mself\u001b[39m\u001b[38;5;241m.\u001b[39mmulti_class, solver, \u001b[38;5;28mlen\u001b[39m(\u001b[38;5;28mself\u001b[39m\u001b[38;5;241m.\u001b[39mclasses_))\n",
      "File \u001b[1;32m~\\Anaconda3\\lib\\site-packages\\sklearn\\utils\\multiclass.py:197\u001b[0m, in \u001b[0;36mcheck_classification_targets\u001b[1;34m(y)\u001b[0m\n\u001b[0;32m    189\u001b[0m y_type \u001b[38;5;241m=\u001b[39m type_of_target(y)\n\u001b[0;32m    190\u001b[0m \u001b[38;5;28;01mif\u001b[39;00m y_type \u001b[38;5;129;01mnot\u001b[39;00m \u001b[38;5;129;01min\u001b[39;00m [\n\u001b[0;32m    191\u001b[0m     \u001b[38;5;124m\"\u001b[39m\u001b[38;5;124mbinary\u001b[39m\u001b[38;5;124m\"\u001b[39m,\n\u001b[0;32m    192\u001b[0m     \u001b[38;5;124m\"\u001b[39m\u001b[38;5;124mmulticlass\u001b[39m\u001b[38;5;124m\"\u001b[39m,\n\u001b[1;32m   (...)\u001b[0m\n\u001b[0;32m    195\u001b[0m     \u001b[38;5;124m\"\u001b[39m\u001b[38;5;124mmultilabel-sequences\u001b[39m\u001b[38;5;124m\"\u001b[39m,\n\u001b[0;32m    196\u001b[0m ]:\n\u001b[1;32m--> 197\u001b[0m     \u001b[38;5;28;01mraise\u001b[39;00m \u001b[38;5;167;01mValueError\u001b[39;00m(\u001b[38;5;124m\"\u001b[39m\u001b[38;5;124mUnknown label type: \u001b[39m\u001b[38;5;132;01m%r\u001b[39;00m\u001b[38;5;124m\"\u001b[39m \u001b[38;5;241m%\u001b[39m y_type)\n",
      "\u001b[1;31mValueError\u001b[0m: Unknown label type: 'continuous'"
     ]
    }
   ],
   "source": [
    "#LogisticRegression\n",
    "logisticRegression = LogisticRegression().fit(X_train, y_train)\n",
    "y_hat_LogisticRegression = ogisticRegression.predict(X_test)\n",
    "y_hat_LogisticRegression=(y_hat_LogisticRegression).flatten()"
   ]
  },
  {
   "cell_type": "code",
   "execution_count": 31,
   "id": "2bc29b1a",
   "metadata": {},
   "outputs": [],
   "source": [
    "#DecissionTree\n",
    "decisionTreeRegressor = DecisionTreeRegressor().fit(X_train, y_train)\n",
    "y_hat_DecisionTreeRegressor = decisionTreeRegressor.predict(X_test)\n",
    "y_hat_DecisionTreeRegressor=(y_hat_DecisionTreeRegressor).flatten()"
   ]
  },
  {
   "cell_type": "code",
   "execution_count": 37,
   "id": "2f228155",
   "metadata": {},
   "outputs": [
    {
     "name": "stderr",
     "output_type": "stream",
     "text": [
      "C:\\Users\\jeramirez\\AppData\\Local\\Temp\\ipykernel_28976\\3144986004.py:2: DataConversionWarning: A column-vector y was passed when a 1d array was expected. Please change the shape of y to (n_samples,), for example using ravel().\n",
      "  randomForestRegressor = RandomForestRegressor().fit(X_train, y_train)\n"
     ]
    }
   ],
   "source": [
    "#RandomForest\n",
    "randomForestRegressor = RandomForestRegressor().fit(X_train, y_train)\n",
    "y_hat_RandomForestRegressor = randomForestRegressor.predict(X_test)"
   ]
  },
  {
   "cell_type": "code",
   "execution_count": 36,
   "id": "877d062d",
   "metadata": {},
   "outputs": [],
   "source": [
    "#XGBoost\n",
    "xGBRegressor = XGBRegressor().fit(X_train, y_train)\n",
    "y_hat_XGBRegressor = xGBRegressor.predict(X_test)"
   ]
  },
  {
   "cell_type": "code",
   "execution_count": 50,
   "id": "8faaad5c",
   "metadata": {},
   "outputs": [],
   "source": [
    "df_hats = pd.DataFrame(data=[y_hat_knn,y_hat_lir, y_hat_lasso, y_hat_ridge, y_hat_ElasticNet, y_hat_DecisionTreeRegressor, y_hat_RandomForestRegressor,y_hat_XGBRegressor])"
   ]
  },
  {
   "cell_type": "code",
   "execution_count": 51,
   "id": "57481fdb",
   "metadata": {},
   "outputs": [],
   "source": [
    "df_hats=df_hats.T"
   ]
  },
  {
   "cell_type": "code",
   "execution_count": 53,
   "id": "375c2f71",
   "metadata": {},
   "outputs": [],
   "source": [
    "df_hats.columns=['y_hat_knn','y_hat_lir', 'y_hat_lasso', 'y_hat_ridge', 'y_hat_ElasticNet', 'y_hat_DecisionTreeRegressor', 'y_hat_RandomForestRegressor','y_hat_XGBRegressor']"
   ]
  },
  {
   "cell_type": "code",
   "execution_count": 54,
   "id": "138815a5",
   "metadata": {},
   "outputs": [
    {
     "data": {
      "text/html": [
       "<div>\n",
       "<style scoped>\n",
       "    .dataframe tbody tr th:only-of-type {\n",
       "        vertical-align: middle;\n",
       "    }\n",
       "\n",
       "    .dataframe tbody tr th {\n",
       "        vertical-align: top;\n",
       "    }\n",
       "\n",
       "    .dataframe thead th {\n",
       "        text-align: right;\n",
       "    }\n",
       "</style>\n",
       "<table border=\"1\" class=\"dataframe\">\n",
       "  <thead>\n",
       "    <tr style=\"text-align: right;\">\n",
       "      <th></th>\n",
       "      <th>y_hat_knn</th>\n",
       "      <th>y_hat_lir</th>\n",
       "      <th>y_hat_lasso</th>\n",
       "      <th>y_hat_ridge</th>\n",
       "      <th>y_hat_ElasticNet</th>\n",
       "      <th>y_hat_DecisionTreeRegressor</th>\n",
       "      <th>y_hat_RandomForestRegressor</th>\n",
       "      <th>y_hat_XGBRegressor</th>\n",
       "    </tr>\n",
       "  </thead>\n",
       "  <tbody>\n",
       "    <tr>\n",
       "      <th>0</th>\n",
       "      <td>30.46</td>\n",
       "      <td>32.655032</td>\n",
       "      <td>30.798187</td>\n",
       "      <td>32.511398</td>\n",
       "      <td>31.348467</td>\n",
       "      <td>29.9</td>\n",
       "      <td>29.985</td>\n",
       "      <td>30.359884</td>\n",
       "    </tr>\n",
       "    <tr>\n",
       "      <th>1</th>\n",
       "      <td>30.70</td>\n",
       "      <td>28.093495</td>\n",
       "      <td>28.618170</td>\n",
       "      <td>28.265232</td>\n",
       "      <td>28.679029</td>\n",
       "      <td>29.0</td>\n",
       "      <td>27.218</td>\n",
       "      <td>27.026636</td>\n",
       "    </tr>\n",
       "    <tr>\n",
       "      <th>2</th>\n",
       "      <td>21.72</td>\n",
       "      <td>18.029018</td>\n",
       "      <td>17.964730</td>\n",
       "      <td>17.528444</td>\n",
       "      <td>17.886279</td>\n",
       "      <td>22.5</td>\n",
       "      <td>19.782</td>\n",
       "      <td>19.176161</td>\n",
       "    </tr>\n",
       "  </tbody>\n",
       "</table>\n",
       "</div>"
      ],
      "text/plain": [
       "   y_hat_knn  y_hat_lir  y_hat_lasso  y_hat_ridge  y_hat_ElasticNet  \\\n",
       "0      30.46  32.655032    30.798187    32.511398         31.348467   \n",
       "1      30.70  28.093495    28.618170    28.265232         28.679029   \n",
       "2      21.72  18.029018    17.964730    17.528444         17.886279   \n",
       "\n",
       "   y_hat_DecisionTreeRegressor  y_hat_RandomForestRegressor  \\\n",
       "0                         29.9                       29.985   \n",
       "1                         29.0                       27.218   \n",
       "2                         22.5                       19.782   \n",
       "\n",
       "   y_hat_XGBRegressor  \n",
       "0           30.359884  \n",
       "1           27.026636  \n",
       "2           19.176161  "
      ]
     },
     "execution_count": 54,
     "metadata": {},
     "output_type": "execute_result"
    }
   ],
   "source": [
    "df_hats.head(3)"
   ]
  },
  {
   "cell_type": "code",
   "execution_count": 58,
   "id": "d37403aa",
   "metadata": {},
   "outputs": [
    {
     "name": "stdout",
     "output_type": "stream",
     "text": [
      "[0.5401612153026705, 0.7634174432138463, 0.6399927356461494, 0.7655800611077146, 0.6662534357446656, 0.6735821943462836, 0.9091177730802921, 0.9085331557145866]\n"
     ]
    }
   ],
   "source": [
    "df_results = []\n",
    "for i in df_hats.columns:\n",
    "    r2 = r2_score(y_test,df_hats[i])\n",
    "    df_results.append(r2)\n",
    "print(df_results)"
   ]
  },
  {
   "cell_type": "code",
   "execution_count": 59,
   "id": "18cade04",
   "metadata": {},
   "outputs": [
    {
     "data": {
      "text/html": [
       "<div>\n",
       "<style scoped>\n",
       "    .dataframe tbody tr th:only-of-type {\n",
       "        vertical-align: middle;\n",
       "    }\n",
       "\n",
       "    .dataframe tbody tr th {\n",
       "        vertical-align: top;\n",
       "    }\n",
       "\n",
       "    .dataframe thead th {\n",
       "        text-align: right;\n",
       "    }\n",
       "</style>\n",
       "<table border=\"1\" class=\"dataframe\">\n",
       "  <thead>\n",
       "    <tr style=\"text-align: right;\">\n",
       "      <th></th>\n",
       "      <th>y_hat_knn</th>\n",
       "      <th>y_hat_lir</th>\n",
       "      <th>y_hat_lasso</th>\n",
       "      <th>y_hat_ridge</th>\n",
       "      <th>y_hat_ElasticNet</th>\n",
       "      <th>y_hat_DecisionTreeRegressor</th>\n",
       "      <th>y_hat_RandomForestRegressor</th>\n",
       "      <th>y_hat_XGBRegressor</th>\n",
       "    </tr>\n",
       "  </thead>\n",
       "  <tbody>\n",
       "    <tr>\n",
       "      <th>0</th>\n",
       "      <td>0.540161</td>\n",
       "      <td>0.763417</td>\n",
       "      <td>0.639993</td>\n",
       "      <td>0.76558</td>\n",
       "      <td>0.666253</td>\n",
       "      <td>0.673582</td>\n",
       "      <td>0.909118</td>\n",
       "      <td>0.908533</td>\n",
       "    </tr>\n",
       "  </tbody>\n",
       "</table>\n",
       "</div>"
      ],
      "text/plain": [
       "   y_hat_knn  y_hat_lir  y_hat_lasso  y_hat_ridge  y_hat_ElasticNet  \\\n",
       "0   0.540161   0.763417     0.639993      0.76558          0.666253   \n",
       "\n",
       "   y_hat_DecisionTreeRegressor  y_hat_RandomForestRegressor  \\\n",
       "0                     0.673582                     0.909118   \n",
       "\n",
       "   y_hat_XGBRegressor  \n",
       "0            0.908533  "
      ]
     },
     "execution_count": 59,
     "metadata": {},
     "output_type": "execute_result"
    }
   ],
   "source": [
    "df_results = pd.DataFrame(data=df_results)\n",
    "df_results = df_results.T\n",
    "df_results.columns = ['y_hat_knn','y_hat_lir', 'y_hat_lasso', 'y_hat_ridge', 'y_hat_ElasticNet', 'y_hat_DecisionTreeRegressor', 'y_hat_RandomForestRegressor','y_hat_XGBRegressor']\n",
    "df_results.head(3)"
   ]
  },
  {
   "cell_type": "code",
   "execution_count": 60,
   "id": "9f879683",
   "metadata": {},
   "outputs": [
    {
     "data": {
      "image/png": "[encoded data removed]",
      "text/plain": [
       "<Figure size 1080x576 with 1 Axes>"
      ]
     },
     "metadata": {
      "needs_background": "light"
     },
     "output_type": "display_data"
    }
   ],
   "source": [
    "fig, ax = plt.subplots(figsize=(15,8))\n",
    "plt.bar(df_results.columns, sorted(df_results.T[0]), color=\"green\")\n",
    "plt.ylabel(\"r2 score\")\n",
    "plt.xlabel(\"Model\")\n",
    "plt.show()"
   ]
  },
  {
   "cell_type": "code",
   "execution_count": 68,
   "id": "65d514dd",
   "metadata": {},
   "outputs": [],
   "source": [
    "def gs_best(params, model, model_name):\n",
    "    model2 = model()\n",
    "    gs = GridSearchCV(model2, params, cv=5, n_jobs=-1, verbose=1)    \n",
    "    gs.fit(X_train, y_train)\n",
    "    best = model(**gs.best_params_).fit(X_train, y_train)\n",
    "    y_hat=best.predict(X_test)\n",
    "    r2=r2_score(y_test, y_hat)\n",
    "    return model_name, r2"
   ]
  },
  {
   "cell_type": "code",
   "execution_count": 69,
   "id": "487c3fda",
   "metadata": {},
   "outputs": [],
   "source": [
    "knn_params = {\"n_neighbors\":[3,5,7,9], \"metric\":[\"manhattan\", \"euclidean\"], \"weights\":[\"uniform\", \"distance\"]}"
   ]
  },
  {
   "cell_type": "code",
   "execution_count": null,
   "id": "5937e7aa",
   "metadata": {},
   "outputs": [],
   "source": []
  },
  {
   "cell_type": "code",
   "execution_count": 78,
   "id": "c0037f45",
   "metadata": {},
   "outputs": [
    {
     "name": "stdout",
     "output_type": "stream",
     "text": [
      "Fitting 5 folds for each of 16 candidates, totalling 80 fits\n"
     ]
    },
    {
     "data": {
      "text/plain": [
       "0.6508830800717474"
      ]
     },
     "execution_count": 78,
     "metadata": {},
     "output_type": "execute_result"
    }
   ],
   "source": [
    "(model, r2_knn) = gs_best(knn_params, KNeighborsRegressor, \"KNN\")\n",
    "r2_knn"
   ]
  },
  {
   "cell_type": "code",
   "execution_count": 73,
   "id": "a8b31729",
   "metadata": {},
   "outputs": [
    {
     "name": "stdout",
     "output_type": "stream",
     "text": [
      "Fitting 5 folds for each of 96 candidates, totalling 480 fits\n",
      "KNeighborsRegressor   0.630595778160548\n",
      "Fitting 5 folds for each of 1 candidates, totalling 5 fits\n",
      "LinearRegression   0.7634174432138463\n",
      "Fitting 5 folds for each of 50 candidates, totalling 250 fits\n",
      "Lasso   0.7634183119192961\n",
      "Fitting 5 folds for each of 50 candidates, totalling 250 fits\n",
      "Ridge   0.7638025839485867\n",
      "Fitting 5 folds for each of 50 candidates, totalling 250 fits\n",
      "ElasticNet   0.7638630128873183\n",
      "Fitting 5 folds for each of 1 candidates, totalling 5 fits\n",
      "DecisionTreeRegressor   0.8107435034828239\n",
      "Fitting 5 folds for each of 1 candidates, totalling 5 fits\n"
     ]
    },
    {
     "name": "stderr",
     "output_type": "stream",
     "text": [
      "C:\\Users\\jeramirez\\Anaconda3\\lib\\site-packages\\sklearn\\model_selection\\_search.py:926: DataConversionWarning: A column-vector y was passed when a 1d array was expected. Please change the shape of y to (n_samples,), for example using ravel().\n",
      "  self.best_estimator_.fit(X, y, **fit_params)\n",
      "C:\\Users\\jeramirez\\AppData\\Local\\Temp\\ipykernel_28976\\1867684125.py:5: DataConversionWarning: A column-vector y was passed when a 1d array was expected. Please change the shape of y to (n_samples,), for example using ravel().\n",
      "  best = model(**gs.best_params_).fit(X_train, y_train)\n"
     ]
    },
    {
     "name": "stdout",
     "output_type": "stream",
     "text": [
      "RandomForestRegressor   0.9113407191883728\n",
      "Fitting 5 folds for each of 90 candidates, totalling 450 fits\n",
      "XGBRegressor   0.9061454586921613\n"
     ]
    }
   ],
   "source": [
    "models = [KNeighborsRegressor,\n",
    "          LinearRegression,\n",
    "          Lasso,\n",
    "          Ridge,\n",
    "          ElasticNet,\n",
    "          DecisionTreeRegressor,\n",
    "          RandomForestRegressor,\n",
    "          XGBRegressor]\n",
    "params = [{'n_neighbors': range(2,50), 'metric': ['manhattan', 'euclidean']},\n",
    "          {},\n",
    "          {'alpha': np.logspace(-5, 5)},\n",
    "          {'alpha': np.logspace(-5, 5)},\n",
    "          {'alpha': np.logspace(-5, 5)},\n",
    "          {},\n",
    "          {},\n",
    "          {'max_depth':[3,6,10],'learning_rate':[0.01,0.05,0.1],'eta':np.logspace(-1,0,10)}\n",
    "         ]\n",
    "names = [\"KNeighborsRegressor\",\n",
    "          \"LinearRegression\",\n",
    "          \"Lasso\",\n",
    "          \"Ridge\",\n",
    "          \"ElasticNet\",\n",
    "          \"DecisionTreeRegressor\",\n",
    "          \"RandomForestRegressor\",\n",
    "          \"XGBRegressor\"]\n",
    "\n",
    "for model, param, name in zip(models, params, names):\n",
    "    (model_result, r2_result) = gs_best(param, model, name)    \n",
    "    print(name,\" \",r2_result)"
   ]
  },
  {
   "cell_type": "code",
   "execution_count": 79,
   "id": "f860ad8b",
   "metadata": {},
   "outputs": [],
   "source": [
    "def gs_best1(params, model, model_name):\n",
    "    model2 = model()\n",
    "    gs = GridSearchCV(model2, params, cv=5, n_jobs=-1, verbose=1)    \n",
    "    gs.fit(X_train, y_train)\n",
    "    best = model(**gs.best_params_).fit(X_train, y_train)\n",
    "    y_hat=best.predict(X_test)\n",
    "    r2=r2_score(y_test, y_hat)\n",
    "    return best, r2"
   ]
  },
  {
   "cell_type": "code",
   "execution_count": 83,
   "id": "115d0c5c",
   "metadata": {},
   "outputs": [
    {
     "name": "stdout",
     "output_type": "stream",
     "text": [
      "Fitting 5 folds for each of 2 candidates, totalling 10 fits\n"
     ]
    },
    {
     "data": {
      "text/plain": [
       "0.8532663386170671"
      ]
     },
     "execution_count": 83,
     "metadata": {},
     "output_type": "execute_result"
    }
   ],
   "source": [
    "xgb_params = {'max_depth':[1],'learning_rate':[0.3,0.03]}\n",
    "(model_xgb, r2_knn) = gs_best1(xgb_params, XGBRegressor, \"XGBoost\")\n",
    "r2_knn"
   ]
  },
  {
   "cell_type": "code",
   "execution_count": 84,
   "id": "368e5057",
   "metadata": {},
   "outputs": [
    {
     "data": {
      "image/png": "[encoded data removed]",
      "text/plain": [
       "<Figure size 432x288 with 1 Axes>"
      ]
     },
     "metadata": {
      "needs_background": "light"
     },
     "output_type": "display_data"
    }
   ],
   "source": [
    "f_imp = xgboost.plot_importance(model_xgb)\n",
    "#xgboost.plot_importance(model, ax=None, height=0.5, xlim=None, ylim=None, title='Feature importance', xlabel='F score', ylabel='Features', importance_type='weight',show_values=True, color='pink', grid=False)\n",
    "#xgboost.plot_importance(xgb, ax=None, height=0.5, xlim=None, ylim=None, title='Feature importance', xlabel='F score', ylabel='Features', importance_type='gain',show_values=True, color='pink', grid=False)"
   ]
  },
  {
   "cell_type": "code",
   "execution_count": null,
   "id": "89711b69",
   "metadata": {},
   "outputs": [],
   "source": []
  }
 ],
 "metadata": {
  "kernelspec": {
   "display_name": "Python 3 (ipykernel)",
   "language": "python",
   "name": "python3"
  },
  "language_info": {
   "codemirror_mode": {
    "name": "ipython",
    "version": 3
   },
   "file_extension": ".py",
   "mimetype": "text/x-python",
   "name": "python",
   "nbconvert_exporter": "python",
   "pygments_lexer": "ipython3",
   "version": "3.9.12"
  }
 },
 "nbformat": 4,
 "nbformat_minor": 5
}
