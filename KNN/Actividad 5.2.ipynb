{
 "cells": [
  {
   "cell_type": "code",
   "execution_count": 13,
   "id": "1d24435e",
   "metadata": {},
   "outputs": [],
   "source": [
    "from make_data import make_data\n",
    "from knn import euclidean_distance, manhattan_distance, cosine_distance, KNNRegressor"
   ]
  },
  {
   "cell_type": "code",
   "execution_count": 8,
   "id": "f85195ed",
   "metadata": {},
   "outputs": [],
   "source": [
    "#get data\n",
    "X, y = make_data(n_features=2, n_pts=300, noise=0.1)"
   ]
  },
  {
   "cell_type": "code",
   "execution_count": 16,
   "id": "de1ab456",
   "metadata": {},
   "outputs": [],
   "source": [
    "# separate into training and test\n",
    "X_train = X[5:]\n",
    "y_train = y[5:]\n",
    "X_test = X[:5]\n",
    "y_test = y[:5]"
   ]
  },
  {
   "cell_type": "code",
   "execution_count": 17,
   "id": "176c0a33",
   "metadata": {},
   "outputs": [
    {
     "name": "stdout",
     "output_type": "stream",
     "text": [
      "euclidean_distance\n",
      "Compare our predictions to the actual values. Are our predictions similar?\n",
      "Predictions None\n",
      "Actual [-2.05749703 -0.97203165 -0.840028   -1.21784721 -1.12808281]\n",
      "**************************************************\n",
      "manhattan_distance\n",
      "Compare our predictions to the actual values. Are our predictions similar?\n",
      "Predictions None\n",
      "Actual [-2.05749703 -0.97203165 -0.840028   -1.21784721 -1.12808281]\n",
      "**************************************************\n",
      "cosine_distance\n",
      "Compare our predictions to the actual values. Are our predictions similar?\n",
      "Predictions None\n",
      "Actual [-2.05749703 -0.97203165 -0.840028   -1.21784721 -1.12808281]\n",
      "**************************************************\n"
     ]
    }
   ],
   "source": [
    "# perform a KNN Regression using multiple distance functions\n",
    "for f in [euclidean_distance, manhattan_distance, cosine_distance]:\n",
    "    knn = KNNRegressor(k=7, distance=f)\n",
    "\n",
    "    knn.fit(X_train, y_train)\n",
    "    y_pred = knn.predict(X_test)\n",
    "    \n",
    "    print(f.__name__)\n",
    "    print(\"Compare our predictions to the actual values. Are our predictions similar?\")\n",
    "    print(\"Predictions\", y_pred)\n",
    "    print(\"Actual\", y_test)\n",
    "    print('*' * 50)"
   ]
  },
  {
   "cell_type": "code",
   "execution_count": null,
   "id": "81a5e700",
   "metadata": {},
   "outputs": [],
   "source": []
  }
 ],
 "metadata": {
  "kernelspec": {
   "display_name": "Python 3 (ipykernel)",
   "language": "python",
   "name": "python3"
  },
  "language_info": {
   "codemirror_mode": {
    "name": "ipython",
    "version": 3
   },
   "file_extension": ".py",
   "mimetype": "text/x-python",
   "name": "python",
   "nbconvert_exporter": "python",
   "pygments_lexer": "ipython3",
   "version": "3.9.12"
  }
 },
 "nbformat": 4,
 "nbformat_minor": 5
}
