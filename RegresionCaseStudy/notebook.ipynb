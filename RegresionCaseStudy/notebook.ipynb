{
 "cells": [
  {
   "cell_type": "code",
   "execution_count": 1,
   "id": "4a144100-09fa-4449-9a46-6da0ff123e34",
   "metadata": {},
   "outputs": [],
   "source": [
    "# begin exploration here!\n",
    "import numpy as np\n",
    "import pandas as pd\n",
    "import scipy.stats as stats\n",
    "\n",
    "# graphing\n",
    "import matplotlib.pyplot as plt\n",
    "import seaborn as sns\n",
    "from pandas.plotting import scatter_matrix\n",
    "\n",
    "# preprocessing\n",
    "from sklearn.preprocessing import PolynomialFeatures, StandardScaler, MinMaxScaler\n",
    "\n",
    "# model selection\n",
    "from sklearn.model_selection import train_test_split, KFold, GridSearchCV, cross_val_score\n",
    "\n",
    "from sklearn.metrics import (r2_score, mean_squared_error, accuracy_score, precision_score, recall_score,\n",
    "                             f1_score, roc_auc_score, roc_curve, precision_recall_curve)\n",
    "\n",
    "# models\n",
    "from sklearn.neighbors import KNeighborsClassifier, KNeighborsRegressor\n",
    "from sklearn.linear_model import LinearRegression, Lasso, Ridge, ElasticNet, LogisticRegression\n",
    "from datetime import date\n",
    "\n",
    "# enable reload of changed files\n",
    "%load_ext autoreload\n",
    "%autoreload 2\n",
    "\n",
    "# plot inline\n",
    "%matplotlib inline"
   ]
  },
  {
   "cell_type": "markdown",
   "id": "3ce2470c",
   "metadata": {},
   "source": [
    "# Loading Data"
   ]
  },
  {
   "cell_type": "code",
   "execution_count": 2,
   "id": "618fb1a8",
   "metadata": {},
   "outputs": [
    {
     "name": "stderr",
     "output_type": "stream",
     "text": [
      "C:\\Users\\jeramirez\\AppData\\Local\\Temp\\ipykernel_15368\\2801730928.py:1: DtypeWarning: Columns (13,39,40,41) have mixed types. Specify dtype option on import or set low_memory=False.\n",
      "  data = pd.read_csv('data/train.csv')\n"
     ]
    }
   ],
   "source": [
    "data = pd.read_csv('data/train.csv')"
   ]
  },
  {
   "cell_type": "code",
   "execution_count": 3,
   "id": "2e7dbb45",
   "metadata": {},
   "outputs": [
    {
     "name": "stdout",
     "output_type": "stream",
     "text": [
      "<class 'pandas.core.frame.DataFrame'>\n",
      "RangeIndex: 401125 entries, 0 to 401124\n",
      "Data columns (total 53 columns):\n",
      " #   Column                    Non-Null Count   Dtype  \n",
      "---  ------                    --------------   -----  \n",
      " 0   SalesID                   401125 non-null  int64  \n",
      " 1   SalePrice                 401125 non-null  int64  \n",
      " 2   MachineID                 401125 non-null  int64  \n",
      " 3   ModelID                   401125 non-null  int64  \n",
      " 4   datasource                401125 non-null  int64  \n",
      " 5   auctioneerID              380989 non-null  float64\n",
      " 6   YearMade                  401125 non-null  int64  \n",
      " 7   MachineHoursCurrentMeter  142765 non-null  float64\n",
      " 8   UsageBand                 69639 non-null   object \n",
      " 9   saledate                  401125 non-null  object \n",
      " 10  fiModelDesc               401125 non-null  object \n",
      " 11  fiBaseModel               401125 non-null  object \n",
      " 12  fiSecondaryDesc           263934 non-null  object \n",
      " 13  fiModelSeries             56908 non-null   object \n",
      " 14  fiModelDescriptor         71919 non-null   object \n",
      " 15  ProductSize               190350 non-null  object \n",
      " 16  fiProductClassDesc        401125 non-null  object \n",
      " 17  state                     401125 non-null  object \n",
      " 18  ProductGroup              401125 non-null  object \n",
      " 19  ProductGroupDesc          401125 non-null  object \n",
      " 20  Drive_System              104361 non-null  object \n",
      " 21  Enclosure                 400800 non-null  object \n",
      " 22  Forks                     192077 non-null  object \n",
      " 23  Pad_Type                  79134 non-null   object \n",
      " 24  Ride_Control              148606 non-null  object \n",
      " 25  Stick                     79134 non-null   object \n",
      " 26  Transmission              183230 non-null  object \n",
      " 27  Turbocharged              79134 non-null   object \n",
      " 28  Blade_Extension           25219 non-null   object \n",
      " 29  Blade_Width               25219 non-null   object \n",
      " 30  Enclosure_Type            25219 non-null   object \n",
      " 31  Engine_Horsepower         25219 non-null   object \n",
      " 32  Hydraulics                320570 non-null  object \n",
      " 33  Pushblock                 25219 non-null   object \n",
      " 34  Ripper                    104137 non-null  object \n",
      " 35  Scarifier                 25230 non-null   object \n",
      " 36  Tip_Control               25219 non-null   object \n",
      " 37  Tire_Size                 94718 non-null   object \n",
      " 38  Coupler                   213952 non-null  object \n",
      " 39  Coupler_System            43458 non-null   object \n",
      " 40  Grouser_Tracks            43362 non-null   object \n",
      " 41  Hydraulics_Flow           43362 non-null   object \n",
      " 42  Track_Type                99153 non-null   object \n",
      " 43  Undercarriage_Pad_Width   99872 non-null   object \n",
      " 44  Stick_Length              99218 non-null   object \n",
      " 45  Thumb                     99288 non-null   object \n",
      " 46  Pattern_Changer           99218 non-null   object \n",
      " 47  Grouser_Type              99153 non-null   object \n",
      " 48  Backhoe_Mounting          78672 non-null   object \n",
      " 49  Blade_Type                79833 non-null   object \n",
      " 50  Travel_Controls           79834 non-null   object \n",
      " 51  Differential_Type         69411 non-null   object \n",
      " 52  Steering_Controls         69369 non-null   object \n",
      "dtypes: float64(2), int64(6), object(45)\n",
      "memory usage: 162.2+ MB\n"
     ]
    }
   ],
   "source": [
    "data.info()"
   ]
  },
  {
   "cell_type": "code",
   "execution_count": 4,
   "id": "618b7262",
   "metadata": {},
   "outputs": [],
   "source": [
    "X = data[['SalePrice','MachineID','ModelID','datasource','auctioneerID','SalesID','MachineID','YearMade','MachineHoursCurrentMeter','UsageBand','saledate','fiProductClassDesc','state','ProductGroup','Enclosure']]"
   ]
  },
  {
   "cell_type": "code",
   "execution_count": 5,
   "id": "a9c82f89",
   "metadata": {},
   "outputs": [
    {
     "name": "stdout",
     "output_type": "stream",
     "text": [
      "<class 'pandas.core.frame.DataFrame'>\n",
      "RangeIndex: 401125 entries, 0 to 401124\n",
      "Data columns (total 15 columns):\n",
      " #   Column                    Non-Null Count   Dtype  \n",
      "---  ------                    --------------   -----  \n",
      " 0   SalePrice                 401125 non-null  int64  \n",
      " 1   MachineID                 401125 non-null  int64  \n",
      " 2   ModelID                   401125 non-null  int64  \n",
      " 3   datasource                401125 non-null  int64  \n",
      " 4   auctioneerID              380989 non-null  float64\n",
      " 5   SalesID                   401125 non-null  int64  \n",
      " 6   MachineID                 401125 non-null  int64  \n",
      " 7   YearMade                  401125 non-null  int64  \n",
      " 8   MachineHoursCurrentMeter  142765 non-null  float64\n",
      " 9   UsageBand                 69639 non-null   object \n",
      " 10  saledate                  401125 non-null  object \n",
      " 11  fiProductClassDesc        401125 non-null  object \n",
      " 12  state                     401125 non-null  object \n",
      " 13  ProductGroup              401125 non-null  object \n",
      " 14  Enclosure                 400800 non-null  object \n",
      "dtypes: float64(2), int64(7), object(6)\n",
      "memory usage: 45.9+ MB\n"
     ]
    }
   ],
   "source": [
    "X.info()"
   ]
  },
  {
   "cell_type": "code",
   "execution_count": 6,
   "id": "2962c82a",
   "metadata": {},
   "outputs": [
    {
     "data": {
      "text/plain": [
       "'\\nse debe limpiar \\nMachineHoursCurrentMeter         \\nUsageBand                   \\nEnclosure                      \\n'"
      ]
     },
     "execution_count": 6,
     "metadata": {},
     "output_type": "execute_result"
    }
   ],
   "source": [
    "X.isna().sum()\n",
    "'''\n",
    "se debe limpiar \n",
    "MachineHoursCurrentMeter         \n",
    "UsageBand                   \n",
    "Enclosure                      \n",
    "'''"
   ]
  },
  {
   "cell_type": "code",
   "execution_count": 7,
   "id": "56636d85",
   "metadata": {},
   "outputs": [
    {
     "data": {
      "text/plain": [
       "'\\nEl año 1000 no hace sentido\\n'"
      ]
     },
     "execution_count": 7,
     "metadata": {},
     "output_type": "execute_result"
    },
    {
     "data": {
      "image/png": "[encoded data removed]",
      "text/plain": [
       "<Figure size 432x288 with 1 Axes>"
      ]
     },
     "metadata": {
      "needs_background": "light"
     },
     "output_type": "display_data"
    }
   ],
   "source": [
    "X.YearMade.hist()\n",
    "'''\n",
    "El año 1000 no hace sentido\n",
    "'''"
   ]
  },
  {
   "cell_type": "code",
   "execution_count": 8,
   "id": "77eb6f1e",
   "metadata": {},
   "outputs": [
    {
     "data": {
      "text/plain": [
       "<AxesSubplot:>"
      ]
     },
     "execution_count": 8,
     "metadata": {},
     "output_type": "execute_result"
    },
    {
     "data": {
      "image/png": "[encoded data removed]",
      "text/plain": [
       "<Figure size 432x288 with 1 Axes>"
      ]
     },
     "metadata": {
      "needs_background": "light"
     },
     "output_type": "display_data"
    }
   ],
   "source": [
    "X['YearMade'][X.YearMade > 1000].hist()\n"
   ]
  },
  {
   "cell_type": "code",
   "execution_count": 9,
   "id": "b5910f90",
   "metadata": {},
   "outputs": [
    {
     "data": {
      "text/plain": [
       "'\\nel año 1000, aun es mayoria, esto es extraño, \\n¿se podrá reemplazar con un promedio?\\no se deberá reemplazar con la mediana??\\nprobablemente sirva el promedio pero por tipo de maquina...\\nTambien está extraño que haya maquinas fabricadas en 1937,1942, 1949 y 1947\\ndado que la informacion antes de 1960 parece no representativa, \\nse podría eliminar\\n'"
      ]
     },
     "execution_count": 9,
     "metadata": {},
     "output_type": "execute_result"
    }
   ],
   "source": [
    "X.YearMade.value_counts()\n",
    "'''\n",
    "el año 1000, aun es mayoria, esto es extraño, \n",
    "¿se podrá reemplazar con un promedio?\n",
    "o se deberá reemplazar con la mediana??\n",
    "probablemente sirva el promedio pero por tipo de maquina...\n",
    "Tambien está extraño que haya maquinas fabricadas en 1937,1942, 1949 y 1947\n",
    "dado que la informacion antes de 1960 parece no representativa, \n",
    "se podría eliminar\n",
    "'''"
   ]
  },
  {
   "cell_type": "code",
   "execution_count": 10,
   "id": "cbaae172",
   "metadata": {},
   "outputs": [
    {
     "name": "stdout",
     "output_type": "stream",
     "text": [
      "              YearMade\n",
      "ProductGroup          \n",
      "BL                1995\n",
      "MG                1985\n",
      "SSL               2000\n",
      "TEX               1997\n",
      "TTT               1991\n",
      "WL                1991\n",
      "              YearMade\n",
      "ProductGroup          \n",
      "BL                1995\n",
      "MG                1985\n",
      "SSL               2000\n",
      "TEX               1997\n",
      "TTT               1991\n",
      "WL                1991\n"
     ]
    }
   ],
   "source": [
    "mean_by_PG = X[['ProductGroup','YearMade']][X.YearMade>1000].groupby('ProductGroup').mean().round().astype(int)\n",
    "print(mean_by_PG)\n",
    "mean_by_PG = X[['ProductGroup','YearMade']][X.YearMade>1960].groupby('ProductGroup').mean().round().astype(int)\n",
    "print(mean_by_PG)"
   ]
  },
  {
   "cell_type": "code",
   "execution_count": 11,
   "id": "aaea8ac3",
   "metadata": {},
   "outputs": [
    {
     "name": "stdout",
     "output_type": "stream",
     "text": [
      "              YearMade\n",
      "ProductGroup          \n",
      "BL              1997.0\n",
      "MG              1985.0\n",
      "SSL             2000.0\n",
      "TEX             1997.0\n",
      "TTT             1993.0\n",
      "WL              1993.0\n",
      "              YearMade\n",
      "ProductGroup          \n",
      "BL              1997.0\n",
      "MG              1985.0\n",
      "SSL             2000.0\n",
      "TEX             1997.0\n",
      "TTT             1993.0\n",
      "WL              1993.0\n"
     ]
    },
    {
     "data": {
      "text/plain": [
       "'No hay un cambio significativo, por lo que se asigna la mediana que estadisticamente es un dato mas representativo y puede significar un menor BIAS'"
      ]
     },
     "execution_count": 11,
     "metadata": {},
     "output_type": "execute_result"
    }
   ],
   "source": [
    "median_by_PG = X[['ProductGroup','YearMade']][X.YearMade>1000].groupby('ProductGroup').median()\n",
    "print(median_by_PG)\n",
    "median_by_PG = X[['ProductGroup','YearMade']][X.YearMade>1950].groupby('ProductGroup').median()\n",
    "print(median_by_PG)\n",
    "'''No hay un cambio significativo, por lo que se asigna la mediana que estadisticamente es un dato mas representativo y puede significar un menor BIAS'''"
   ]
  },
  {
   "cell_type": "code",
   "execution_count": 12,
   "id": "ff014bfc",
   "metadata": {},
   "outputs": [
    {
     "data": {
      "text/plain": [
       "count    401125.000000\n",
       "mean       1899.156901\n",
       "std         291.797469\n",
       "min        1000.000000\n",
       "25%        1985.000000\n",
       "50%        1995.000000\n",
       "75%        2000.000000\n",
       "max        2013.000000\n",
       "Name: YearMade, dtype: float64"
      ]
     },
     "execution_count": 12,
     "metadata": {},
     "output_type": "execute_result"
    }
   ],
   "source": [
    "X.YearMade.describe()"
   ]
  },
  {
   "cell_type": "code",
   "execution_count": 13,
   "id": "50639721",
   "metadata": {},
   "outputs": [
    {
     "name": "stdout",
     "output_type": "stream",
     "text": [
      "              YearMade\n",
      "ProductGroup          \n",
      "BL              1997.0\n",
      "MG              1985.0\n",
      "SSL             2000.0\n",
      "TEX             1997.0\n",
      "TTT             1993.0\n",
      "WL              1993.0\n"
     ]
    },
    {
     "name": "stderr",
     "output_type": "stream",
     "text": [
      "C:\\Users\\jeramirez\\AppData\\Local\\Temp\\ipykernel_15368\\1502505588.py:5: SettingWithCopyWarning: \n",
      "A value is trying to be set on a copy of a slice from a DataFrame\n",
      "\n",
      "See the caveats in the documentation: https://pandas.pydata.org/pandas-docs/stable/user_guide/indexing.html#returning-a-view-versus-a-copy\n",
      "  X['YearMade'][(X.YearMade==1000) & (X.ProductGroup == pg)] = ym\n"
     ]
    }
   ],
   "source": [
    "'''Reemplazo los valores de YearMade == 1000\n",
    "con la media por cada grupo de producto'''\n",
    "print(median_by_PG)\n",
    "for pg,ym in median_by_PG.iterrows():\n",
    "    X['YearMade'][(X.YearMade==1000) & (X.ProductGroup == pg)] = ym"
   ]
  },
  {
   "cell_type": "code",
   "execution_count": 14,
   "id": "aaea43d4",
   "metadata": {},
   "outputs": [
    {
     "name": "stdout",
     "output_type": "stream",
     "text": [
      "<class 'pandas.core.frame.DataFrame'>\n",
      "Index: 6 entries, BL to WL\n",
      "Data columns (total 1 columns):\n",
      " #   Column    Non-Null Count  Dtype  \n",
      "---  ------    --------------  -----  \n",
      " 0   YearMade  6 non-null      float64\n",
      "dtypes: float64(1)\n",
      "memory usage: 96.0+ bytes\n"
     ]
    }
   ],
   "source": [
    "median_by_PG.info()"
   ]
  },
  {
   "cell_type": "code",
   "execution_count": 15,
   "id": "c28fbcbc",
   "metadata": {},
   "outputs": [
    {
     "data": {
      "text/plain": [
       "<AxesSubplot:>"
      ]
     },
     "execution_count": 15,
     "metadata": {},
     "output_type": "execute_result"
    },
    {
     "data": {
      "image/png": "[encoded data removed]",
      "text/plain": [
       "<Figure size 432x288 with 1 Axes>"
      ]
     },
     "metadata": {
      "needs_background": "light"
     },
     "output_type": "display_data"
    }
   ],
   "source": [
    "X.YearMade.hist()"
   ]
  },
  {
   "cell_type": "code",
   "execution_count": 16,
   "id": "1ddc790d",
   "metadata": {},
   "outputs": [
    {
     "data": {
      "text/html": [
       "<div>\n",
       "<style scoped>\n",
       "    .dataframe tbody tr th:only-of-type {\n",
       "        vertical-align: middle;\n",
       "    }\n",
       "\n",
       "    .dataframe tbody tr th {\n",
       "        vertical-align: top;\n",
       "    }\n",
       "\n",
       "    .dataframe thead th {\n",
       "        text-align: right;\n",
       "    }\n",
       "</style>\n",
       "<table border=\"1\" class=\"dataframe\">\n",
       "  <thead>\n",
       "    <tr style=\"text-align: right;\">\n",
       "      <th></th>\n",
       "      <th>SalePrice</th>\n",
       "      <th>MachineID</th>\n",
       "      <th>ModelID</th>\n",
       "      <th>datasource</th>\n",
       "      <th>auctioneerID</th>\n",
       "      <th>SalesID</th>\n",
       "      <th>MachineID</th>\n",
       "      <th>YearMade</th>\n",
       "      <th>MachineHoursCurrentMeter</th>\n",
       "      <th>UsageBand</th>\n",
       "      <th>saledate</th>\n",
       "      <th>fiProductClassDesc</th>\n",
       "      <th>state</th>\n",
       "      <th>ProductGroup</th>\n",
       "      <th>Enclosure</th>\n",
       "    </tr>\n",
       "  </thead>\n",
       "  <tbody>\n",
       "    <tr>\n",
       "      <th>9</th>\n",
       "      <td>65000</td>\n",
       "      <td>1016474</td>\n",
       "      <td>3883</td>\n",
       "      <td>121</td>\n",
       "      <td>3.0</td>\n",
       "      <td>1139275</td>\n",
       "      <td>1016474</td>\n",
       "      <td>1000</td>\n",
       "      <td>20700.0</td>\n",
       "      <td>Medium</td>\n",
       "      <td>08/09/2007 00:00</td>\n",
       "      <td>Wheel Loader - 350.0 to 500.0 Horsepower</td>\n",
       "      <td>Florida</td>\n",
       "      <td>WL</td>\n",
       "      <td>EROPS w AC</td>\n",
       "    </tr>\n",
       "    <tr>\n",
       "      <th>21</th>\n",
       "      <td>34500</td>\n",
       "      <td>999192</td>\n",
       "      <td>3350</td>\n",
       "      <td>121</td>\n",
       "      <td>3.0</td>\n",
       "      <td>1139333</td>\n",
       "      <td>999192</td>\n",
       "      <td>1000</td>\n",
       "      <td>16328.0</td>\n",
       "      <td>Medium</td>\n",
       "      <td>10/19/2006 0:00</td>\n",
       "      <td>Motorgrader - 45.0 to 130.0 Horsepower</td>\n",
       "      <td>Nevada</td>\n",
       "      <td>MG</td>\n",
       "      <td>EROPS</td>\n",
       "    </tr>\n",
       "    <tr>\n",
       "      <th>33</th>\n",
       "      <td>14000</td>\n",
       "      <td>1050658</td>\n",
       "      <td>1918</td>\n",
       "      <td>121</td>\n",
       "      <td>3.0</td>\n",
       "      <td>1139369</td>\n",
       "      <td>1050658</td>\n",
       "      <td>1000</td>\n",
       "      <td>0.0</td>\n",
       "      <td>NaN</td>\n",
       "      <td>1/28/2010 0:00</td>\n",
       "      <td>Track Type Tractor, Dozer - 130.0 to 160.0 Hor...</td>\n",
       "      <td>Michigan</td>\n",
       "      <td>TTT</td>\n",
       "      <td>OROPS</td>\n",
       "    </tr>\n",
       "    <tr>\n",
       "      <th>35</th>\n",
       "      <td>10000</td>\n",
       "      <td>1068548</td>\n",
       "      <td>112</td>\n",
       "      <td>121</td>\n",
       "      <td>3.0</td>\n",
       "      <td>1139382</td>\n",
       "      <td>1068548</td>\n",
       "      <td>1000</td>\n",
       "      <td>3981.0</td>\n",
       "      <td>Low</td>\n",
       "      <td>06/09/2011 00:00</td>\n",
       "      <td>Wheel Loader - 275.0 to 350.0 Horsepower</td>\n",
       "      <td>Arkansas</td>\n",
       "      <td>WL</td>\n",
       "      <td>EROPS w AC</td>\n",
       "    </tr>\n",
       "    <tr>\n",
       "      <th>36</th>\n",
       "      <td>8250</td>\n",
       "      <td>1011114</td>\n",
       "      <td>7110</td>\n",
       "      <td>121</td>\n",
       "      <td>3.0</td>\n",
       "      <td>1139390</td>\n",
       "      <td>1011114</td>\n",
       "      <td>1000</td>\n",
       "      <td>0.0</td>\n",
       "      <td>NaN</td>\n",
       "      <td>5/19/2011 0:00</td>\n",
       "      <td>Backhoe Loader - 14.0 to 15.0 Ft Standard Digg...</td>\n",
       "      <td>Mississippi</td>\n",
       "      <td>BL</td>\n",
       "      <td>OROPS</td>\n",
       "    </tr>\n",
       "    <tr>\n",
       "      <th>...</th>\n",
       "      <td>...</td>\n",
       "      <td>...</td>\n",
       "      <td>...</td>\n",
       "      <td>...</td>\n",
       "      <td>...</td>\n",
       "      <td>...</td>\n",
       "      <td>...</td>\n",
       "      <td>...</td>\n",
       "      <td>...</td>\n",
       "      <td>...</td>\n",
       "      <td>...</td>\n",
       "      <td>...</td>\n",
       "      <td>...</td>\n",
       "      <td>...</td>\n",
       "      <td>...</td>\n",
       "    </tr>\n",
       "    <tr>\n",
       "      <th>401066</th>\n",
       "      <td>14000</td>\n",
       "      <td>1797445</td>\n",
       "      <td>20995</td>\n",
       "      <td>149</td>\n",
       "      <td>1.0</td>\n",
       "      <td>6332598</td>\n",
       "      <td>1797445</td>\n",
       "      <td>1000</td>\n",
       "      <td>NaN</td>\n",
       "      <td>NaN</td>\n",
       "      <td>6/23/2011 0:00</td>\n",
       "      <td>Hydraulic Excavator, Track - 12.0 to 14.0 Metr...</td>\n",
       "      <td>Ohio</td>\n",
       "      <td>TEX</td>\n",
       "      <td>EROPS</td>\n",
       "    </tr>\n",
       "    <tr>\n",
       "      <th>401069</th>\n",
       "      <td>37500</td>\n",
       "      <td>1864798</td>\n",
       "      <td>20998</td>\n",
       "      <td>149</td>\n",
       "      <td>2.0</td>\n",
       "      <td>6332803</td>\n",
       "      <td>1864798</td>\n",
       "      <td>1000</td>\n",
       "      <td>NaN</td>\n",
       "      <td>NaN</td>\n",
       "      <td>9/16/2011 0:00</td>\n",
       "      <td>Hydraulic Excavator, Track - 14.0 to 16.0 Metr...</td>\n",
       "      <td>Maryland</td>\n",
       "      <td>TEX</td>\n",
       "      <td>EROPS</td>\n",
       "    </tr>\n",
       "    <tr>\n",
       "      <th>401072</th>\n",
       "      <td>11000</td>\n",
       "      <td>1929774</td>\n",
       "      <td>21436</td>\n",
       "      <td>149</td>\n",
       "      <td>1.0</td>\n",
       "      <td>6333184</td>\n",
       "      <td>1929774</td>\n",
       "      <td>1000</td>\n",
       "      <td>NaN</td>\n",
       "      <td>NaN</td>\n",
       "      <td>11/02/2011 00:00</td>\n",
       "      <td>Hydraulic Excavator, Track - 3.0 to 4.0 Metric...</td>\n",
       "      <td>Maryland</td>\n",
       "      <td>TEX</td>\n",
       "      <td>EROPS</td>\n",
       "    </tr>\n",
       "    <tr>\n",
       "      <th>401073</th>\n",
       "      <td>10000</td>\n",
       "      <td>1926563</td>\n",
       "      <td>21435</td>\n",
       "      <td>149</td>\n",
       "      <td>1.0</td>\n",
       "      <td>6333196</td>\n",
       "      <td>1926563</td>\n",
       "      <td>1000</td>\n",
       "      <td>NaN</td>\n",
       "      <td>NaN</td>\n",
       "      <td>12/14/2011 0:00</td>\n",
       "      <td>Hydraulic Excavator, Track - 2.0 to 3.0 Metric...</td>\n",
       "      <td>Illinois</td>\n",
       "      <td>TEX</td>\n",
       "      <td>EROPS</td>\n",
       "    </tr>\n",
       "    <tr>\n",
       "      <th>401075</th>\n",
       "      <td>10000</td>\n",
       "      <td>1933178</td>\n",
       "      <td>21438</td>\n",
       "      <td>149</td>\n",
       "      <td>1.0</td>\n",
       "      <td>6333202</td>\n",
       "      <td>1933178</td>\n",
       "      <td>1000</td>\n",
       "      <td>NaN</td>\n",
       "      <td>NaN</td>\n",
       "      <td>8/17/2011 0:00</td>\n",
       "      <td>Hydraulic Excavator, Track - 3.0 to 4.0 Metric...</td>\n",
       "      <td>Florida</td>\n",
       "      <td>TEX</td>\n",
       "      <td>EROPS</td>\n",
       "    </tr>\n",
       "  </tbody>\n",
       "</table>\n",
       "<p>38185 rows × 15 columns</p>\n",
       "</div>"
      ],
      "text/plain": [
       "        SalePrice  MachineID  ModelID  datasource  auctioneerID  SalesID  \\\n",
       "9           65000    1016474     3883         121           3.0  1139275   \n",
       "21          34500     999192     3350         121           3.0  1139333   \n",
       "33          14000    1050658     1918         121           3.0  1139369   \n",
       "35          10000    1068548      112         121           3.0  1139382   \n",
       "36           8250    1011114     7110         121           3.0  1139390   \n",
       "...           ...        ...      ...         ...           ...      ...   \n",
       "401066      14000    1797445    20995         149           1.0  6332598   \n",
       "401069      37500    1864798    20998         149           2.0  6332803   \n",
       "401072      11000    1929774    21436         149           1.0  6333184   \n",
       "401073      10000    1926563    21435         149           1.0  6333196   \n",
       "401075      10000    1933178    21438         149           1.0  6333202   \n",
       "\n",
       "        MachineID  YearMade  MachineHoursCurrentMeter UsageBand  \\\n",
       "9         1016474      1000                   20700.0    Medium   \n",
       "21         999192      1000                   16328.0    Medium   \n",
       "33        1050658      1000                       0.0       NaN   \n",
       "35        1068548      1000                    3981.0       Low   \n",
       "36        1011114      1000                       0.0       NaN   \n",
       "...           ...       ...                       ...       ...   \n",
       "401066    1797445      1000                       NaN       NaN   \n",
       "401069    1864798      1000                       NaN       NaN   \n",
       "401072    1929774      1000                       NaN       NaN   \n",
       "401073    1926563      1000                       NaN       NaN   \n",
       "401075    1933178      1000                       NaN       NaN   \n",
       "\n",
       "                saledate                                 fiProductClassDesc  \\\n",
       "9       08/09/2007 00:00           Wheel Loader - 350.0 to 500.0 Horsepower   \n",
       "21       10/19/2006 0:00             Motorgrader - 45.0 to 130.0 Horsepower   \n",
       "33        1/28/2010 0:00  Track Type Tractor, Dozer - 130.0 to 160.0 Hor...   \n",
       "35      06/09/2011 00:00           Wheel Loader - 275.0 to 350.0 Horsepower   \n",
       "36        5/19/2011 0:00  Backhoe Loader - 14.0 to 15.0 Ft Standard Digg...   \n",
       "...                  ...                                                ...   \n",
       "401066    6/23/2011 0:00  Hydraulic Excavator, Track - 12.0 to 14.0 Metr...   \n",
       "401069    9/16/2011 0:00  Hydraulic Excavator, Track - 14.0 to 16.0 Metr...   \n",
       "401072  11/02/2011 00:00  Hydraulic Excavator, Track - 3.0 to 4.0 Metric...   \n",
       "401073   12/14/2011 0:00  Hydraulic Excavator, Track - 2.0 to 3.0 Metric...   \n",
       "401075    8/17/2011 0:00  Hydraulic Excavator, Track - 3.0 to 4.0 Metric...   \n",
       "\n",
       "              state ProductGroup   Enclosure  \n",
       "9           Florida           WL  EROPS w AC  \n",
       "21           Nevada           MG       EROPS  \n",
       "33         Michigan          TTT       OROPS  \n",
       "35         Arkansas           WL  EROPS w AC  \n",
       "36      Mississippi           BL       OROPS  \n",
       "...             ...          ...         ...  \n",
       "401066         Ohio          TEX       EROPS  \n",
       "401069     Maryland          TEX       EROPS  \n",
       "401072     Maryland          TEX       EROPS  \n",
       "401073     Illinois          TEX       EROPS  \n",
       "401075      Florida          TEX       EROPS  \n",
       "\n",
       "[38185 rows x 15 columns]"
      ]
     },
     "execution_count": 16,
     "metadata": {},
     "output_type": "execute_result"
    }
   ],
   "source": [
    "X[X.YearMade==1000]"
   ]
  },
  {
   "cell_type": "code",
   "execution_count": 17,
   "id": "5df19a91",
   "metadata": {},
   "outputs": [
    {
     "name": "stderr",
     "output_type": "stream",
     "text": [
      "C:\\Users\\jeramirez\\AppData\\Local\\Temp\\ipykernel_15368\\3664248004.py:1: SettingWithCopyWarning: \n",
      "A value is trying to be set on a copy of a slice from a DataFrame.\n",
      "Try using .loc[row_indexer,col_indexer] = value instead\n",
      "\n",
      "See the caveats in the documentation: https://pandas.pydata.org/pandas-docs/stable/user_guide/indexing.html#returning-a-view-versus-a-copy\n",
      "  X['YearMade'] = X.YearMade.fillna(X.YearMade.mean())\n"
     ]
    }
   ],
   "source": [
    "X['YearMade'] = X.YearMade.fillna(X.YearMade.mean())"
   ]
  },
  {
   "cell_type": "code",
   "execution_count": 18,
   "id": "52e7d286",
   "metadata": {},
   "outputs": [
    {
     "data": {
      "text/plain": [
       "'\\nestoy buscando las ventas que no tienen horas\\nreemplazaré las NaN con la media por tipo de maquina...\\nlas horas 0, tambien las reemplazaré con el promedio, \\nya que son horas no reportadas, pero no se especifica que sean maquinas nuevas\\n'"
      ]
     },
     "execution_count": 18,
     "metadata": {},
     "output_type": "execute_result"
    }
   ],
   "source": [
    "X[X['MachineHoursCurrentMeter'].isna()]\n",
    "'''\n",
    "estoy buscando las ventas que no tienen horas\n",
    "reemplazaré las NaN con la media por tipo de maquina...\n",
    "las horas 0, tambien las reemplazaré con el promedio, \n",
    "ya que son horas no reportadas, pero no se especifica que sean maquinas nuevas\n",
    "'''"
   ]
  },
  {
   "cell_type": "code",
   "execution_count": 19,
   "id": "e4f4468c",
   "metadata": {},
   "outputs": [
    {
     "name": "stderr",
     "output_type": "stream",
     "text": [
      "C:\\Users\\jeramirez\\AppData\\Local\\Temp\\ipykernel_15368\\588695639.py:1: SettingWithCopyWarning: \n",
      "A value is trying to be set on a copy of a slice from a DataFrame.\n",
      "Try using .loc[row_indexer,col_indexer] = value instead\n",
      "\n",
      "See the caveats in the documentation: https://pandas.pydata.org/pandas-docs/stable/user_guide/indexing.html#returning-a-view-versus-a-copy\n",
      "  X['MachineHoursCurrentMeter'] = X.MachineHoursCurrentMeter.fillna(0)\n"
     ]
    }
   ],
   "source": [
    "X['MachineHoursCurrentMeter'] = X.MachineHoursCurrentMeter.fillna(0)"
   ]
  },
  {
   "cell_type": "code",
   "execution_count": 20,
   "id": "deba8915",
   "metadata": {},
   "outputs": [
    {
     "data": {
      "text/plain": [
       "<AxesSubplot:>"
      ]
     },
     "execution_count": 20,
     "metadata": {},
     "output_type": "execute_result"
    },
    {
     "data": {
      "image/png": "[encoded data removed]",
      "text/plain": [
       "<Figure size 432x288 with 1 Axes>"
      ]
     },
     "metadata": {
      "needs_background": "light"
     },
     "output_type": "display_data"
    }
   ],
   "source": [
    "X['MachineHoursCurrentMeter'][X['MachineHoursCurrentMeter'] > 300000].hist()"
   ]
  },
  {
   "cell_type": "code",
   "execution_count": 21,
   "id": "612bcf3a",
   "metadata": {},
   "outputs": [
    {
     "data": {
      "text/plain": [
       "count    4.011250e+05\n",
       "mean     1.230726e+03\n",
       "std      1.654290e+04\n",
       "min      0.000000e+00\n",
       "25%      0.000000e+00\n",
       "50%      0.000000e+00\n",
       "75%      0.000000e+00\n",
       "max      2.483300e+06\n",
       "Name: MachineHoursCurrentMeter, dtype: float64"
      ]
     },
     "execution_count": 21,
     "metadata": {},
     "output_type": "execute_result"
    }
   ],
   "source": [
    "X.MachineHoursCurrentMeter.describe().T"
   ]
  },
  {
   "cell_type": "code",
   "execution_count": 22,
   "id": "734e1b1a",
   "metadata": {},
   "outputs": [
    {
     "name": "stderr",
     "output_type": "stream",
     "text": [
      "C:\\Users\\jeramirez\\AppData\\Local\\Temp\\ipykernel_15368\\2366538935.py:5: SettingWithCopyWarning: \n",
      "A value is trying to be set on a copy of a slice from a DataFrame.\n",
      "Try using .loc[row_indexer,col_indexer] = value instead\n",
      "\n",
      "See the caveats in the documentation: https://pandas.pydata.org/pandas-docs/stable/user_guide/indexing.html#returning-a-view-versus-a-copy\n",
      "  X['MHCM_years'] = X.MachineHoursCurrentMeter.fillna(0) / (24*365)\n"
     ]
    }
   ],
   "source": [
    "'''\n",
    "Agrego la columna de MHCM_years para comparar vs las horas de vida del equipo\n",
    "para descartar outliers\n",
    "'''\n",
    "X['MHCM_years'] = X.MachineHoursCurrentMeter.fillna(0) / (24*365)"
   ]
  },
  {
   "cell_type": "code",
   "execution_count": 23,
   "id": "4eb0b8fa",
   "metadata": {},
   "outputs": [],
   "source": [
    "'''\n",
    "Elimino los renglones donde las horas de trabajo sean mayores a las horas de vida del equipo, \n",
    "ya que el dato no hace sentido\n",
    "'''\n",
    "X = X[((pd.DatetimeIndex(X['saledate']).year - X.YearMade) < X.MHCM_years)==False]"
   ]
  },
  {
   "cell_type": "code",
   "execution_count": 24,
   "id": "f7c2da7b",
   "metadata": {},
   "outputs": [
    {
     "name": "stderr",
     "output_type": "stream",
     "text": [
      "C:\\Users\\jeramirez\\AppData\\Local\\Temp\\ipykernel_15368\\1425925898.py:2: SettingWithCopyWarning: \n",
      "A value is trying to be set on a copy of a slice from a DataFrame.\n",
      "Try using .loc[row_indexer,col_indexer] = value instead\n",
      "\n",
      "See the caveats in the documentation: https://pandas.pydata.org/pandas-docs/stable/user_guide/indexing.html#returning-a-view-versus-a-copy\n",
      "  X['saledate'] = pd.to_datetime(X['saledate'].astype(str), format='%m/%d/%Y %H:%M', errors='coerce')\n"
     ]
    }
   ],
   "source": [
    "#Corregir la hora\n",
    "X['saledate'] = pd.to_datetime(X['saledate'].astype(str), format='%m/%d/%Y %H:%M', errors='coerce')"
   ]
  },
  {
   "cell_type": "code",
   "execution_count": 25,
   "id": "0d9e4acf",
   "metadata": {},
   "outputs": [],
   "source": [
    "X = X.drop(columns='MachineHoursCurrentMeter',axis = 1)"
   ]
  },
  {
   "cell_type": "code",
   "execution_count": 26,
   "id": "c42adc2c",
   "metadata": {},
   "outputs": [
    {
     "name": "stdout",
     "output_type": "stream",
     "text": [
      "<class 'pandas.core.frame.DataFrame'>\n",
      "Int64Index: 400671 entries, 0 to 401124\n",
      "Data columns (total 15 columns):\n",
      " #   Column              Non-Null Count   Dtype         \n",
      "---  ------              --------------   -----         \n",
      " 0   SalePrice           400671 non-null  int64         \n",
      " 1   MachineID           400671 non-null  int64         \n",
      " 2   ModelID             400671 non-null  int64         \n",
      " 3   datasource          400671 non-null  int64         \n",
      " 4   auctioneerID        380716 non-null  float64       \n",
      " 5   SalesID             400671 non-null  int64         \n",
      " 6   MachineID           400671 non-null  int64         \n",
      " 7   YearMade            400671 non-null  int64         \n",
      " 8   UsageBand           69197 non-null   object        \n",
      " 9   saledate            400671 non-null  datetime64[ns]\n",
      " 10  fiProductClassDesc  400671 non-null  object        \n",
      " 11  state               400671 non-null  object        \n",
      " 12  ProductGroup        400671 non-null  object        \n",
      " 13  Enclosure           400346 non-null  object        \n",
      " 14  MHCM_years          400671 non-null  float64       \n",
      "dtypes: datetime64[ns](1), float64(2), int64(7), object(5)\n",
      "memory usage: 48.9+ MB\n"
     ]
    }
   ],
   "source": [
    "X.info()"
   ]
  },
  {
   "cell_type": "code",
   "execution_count": 27,
   "id": "d895c603",
   "metadata": {},
   "outputs": [],
   "source": [
    "usage = {'Low':3,'High':1,'Medium':2}\n",
    "X.UsageBand = X['UsageBand'].map(usage).fillna(0)"
   ]
  },
  {
   "cell_type": "markdown",
   "id": "49ad6ffa",
   "metadata": {},
   "source": [
    "'''\n",
    "Ahora es momento de trabajar con las columnas de tipo texto\n",
    "'''\n",
    "fiProductClassDesc\n",
    "state\n",
    "ProductGroup\n",
    "Enclosure "
   ]
  },
  {
   "cell_type": "code",
   "execution_count": 28,
   "id": "86e47901",
   "metadata": {},
   "outputs": [],
   "source": [
    "'''\n",
    "Considero que se debe descartar, porque existe la posibilidad de que en los datos de prueba \n",
    "y en ejecucion no se cumpla alguna de las columnas...\n",
    "'''\n",
    "X = X.drop(columns='fiProductClassDesc',axis = 1)"
   ]
  },
  {
   "cell_type": "code",
   "execution_count": 29,
   "id": "385d4621",
   "metadata": {},
   "outputs": [
    {
     "name": "stdout",
     "output_type": "stream",
     "text": [
      "<class 'pandas.core.frame.DataFrame'>\n",
      "Int64Index: 400671 entries, 0 to 401124\n",
      "Data columns (total 14 columns):\n",
      " #   Column        Non-Null Count   Dtype         \n",
      "---  ------        --------------   -----         \n",
      " 0   SalePrice     400671 non-null  int64         \n",
      " 1   MachineID     400671 non-null  int64         \n",
      " 2   ModelID       400671 non-null  int64         \n",
      " 3   datasource    400671 non-null  int64         \n",
      " 4   auctioneerID  380716 non-null  float64       \n",
      " 5   SalesID       400671 non-null  int64         \n",
      " 6   MachineID     400671 non-null  int64         \n",
      " 7   YearMade      400671 non-null  int64         \n",
      " 8   UsageBand     400671 non-null  float64       \n",
      " 9   saledate      400671 non-null  datetime64[ns]\n",
      " 10  state         400671 non-null  object        \n",
      " 11  ProductGroup  400671 non-null  object        \n",
      " 12  Enclosure     400346 non-null  object        \n",
      " 13  MHCM_years    400671 non-null  float64       \n",
      "dtypes: datetime64[ns](1), float64(3), int64(7), object(3)\n",
      "memory usage: 45.9+ MB\n"
     ]
    }
   ],
   "source": [
    "X.info()"
   ]
  },
  {
   "cell_type": "code",
   "execution_count": 30,
   "id": "f39c330e",
   "metadata": {},
   "outputs": [
    {
     "name": "stdout",
     "output_type": "stream",
     "text": [
      "<class 'pandas.core.frame.DataFrame'>\n",
      "Int64Index: 400671 entries, 0 to 401124\n",
      "Data columns (total 66 columns):\n",
      " #   Column             Non-Null Count   Dtype         \n",
      "---  ------             --------------   -----         \n",
      " 0   SalePrice          400671 non-null  int64         \n",
      " 1   MachineID          400671 non-null  int64         \n",
      " 2   ModelID            400671 non-null  int64         \n",
      " 3   datasource         400671 non-null  int64         \n",
      " 4   auctioneerID       380716 non-null  float64       \n",
      " 5   SalesID            400671 non-null  int64         \n",
      " 6   MachineID          400671 non-null  int64         \n",
      " 7   YearMade           400671 non-null  int64         \n",
      " 8   UsageBand          400671 non-null  float64       \n",
      " 9   saledate           400671 non-null  datetime64[ns]\n",
      " 10  state              400671 non-null  object        \n",
      " 11  ProductGroup       400671 non-null  object        \n",
      " 12  Enclosure          400346 non-null  object        \n",
      " 13  MHCM_years         400671 non-null  float64       \n",
      " 14  Is_Alaska          400671 non-null  uint8         \n",
      " 15  Is_Arizona         400671 non-null  uint8         \n",
      " 16  Is_Arkansas        400671 non-null  uint8         \n",
      " 17  Is_California      400671 non-null  uint8         \n",
      " 18  Is_Colorado        400671 non-null  uint8         \n",
      " 19  Is_Connecticut     400671 non-null  uint8         \n",
      " 20  Is_Delaware        400671 non-null  uint8         \n",
      " 21  Is_Florida         400671 non-null  uint8         \n",
      " 22  Is_Georgia         400671 non-null  uint8         \n",
      " 23  Is_Hawaii          400671 non-null  uint8         \n",
      " 24  Is_Idaho           400671 non-null  uint8         \n",
      " 25  Is_Illinois        400671 non-null  uint8         \n",
      " 26  Is_Indiana         400671 non-null  uint8         \n",
      " 27  Is_Iowa            400671 non-null  uint8         \n",
      " 28  Is_Kansas          400671 non-null  uint8         \n",
      " 29  Is_Kentucky        400671 non-null  uint8         \n",
      " 30  Is_Louisiana       400671 non-null  uint8         \n",
      " 31  Is_Maine           400671 non-null  uint8         \n",
      " 32  Is_Maryland        400671 non-null  uint8         \n",
      " 33  Is_Massachusetts   400671 non-null  uint8         \n",
      " 34  Is_Michigan        400671 non-null  uint8         \n",
      " 35  Is_Minnesota       400671 non-null  uint8         \n",
      " 36  Is_Mississippi     400671 non-null  uint8         \n",
      " 37  Is_Missouri        400671 non-null  uint8         \n",
      " 38  Is_Montana         400671 non-null  uint8         \n",
      " 39  Is_Nebraska        400671 non-null  uint8         \n",
      " 40  Is_Nevada          400671 non-null  uint8         \n",
      " 41  Is_New Hampshire   400671 non-null  uint8         \n",
      " 42  Is_New Jersey      400671 non-null  uint8         \n",
      " 43  Is_New Mexico      400671 non-null  uint8         \n",
      " 44  Is_New York        400671 non-null  uint8         \n",
      " 45  Is_North Carolina  400671 non-null  uint8         \n",
      " 46  Is_North Dakota    400671 non-null  uint8         \n",
      " 47  Is_Ohio            400671 non-null  uint8         \n",
      " 48  Is_Oklahoma        400671 non-null  uint8         \n",
      " 49  Is_Oregon          400671 non-null  uint8         \n",
      " 50  Is_Pennsylvania    400671 non-null  uint8         \n",
      " 51  Is_Puerto Rico     400671 non-null  uint8         \n",
      " 52  Is_Rhode Island    400671 non-null  uint8         \n",
      " 53  Is_South Carolina  400671 non-null  uint8         \n",
      " 54  Is_South Dakota    400671 non-null  uint8         \n",
      " 55  Is_Tennessee       400671 non-null  uint8         \n",
      " 56  Is_Texas           400671 non-null  uint8         \n",
      " 57  Is_Unspecified     400671 non-null  uint8         \n",
      " 58  Is_Utah            400671 non-null  uint8         \n",
      " 59  Is_Vermont         400671 non-null  uint8         \n",
      " 60  Is_Virginia        400671 non-null  uint8         \n",
      " 61  Is_Washington      400671 non-null  uint8         \n",
      " 62  Is_Washington DC   400671 non-null  uint8         \n",
      " 63  Is_West Virginia   400671 non-null  uint8         \n",
      " 64  Is_Wisconsin       400671 non-null  uint8         \n",
      " 65  Is_Wyoming         400671 non-null  uint8         \n",
      "dtypes: datetime64[ns](1), float64(3), int64(7), object(3), uint8(52)\n",
      "memory usage: 65.7+ MB\n"
     ]
    }
   ],
   "source": [
    "X[['Is_Alaska','Is_Arizona','Is_Arkansas','Is_California','Is_Colorado','Is_Connecticut','Is_Delaware',\n",
    "'Is_Florida','Is_Georgia','Is_Hawaii','Is_Idaho','Is_Illinois','Is_Indiana','Is_Iowa','Is_Kansas','Is_Kentucky',\n",
    "'Is_Louisiana','Is_Maine','Is_Maryland','Is_Massachusetts','Is_Michigan','Is_Minnesota','Is_Mississippi','Is_Missouri',\n",
    "'Is_Montana','Is_Nebraska','Is_Nevada','Is_New Hampshire','Is_New Jersey','Is_New Mexico','Is_New York','Is_North Carolina',\n",
    "'Is_North Dakota','Is_Ohio','Is_Oklahoma','Is_Oregon','Is_Pennsylvania','Is_Puerto Rico','Is_Rhode Island','Is_South Carolina',\n",
    "'Is_South Dakota','Is_Tennessee','Is_Texas','Is_Unspecified','Is_Utah','Is_Vermont','Is_Virginia','Is_Washington',\n",
    "'Is_Washington DC','Is_West Virginia','Is_Wisconsin','Is_Wyoming']] = pd.get_dummies(X.state, drop_first = True, prefix='Is')\n",
    "X.info()"
   ]
  },
  {
   "cell_type": "code",
   "execution_count": 31,
   "id": "7c244797",
   "metadata": {},
   "outputs": [
    {
     "ename": "ValueError",
     "evalue": "Columns must be same length as key",
     "output_type": "error",
     "traceback": [
      "\u001b[1;31m---------------------------------------------------------------------------\u001b[0m",
      "\u001b[1;31mValueError\u001b[0m                                Traceback (most recent call last)",
      "Input \u001b[1;32mIn [31]\u001b[0m, in \u001b[0;36m<cell line: 1>\u001b[1;34m()\u001b[0m\n\u001b[1;32m----> 1\u001b[0m X[[\u001b[38;5;124m'\u001b[39m\u001b[38;5;124mIs_BL\u001b[39m\u001b[38;5;124m'\u001b[39m, \u001b[38;5;124m'\u001b[39m\u001b[38;5;124mIs_MG\u001b[39m\u001b[38;5;124m'\u001b[39m,\u001b[38;5;124m'\u001b[39m\u001b[38;5;124mIs_SSL\u001b[39m\u001b[38;5;124m'\u001b[39m, \u001b[38;5;124m'\u001b[39m\u001b[38;5;124mIs_TEX\u001b[39m\u001b[38;5;124m'\u001b[39m, \u001b[38;5;124m'\u001b[39m\u001b[38;5;124mIs_TTT\u001b[39m\u001b[38;5;124m'\u001b[39m, \u001b[38;5;124m'\u001b[39m\u001b[38;5;124mIs_WL\u001b[39m\u001b[38;5;124m'\u001b[39m ]]  \u001b[38;5;241m=\u001b[39m pd\u001b[38;5;241m.\u001b[39mget_dummies(X\u001b[38;5;241m.\u001b[39mProductGroup, drop_first \u001b[38;5;241m=\u001b[39m \u001b[38;5;28;01mTrue\u001b[39;00m, prefix\u001b[38;5;241m=\u001b[39m\u001b[38;5;124m'\u001b[39m\u001b[38;5;124mIs\u001b[39m\u001b[38;5;124m'\u001b[39m)\n\u001b[0;32m      2\u001b[0m X\u001b[38;5;241m.\u001b[39minfo()\n",
      "File \u001b[1;32m~\\Anaconda3\\lib\\site-packages\\pandas\\core\\frame.py:3643\u001b[0m, in \u001b[0;36mDataFrame.__setitem__\u001b[1;34m(self, key, value)\u001b[0m\n\u001b[0;32m   3641\u001b[0m     \u001b[38;5;28mself\u001b[39m\u001b[38;5;241m.\u001b[39m_setitem_frame(key, value)\n\u001b[0;32m   3642\u001b[0m \u001b[38;5;28;01melif\u001b[39;00m \u001b[38;5;28misinstance\u001b[39m(key, (Series, np\u001b[38;5;241m.\u001b[39mndarray, \u001b[38;5;28mlist\u001b[39m, Index)):\n\u001b[1;32m-> 3643\u001b[0m     \u001b[38;5;28;43mself\u001b[39;49m\u001b[38;5;241;43m.\u001b[39;49m\u001b[43m_setitem_array\u001b[49m\u001b[43m(\u001b[49m\u001b[43mkey\u001b[49m\u001b[43m,\u001b[49m\u001b[43m \u001b[49m\u001b[43mvalue\u001b[49m\u001b[43m)\u001b[49m\n\u001b[0;32m   3644\u001b[0m \u001b[38;5;28;01melif\u001b[39;00m \u001b[38;5;28misinstance\u001b[39m(value, DataFrame):\n\u001b[0;32m   3645\u001b[0m     \u001b[38;5;28mself\u001b[39m\u001b[38;5;241m.\u001b[39m_set_item_frame_value(key, value)\n",
      "File \u001b[1;32m~\\Anaconda3\\lib\\site-packages\\pandas\\core\\frame.py:3685\u001b[0m, in \u001b[0;36mDataFrame._setitem_array\u001b[1;34m(self, key, value)\u001b[0m\n\u001b[0;32m   3680\u001b[0m \u001b[38;5;28;01melse\u001b[39;00m:\n\u001b[0;32m   3681\u001b[0m     \u001b[38;5;66;03m# Note: unlike self.iloc[:, indexer] = value, this will\u001b[39;00m\n\u001b[0;32m   3682\u001b[0m     \u001b[38;5;66;03m#  never try to overwrite values inplace\u001b[39;00m\n\u001b[0;32m   3684\u001b[0m     \u001b[38;5;28;01mif\u001b[39;00m \u001b[38;5;28misinstance\u001b[39m(value, DataFrame):\n\u001b[1;32m-> 3685\u001b[0m         \u001b[43mcheck_key_length\u001b[49m\u001b[43m(\u001b[49m\u001b[38;5;28;43mself\u001b[39;49m\u001b[38;5;241;43m.\u001b[39;49m\u001b[43mcolumns\u001b[49m\u001b[43m,\u001b[49m\u001b[43m \u001b[49m\u001b[43mkey\u001b[49m\u001b[43m,\u001b[49m\u001b[43m \u001b[49m\u001b[43mvalue\u001b[49m\u001b[43m)\u001b[49m\n\u001b[0;32m   3686\u001b[0m         \u001b[38;5;28;01mfor\u001b[39;00m k1, k2 \u001b[38;5;129;01min\u001b[39;00m \u001b[38;5;28mzip\u001b[39m(key, value\u001b[38;5;241m.\u001b[39mcolumns):\n\u001b[0;32m   3687\u001b[0m             \u001b[38;5;28mself\u001b[39m[k1] \u001b[38;5;241m=\u001b[39m value[k2]\n",
      "File \u001b[1;32m~\\Anaconda3\\lib\\site-packages\\pandas\\core\\indexers\\utils.py:432\u001b[0m, in \u001b[0;36mcheck_key_length\u001b[1;34m(columns, key, value)\u001b[0m\n\u001b[0;32m    429\u001b[0m \u001b[38;5;28;01melse\u001b[39;00m:\n\u001b[0;32m    430\u001b[0m     \u001b[38;5;66;03m# Missing keys in columns are represented as -1\u001b[39;00m\n\u001b[0;32m    431\u001b[0m     \u001b[38;5;28;01mif\u001b[39;00m \u001b[38;5;28mlen\u001b[39m(columns\u001b[38;5;241m.\u001b[39mget_indexer_non_unique(key)[\u001b[38;5;241m0\u001b[39m]) \u001b[38;5;241m!=\u001b[39m \u001b[38;5;28mlen\u001b[39m(value\u001b[38;5;241m.\u001b[39mcolumns):\n\u001b[1;32m--> 432\u001b[0m         \u001b[38;5;28;01mraise\u001b[39;00m \u001b[38;5;167;01mValueError\u001b[39;00m(\u001b[38;5;124m\"\u001b[39m\u001b[38;5;124mColumns must be same length as key\u001b[39m\u001b[38;5;124m\"\u001b[39m)\n",
      "\u001b[1;31mValueError\u001b[0m: Columns must be same length as key"
     ]
    }
   ],
   "source": [
    "X[['Is_BL', 'Is_MG','Is_SSL', 'Is_TEX', 'Is_TTT', 'Is_WL' ]]  = pd.get_dummies(X.ProductGroup, drop_first = True, prefix='Is')\n",
    "X.info()"
   ]
  },
  {
   "cell_type": "code",
   "execution_count": null,
   "id": "434187fb",
   "metadata": {},
   "outputs": [],
   "source": [
    "X[['Is_EROPS w AC', 'Is_EROPS','Is_nan','Is_NO ROPS','Is_None or Unspecified''Is_OROPS' ]]  = pd.get_dummies(X.Enclosure, drop_first = True, prefix='Is')"
   ]
  },
  {
   "cell_type": "code",
   "execution_count": null,
   "id": "6f88e4ab",
   "metadata": {},
   "outputs": [],
   "source": [
    "X = X.drop(columns=['state','ProductGroup','Enclosure'],axis = 1)"
   ]
  },
  {
   "cell_type": "code",
   "execution_count": null,
   "id": "71ce7d28",
   "metadata": {},
   "outputs": [],
   "source": [
    "X['saledate']=X['saledate'].map(date.toordinal)"
   ]
  },
  {
   "cell_type": "code",
   "execution_count": null,
   "id": "7949b81b",
   "metadata": {},
   "outputs": [],
   "source": [
    "X.info()"
   ]
  },
  {
   "cell_type": "code",
   "execution_count": null,
   "id": "7a409599",
   "metadata": {},
   "outputs": [],
   "source": [
    "X.describe().T"
   ]
  },
  {
   "cell_type": "code",
   "execution_count": null,
   "id": "76834346",
   "metadata": {},
   "outputs": [],
   "source": [
    "X.auctioneerID = X.auctioneerID.fillna(0)"
   ]
  },
  {
   "cell_type": "code",
   "execution_count": null,
   "id": "2539ed62",
   "metadata": {},
   "outputs": [],
   "source": [
    "y_train = X['SalePrice']\n",
    "X_train = X.iloc[:,1:]"
   ]
  },
  {
   "cell_type": "code",
   "execution_count": null,
   "id": "50e631ed",
   "metadata": {},
   "outputs": [],
   "source": [
    "y_train,X_train"
   ]
  },
  {
   "cell_type": "code",
   "execution_count": null,
   "id": "eb4f16ed",
   "metadata": {},
   "outputs": [],
   "source": [
    "data_test = pd.read_csv('data/test.csv')"
   ]
  },
  {
   "cell_type": "code",
   "execution_count": null,
   "id": "f1c5bfc4",
   "metadata": {},
   "outputs": [],
   "source": [
    "X_tst = data_test[['MachineID','ModelID','datasource','auctioneerID','SalesID','MachineID','YearMade','MachineHoursCurrentMeter','UsageBand','saledate','fiProductClassDesc','state','ProductGroup','Enclosure']]"
   ]
  },
  {
   "cell_type": "code",
   "execution_count": null,
   "id": "4ecaa2f4",
   "metadata": {},
   "outputs": [],
   "source": [
    "median_by_PG_tst = X_tst[['ProductGroup','YearMade']][X_tst.YearMade>1960].groupby('ProductGroup').mean().round().astype(int)\n",
    "for pg,ym in median_by_PG_tst.iterrows():\n",
    "    X_tst['YearMade'][(X_tst.YearMade==1000) & (X_tst.ProductGroup == pg)] = ym"
   ]
  },
  {
   "cell_type": "code",
   "execution_count": null,
   "id": "8562309b",
   "metadata": {},
   "outputs": [],
   "source": [
    "X_tst['YearMade'] = X_tst.YearMade.fillna(X_tst.YearMade.mean())"
   ]
  },
  {
   "cell_type": "code",
   "execution_count": null,
   "id": "62f0c4dc",
   "metadata": {},
   "outputs": [],
   "source": [
    "X_tst['MachineHoursCurrentMeter'] = X_tst.MachineHoursCurrentMeter.fillna(0)"
   ]
  },
  {
   "cell_type": "code",
   "execution_count": null,
   "id": "77c5cbb1",
   "metadata": {},
   "outputs": [],
   "source": [
    "X_tst['saledate'] = pd.to_datetime(X_tst['saledate'].astype(str), format='%m/%d/%Y %H:%M', errors='coerce')"
   ]
  },
  {
   "cell_type": "code",
   "execution_count": null,
   "id": "8ecebb63",
   "metadata": {},
   "outputs": [],
   "source": [
    "X_tst = X_tst.drop(columns='MachineHoursCurrentMeter',axis = 1)"
   ]
  },
  {
   "cell_type": "code",
   "execution_count": null,
   "id": "eb05ccec",
   "metadata": {},
   "outputs": [],
   "source": [
    "usage = {'Low':3,'High':1,'Medium':2}\n",
    "X_tst.UsageBand = X_tst['UsageBand'].map(usage).fillna(0)"
   ]
  },
  {
   "cell_type": "code",
   "execution_count": null,
   "id": "d3836f93",
   "metadata": {},
   "outputs": [],
   "source": [
    "X_tst = X_tst.drop(columns='fiProductClassDesc',axis = 1)"
   ]
  },
  {
   "cell_type": "code",
   "execution_count": null,
   "id": "4513ec0a",
   "metadata": {},
   "outputs": [],
   "source": [
    "pd.get_dummies(X_tst.state, drop_first = True, prefix='Is'),pd.get_dummies(data.state, drop_first = True, prefix='Is')"
   ]
  },
  {
   "cell_type": "code",
   "execution_count": null,
   "id": "d80a3356",
   "metadata": {},
   "outputs": [],
   "source": [
    "X_tst[['Is_Alaska','Is_Arizona','Is_Arkansas','Is_California','Is_Colorado','Is_Connecticut','Is_Delaware',\n",
    "'Is_Florida','Is_Georgia','Is_Hawaii','Is_Idaho','Is_Illinois','Is_Indiana','Is_Iowa','Is_Kansas','Is_Kentucky',\n",
    "'Is_Louisiana','Is_Maine','Is_Maryland','Is_Massachusetts','Is_Michigan','Is_Minnesota','Is_Mississippi','Is_Missouri',\n",
    "'Is_Montana','Is_Nebraska','Is_Nevada','Is_New Hampshire','Is_New Jersey','Is_New Mexico','Is_New York','Is_North Carolina',\n",
    "'Is_North Dakota','Is_Ohio','Is_Oklahoma','Is_Oregon','Is_Pennsylvania','Is_Puerto Rico','Is_Rhode Island','Is_South Carolina',\n",
    "'Is_South Dakota','Is_Tennessee','Is_Texas','Is_Unspecified','Is_Utah','Is_Vermont','Is_Virginia','Is_Washington',\n",
    "'Is_Washington DC','Is_West Virginia','Is_Wisconsin','Is_Wyoming']] = pd.get_dummies(X_tst.state, drop_first = True, prefix='Is')"
   ]
  },
  {
   "cell_type": "code",
   "execution_count": null,
   "id": "e12ee1ae",
   "metadata": {},
   "outputs": [],
   "source": [
    "X_tst[['Is_BL', 'Is_MG','Is_SSL', 'Is_TEX', 'Is_TTT', 'Is_WL' ]]  = pd.get_dummies(X_tst.ProductGroup, drop_first = True, prefix='Is')"
   ]
  },
  {
   "cell_type": "code",
   "execution_count": null,
   "id": "a4d282a6",
   "metadata": {},
   "outputs": [],
   "source": [
    "X_tst[['Is_EROPS w AC', 'Is_EROPS','Is_nan','Is_NO ROPS','Is_None or Unspecified''Is_OROPS' ]]  = pd.get_dummies(X_tst.Enclosure, drop_first = True, prefix='Is')"
   ]
  },
  {
   "cell_type": "code",
   "execution_count": null,
   "id": "75c919de",
   "metadata": {},
   "outputs": [],
   "source": [
    "X_tst = X_tst.drop(columns=['state','ProductGroup','Enclosure'],axis = 1)"
   ]
  },
  {
   "cell_type": "code",
   "execution_count": null,
   "id": "32adde5e",
   "metadata": {},
   "outputs": [],
   "source": [
    "X_tst['saledate']=X_tst['saledate'].map(date.toordinal)"
   ]
  },
  {
   "cell_type": "code",
   "execution_count": null,
   "id": "1d90db9d",
   "metadata": {},
   "outputs": [],
   "source": [
    "X_tst.auctioneerID = X_tst.auctioneerID.fillna(0)"
   ]
  }
 ],
 "metadata": {
  "kernelspec": {
   "display_name": "Python 3 (ipykernel)",
   "language": "python",
   "name": "python3"
  },
  "language_info": {
   "codemirror_mode": {
    "name": "ipython",
    "version": 3
   },
   "file_extension": ".py",
   "mimetype": "text/x-python",
   "name": "python",
   "nbconvert_exporter": "python",
   "pygments_lexer": "ipython3",
   "version": "3.9.12"
  }
 },
 "nbformat": 4,
 "nbformat_minor": 5
}
