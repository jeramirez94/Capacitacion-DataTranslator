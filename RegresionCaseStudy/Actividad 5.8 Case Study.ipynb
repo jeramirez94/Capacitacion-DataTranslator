{
 "cells": [
  {
   "cell_type": "code",
   "execution_count": 1,
   "id": "7d557370",
   "metadata": {},
   "outputs": [],
   "source": [
    "# begin exploration here!\n",
    "import numpy as np\n",
    "import pandas as pd\n",
    "import scipy.stats as stats\n",
    "\n",
    "# preprocessing\n",
    "from sklearn.preprocessing import PolynomialFeatures, StandardScaler, MinMaxScaler\n",
    "\n",
    "# model selection\n",
    "from sklearn.model_selection import train_test_split, KFold, GridSearchCV, cross_val_score\n",
    "\n",
    "from sklearn.metrics import (r2_score, mean_squared_error, accuracy_score, precision_score, recall_score, make_scorer,\n",
    "                             f1_score, roc_auc_score, roc_curve, precision_recall_curve)\n",
    "\n",
    "# models\n",
    "from sklearn.neighbors import KNeighborsClassifier, KNeighborsRegressor\n",
    "from sklearn.linear_model import LinearRegression, Lasso, Ridge, ElasticNet, LogisticRegression\n",
    "from datetime import date"
   ]
  },
  {
   "cell_type": "code",
   "execution_count": 2,
   "id": "e21b7efd",
   "metadata": {},
   "outputs": [
    {
     "name": "stderr",
     "output_type": "stream",
     "text": [
      "C:\\Users\\jeramirez\\AppData\\Local\\Temp\\ipykernel_17212\\772843367.py:1: DtypeWarning: Columns (13,39,40,41) have mixed types. Specify dtype option on import or set low_memory=False.\n",
      "  data = pd.read_csv('data/train.csv',index_col= 'SalesID')\n"
     ]
    }
   ],
   "source": [
    "data = pd.read_csv('data/train.csv',index_col= 'SalesID')\n",
    "test = pd.read_csv('data/test.csv',index_col= 'SalesID')"
   ]
  },
  {
   "cell_type": "code",
   "execution_count": 3,
   "id": "04c3b64a",
   "metadata": {},
   "outputs": [],
   "source": [
    "#Round 1 Selecciono las primeras columnas\n",
    "y_train = data['SalePrice']\n",
    "X_train = data[['MachineID','YearMade','MachineHoursCurrentMeter','UsageBand','ProductGroup','saledate']]\n",
    "X_test = test[['MachineID','YearMade','MachineHoursCurrentMeter','UsageBand','ProductGroup','saledate']]"
   ]
  },
  {
   "cell_type": "code",
   "execution_count": 81,
   "id": "de4bdf3b",
   "metadata": {},
   "outputs": [
    {
     "data": {
      "text/html": [
       "<div>\n",
       "<style scoped>\n",
       "    .dataframe tbody tr th:only-of-type {\n",
       "        vertical-align: middle;\n",
       "    }\n",
       "\n",
       "    .dataframe tbody tr th {\n",
       "        vertical-align: top;\n",
       "    }\n",
       "\n",
       "    .dataframe thead th {\n",
       "        text-align: right;\n",
       "    }\n",
       "</style>\n",
       "<table border=\"1\" class=\"dataframe\">\n",
       "  <thead>\n",
       "    <tr style=\"text-align: right;\">\n",
       "      <th></th>\n",
       "      <th>count</th>\n",
       "      <th>mean</th>\n",
       "      <th>std</th>\n",
       "      <th>min</th>\n",
       "      <th>25%</th>\n",
       "      <th>50%</th>\n",
       "      <th>75%</th>\n",
       "      <th>max</th>\n",
       "    </tr>\n",
       "  </thead>\n",
       "  <tbody>\n",
       "    <tr>\n",
       "      <th>MachineID</th>\n",
       "      <td>401125.0</td>\n",
       "      <td>1.217903e+06</td>\n",
       "      <td>440991.954249</td>\n",
       "      <td>0.0</td>\n",
       "      <td>1088697.0</td>\n",
       "      <td>1279490.0</td>\n",
       "      <td>1468067.0</td>\n",
       "      <td>2486330.0</td>\n",
       "    </tr>\n",
       "    <tr>\n",
       "      <th>YearMade</th>\n",
       "      <td>401125.0</td>\n",
       "      <td>1.899157e+03</td>\n",
       "      <td>291.797469</td>\n",
       "      <td>1000.0</td>\n",
       "      <td>1985.0</td>\n",
       "      <td>1995.0</td>\n",
       "      <td>2000.0</td>\n",
       "      <td>2013.0</td>\n",
       "    </tr>\n",
       "    <tr>\n",
       "      <th>MachineHoursCurrentMeter</th>\n",
       "      <td>142765.0</td>\n",
       "      <td>3.457955e+03</td>\n",
       "      <td>27590.256413</td>\n",
       "      <td>0.0</td>\n",
       "      <td>0.0</td>\n",
       "      <td>0.0</td>\n",
       "      <td>3025.0</td>\n",
       "      <td>2483300.0</td>\n",
       "    </tr>\n",
       "  </tbody>\n",
       "</table>\n",
       "</div>"
      ],
      "text/plain": [
       "                             count          mean            std     min  \\\n",
       "MachineID                 401125.0  1.217903e+06  440991.954249     0.0   \n",
       "YearMade                  401125.0  1.899157e+03     291.797469  1000.0   \n",
       "MachineHoursCurrentMeter  142765.0  3.457955e+03   27590.256413     0.0   \n",
       "\n",
       "                                25%        50%        75%        max  \n",
       "MachineID                 1088697.0  1279490.0  1468067.0  2486330.0  \n",
       "YearMade                     1985.0     1995.0     2000.0     2013.0  \n",
       "MachineHoursCurrentMeter        0.0        0.0     3025.0  2483300.0  "
      ]
     },
     "execution_count": 81,
     "metadata": {},
     "output_type": "execute_result"
    }
   ],
   "source": [
    "X_train.describe().T"
   ]
  },
  {
   "cell_type": "code",
   "execution_count": 4,
   "id": "1f34cc7c",
   "metadata": {},
   "outputs": [],
   "source": [
    "#Clean Year Made\n",
    "def clean_YearMade(df, m):    \n",
    "    median_by_PG = df[['ProductGroup','YearMade']][df.YearMade>1960].groupby('ProductGroup').median().round().astype(int)\n",
    "    for pg,ym in median_by_PG.iterrows():\n",
    "        df['YearMade'][(df.YearMade==1000) & (df.ProductGroup == pg)] = ym\n",
    "    df['YearMade'] = df.YearMade.fillna(df.YearMade.mean())\n",
    "    return(df['YearMade'])"
   ]
  },
  {
   "cell_type": "code",
   "execution_count": 5,
   "id": "28356098",
   "metadata": {},
   "outputs": [],
   "source": [
    "def convert_saledate(df):\n",
    "    return(pd.to_datetime(df.astype(str), format='%m/%d/%Y %H:%M', errors='coerce').map(date.toordinal))"
   ]
  },
  {
   "cell_type": "code",
   "execution_count": 6,
   "id": "d50fd485",
   "metadata": {},
   "outputs": [],
   "source": [
    "#Funcion para limpiar las horas\n",
    "def clean_Hours(df, m):\n",
    "    #Llenando los nan\n",
    "    df = df.fillna(m)\n",
    "    return(df)"
   ]
  },
  {
   "cell_type": "code",
   "execution_count": 7,
   "id": "e73a5f1b",
   "metadata": {},
   "outputs": [],
   "source": [
    "def clean_usageBand(df):\n",
    "    usage = {'Low':3,'High':1,'Medium':2}\n",
    "    return(df.map(usage).fillna(0))"
   ]
  },
  {
   "cell_type": "code",
   "execution_count": 8,
   "id": "636ef1fb",
   "metadata": {},
   "outputs": [
    {
     "name": "stderr",
     "output_type": "stream",
     "text": [
      "C:\\Users\\jeramirez\\AppData\\Local\\Temp\\ipykernel_17212\\530721590.py:5: SettingWithCopyWarning: \n",
      "A value is trying to be set on a copy of a slice from a DataFrame\n",
      "\n",
      "See the caveats in the documentation: https://pandas.pydata.org/pandas-docs/stable/user_guide/indexing.html#returning-a-view-versus-a-copy\n",
      "  df['YearMade'][(df.YearMade==1000) & (df.ProductGroup == pg)] = ym\n",
      "C:\\Users\\jeramirez\\AppData\\Local\\Temp\\ipykernel_17212\\530721590.py:5: SettingWithCopyWarning: \n",
      "A value is trying to be set on a copy of a slice from a DataFrame\n",
      "\n",
      "See the caveats in the documentation: https://pandas.pydata.org/pandas-docs/stable/user_guide/indexing.html#returning-a-view-versus-a-copy\n",
      "  df['YearMade'][(df.YearMade==1000) & (df.ProductGroup == pg)] = ym\n",
      "C:\\Users\\jeramirez\\AppData\\Local\\Temp\\ipykernel_17212\\530721590.py:5: SettingWithCopyWarning: \n",
      "A value is trying to be set on a copy of a slice from a DataFrame\n",
      "\n",
      "See the caveats in the documentation: https://pandas.pydata.org/pandas-docs/stable/user_guide/indexing.html#returning-a-view-versus-a-copy\n",
      "  df['YearMade'][(df.YearMade==1000) & (df.ProductGroup == pg)] = ym\n",
      "C:\\Users\\jeramirez\\AppData\\Local\\Temp\\ipykernel_17212\\530721590.py:5: SettingWithCopyWarning: \n",
      "A value is trying to be set on a copy of a slice from a DataFrame\n",
      "\n",
      "See the caveats in the documentation: https://pandas.pydata.org/pandas-docs/stable/user_guide/indexing.html#returning-a-view-versus-a-copy\n",
      "  df['YearMade'][(df.YearMade==1000) & (df.ProductGroup == pg)] = ym\n",
      "C:\\Users\\jeramirez\\AppData\\Local\\Temp\\ipykernel_17212\\530721590.py:5: SettingWithCopyWarning: \n",
      "A value is trying to be set on a copy of a slice from a DataFrame\n",
      "\n",
      "See the caveats in the documentation: https://pandas.pydata.org/pandas-docs/stable/user_guide/indexing.html#returning-a-view-versus-a-copy\n",
      "  df['YearMade'][(df.YearMade==1000) & (df.ProductGroup == pg)] = ym\n",
      "C:\\Users\\jeramirez\\AppData\\Local\\Temp\\ipykernel_17212\\530721590.py:5: SettingWithCopyWarning: \n",
      "A value is trying to be set on a copy of a slice from a DataFrame\n",
      "\n",
      "See the caveats in the documentation: https://pandas.pydata.org/pandas-docs/stable/user_guide/indexing.html#returning-a-view-versus-a-copy\n",
      "  df['YearMade'][(df.YearMade==1000) & (df.ProductGroup == pg)] = ym\n",
      "C:\\Users\\jeramirez\\AppData\\Local\\Temp\\ipykernel_17212\\530721590.py:5: SettingWithCopyWarning: \n",
      "A value is trying to be set on a copy of a slice from a DataFrame\n",
      "\n",
      "See the caveats in the documentation: https://pandas.pydata.org/pandas-docs/stable/user_guide/indexing.html#returning-a-view-versus-a-copy\n",
      "  df['YearMade'][(df.YearMade==1000) & (df.ProductGroup == pg)] = ym\n",
      "C:\\Users\\jeramirez\\AppData\\Local\\Temp\\ipykernel_17212\\530721590.py:6: SettingWithCopyWarning: \n",
      "A value is trying to be set on a copy of a slice from a DataFrame.\n",
      "Try using .loc[row_indexer,col_indexer] = value instead\n",
      "\n",
      "See the caveats in the documentation: https://pandas.pydata.org/pandas-docs/stable/user_guide/indexing.html#returning-a-view-versus-a-copy\n",
      "  df['YearMade'] = df.YearMade.fillna(df.YearMade.mean())\n",
      "C:\\Users\\jeramirez\\AppData\\Local\\Temp\\ipykernel_17212\\2718099053.py:1: SettingWithCopyWarning: \n",
      "A value is trying to be set on a copy of a slice from a DataFrame.\n",
      "Try using .loc[row_indexer,col_indexer] = value instead\n",
      "\n",
      "See the caveats in the documentation: https://pandas.pydata.org/pandas-docs/stable/user_guide/indexing.html#returning-a-view-versus-a-copy\n",
      "  X_train['YearMade'] = clean_YearMade(X_train[['ProductGroup','YearMade']], X_train.YearMade.mean())\n",
      "C:\\Users\\jeramirez\\AppData\\Local\\Temp\\ipykernel_17212\\530721590.py:5: SettingWithCopyWarning: \n",
      "A value is trying to be set on a copy of a slice from a DataFrame\n",
      "\n",
      "See the caveats in the documentation: https://pandas.pydata.org/pandas-docs/stable/user_guide/indexing.html#returning-a-view-versus-a-copy\n",
      "  df['YearMade'][(df.YearMade==1000) & (df.ProductGroup == pg)] = ym\n",
      "C:\\Users\\jeramirez\\AppData\\Local\\Temp\\ipykernel_17212\\530721590.py:5: SettingWithCopyWarning: \n",
      "A value is trying to be set on a copy of a slice from a DataFrame\n",
      "\n",
      "See the caveats in the documentation: https://pandas.pydata.org/pandas-docs/stable/user_guide/indexing.html#returning-a-view-versus-a-copy\n",
      "  df['YearMade'][(df.YearMade==1000) & (df.ProductGroup == pg)] = ym\n",
      "C:\\Users\\jeramirez\\AppData\\Local\\Temp\\ipykernel_17212\\530721590.py:5: SettingWithCopyWarning: \n",
      "A value is trying to be set on a copy of a slice from a DataFrame\n",
      "\n",
      "See the caveats in the documentation: https://pandas.pydata.org/pandas-docs/stable/user_guide/indexing.html#returning-a-view-versus-a-copy\n",
      "  df['YearMade'][(df.YearMade==1000) & (df.ProductGroup == pg)] = ym\n",
      "C:\\Users\\jeramirez\\AppData\\Local\\Temp\\ipykernel_17212\\530721590.py:5: SettingWithCopyWarning: \n",
      "A value is trying to be set on a copy of a slice from a DataFrame\n",
      "\n",
      "See the caveats in the documentation: https://pandas.pydata.org/pandas-docs/stable/user_guide/indexing.html#returning-a-view-versus-a-copy\n",
      "  df['YearMade'][(df.YearMade==1000) & (df.ProductGroup == pg)] = ym\n",
      "C:\\Users\\jeramirez\\AppData\\Local\\Temp\\ipykernel_17212\\530721590.py:5: SettingWithCopyWarning: \n",
      "A value is trying to be set on a copy of a slice from a DataFrame\n",
      "\n",
      "See the caveats in the documentation: https://pandas.pydata.org/pandas-docs/stable/user_guide/indexing.html#returning-a-view-versus-a-copy\n",
      "  df['YearMade'][(df.YearMade==1000) & (df.ProductGroup == pg)] = ym\n",
      "C:\\Users\\jeramirez\\AppData\\Local\\Temp\\ipykernel_17212\\530721590.py:5: SettingWithCopyWarning: \n",
      "A value is trying to be set on a copy of a slice from a DataFrame\n",
      "\n",
      "See the caveats in the documentation: https://pandas.pydata.org/pandas-docs/stable/user_guide/indexing.html#returning-a-view-versus-a-copy\n",
      "  df['YearMade'][(df.YearMade==1000) & (df.ProductGroup == pg)] = ym\n",
      "C:\\Users\\jeramirez\\AppData\\Local\\Temp\\ipykernel_17212\\530721590.py:5: SettingWithCopyWarning: \n",
      "A value is trying to be set on a copy of a slice from a DataFrame\n",
      "\n",
      "See the caveats in the documentation: https://pandas.pydata.org/pandas-docs/stable/user_guide/indexing.html#returning-a-view-versus-a-copy\n",
      "  df['YearMade'][(df.YearMade==1000) & (df.ProductGroup == pg)] = ym\n",
      "C:\\Users\\jeramirez\\AppData\\Local\\Temp\\ipykernel_17212\\530721590.py:6: SettingWithCopyWarning: \n",
      "A value is trying to be set on a copy of a slice from a DataFrame.\n",
      "Try using .loc[row_indexer,col_indexer] = value instead\n",
      "\n",
      "See the caveats in the documentation: https://pandas.pydata.org/pandas-docs/stable/user_guide/indexing.html#returning-a-view-versus-a-copy\n",
      "  df['YearMade'] = df.YearMade.fillna(df.YearMade.mean())\n",
      "C:\\Users\\jeramirez\\AppData\\Local\\Temp\\ipykernel_17212\\2718099053.py:2: SettingWithCopyWarning: \n",
      "A value is trying to be set on a copy of a slice from a DataFrame.\n",
      "Try using .loc[row_indexer,col_indexer] = value instead\n",
      "\n",
      "See the caveats in the documentation: https://pandas.pydata.org/pandas-docs/stable/user_guide/indexing.html#returning-a-view-versus-a-copy\n",
      "  X_test['YearMade'] = clean_YearMade(X_test[['ProductGroup','YearMade']], X_train.YearMade.mean())\n"
     ]
    }
   ],
   "source": [
    "X_train['YearMade'] = clean_YearMade(X_train[['ProductGroup','YearMade']], X_train.YearMade.mean())\n",
    "X_test['YearMade'] = clean_YearMade(X_test[['ProductGroup','YearMade']], X_train.YearMade.mean())"
   ]
  },
  {
   "cell_type": "code",
   "execution_count": 9,
   "id": "f90c933c",
   "metadata": {},
   "outputs": [
    {
     "name": "stderr",
     "output_type": "stream",
     "text": [
      "C:\\Users\\jeramirez\\AppData\\Local\\Temp\\ipykernel_17212\\3447429734.py:1: SettingWithCopyWarning: \n",
      "A value is trying to be set on a copy of a slice from a DataFrame.\n",
      "Try using .loc[row_indexer,col_indexer] = value instead\n",
      "\n",
      "See the caveats in the documentation: https://pandas.pydata.org/pandas-docs/stable/user_guide/indexing.html#returning-a-view-versus-a-copy\n",
      "  X_train['saledate'] = convert_saledate(X_train['saledate'])\n",
      "C:\\Users\\jeramirez\\AppData\\Local\\Temp\\ipykernel_17212\\3447429734.py:2: SettingWithCopyWarning: \n",
      "A value is trying to be set on a copy of a slice from a DataFrame.\n",
      "Try using .loc[row_indexer,col_indexer] = value instead\n",
      "\n",
      "See the caveats in the documentation: https://pandas.pydata.org/pandas-docs/stable/user_guide/indexing.html#returning-a-view-versus-a-copy\n",
      "  X_test['saledate'] = convert_saledate(X_test['saledate'])\n"
     ]
    }
   ],
   "source": [
    "X_train['saledate'] = convert_saledate(X_train['saledate'])\n",
    "X_test['saledate'] = convert_saledate(X_test['saledate'])"
   ]
  },
  {
   "cell_type": "code",
   "execution_count": 10,
   "id": "22aaf9db",
   "metadata": {},
   "outputs": [
    {
     "name": "stderr",
     "output_type": "stream",
     "text": [
      "C:\\Users\\jeramirez\\AppData\\Local\\Temp\\ipykernel_17212\\4058190766.py:1: SettingWithCopyWarning: \n",
      "A value is trying to be set on a copy of a slice from a DataFrame.\n",
      "Try using .loc[row_indexer,col_indexer] = value instead\n",
      "\n",
      "See the caveats in the documentation: https://pandas.pydata.org/pandas-docs/stable/user_guide/indexing.html#returning-a-view-versus-a-copy\n",
      "  X_train['MachineHoursCurrentMeter'] = clean_Hours(X_train['MachineHoursCurrentMeter'], X_train.MachineHoursCurrentMeter.mean())\n",
      "C:\\Users\\jeramirez\\AppData\\Local\\Temp\\ipykernel_17212\\4058190766.py:2: SettingWithCopyWarning: \n",
      "A value is trying to be set on a copy of a slice from a DataFrame.\n",
      "Try using .loc[row_indexer,col_indexer] = value instead\n",
      "\n",
      "See the caveats in the documentation: https://pandas.pydata.org/pandas-docs/stable/user_guide/indexing.html#returning-a-view-versus-a-copy\n",
      "  X_test['MachineHoursCurrentMeter'] = clean_Hours(X_test['MachineHoursCurrentMeter'], X_train.MachineHoursCurrentMeter.mean())\n"
     ]
    }
   ],
   "source": [
    "X_train['MachineHoursCurrentMeter'] = clean_Hours(X_train['MachineHoursCurrentMeter'], X_train.MachineHoursCurrentMeter.mean())\n",
    "X_test['MachineHoursCurrentMeter'] = clean_Hours(X_test['MachineHoursCurrentMeter'], X_train.MachineHoursCurrentMeter.mean())"
   ]
  },
  {
   "cell_type": "code",
   "execution_count": 11,
   "id": "278d13bd",
   "metadata": {},
   "outputs": [
    {
     "name": "stdout",
     "output_type": "stream",
     "text": [
      "SalesID\n",
      "1222837       NaN\n",
      "1222839    Medium\n",
      "1222841    Medium\n",
      "1222843       Low\n",
      "1222845    Medium\n",
      "            ...  \n",
      "6333344       NaN\n",
      "6333345       NaN\n",
      "6333347       NaN\n",
      "6333348       NaN\n",
      "6333349       NaN\n",
      "Name: UsageBand, Length: 11573, dtype: object\n",
      "SalesID\n",
      "1222837    0.0\n",
      "1222839    2.0\n",
      "1222841    2.0\n",
      "1222843    3.0\n",
      "1222845    2.0\n",
      "          ... \n",
      "6333344    0.0\n",
      "6333345    0.0\n",
      "6333347    0.0\n",
      "6333348    0.0\n",
      "6333349    0.0\n",
      "Name: UsageBand, Length: 11573, dtype: float64\n"
     ]
    },
    {
     "name": "stderr",
     "output_type": "stream",
     "text": [
      "C:\\Users\\jeramirez\\AppData\\Local\\Temp\\ipykernel_17212\\2360994206.py:2: SettingWithCopyWarning: \n",
      "A value is trying to be set on a copy of a slice from a DataFrame.\n",
      "Try using .loc[row_indexer,col_indexer] = value instead\n",
      "\n",
      "See the caveats in the documentation: https://pandas.pydata.org/pandas-docs/stable/user_guide/indexing.html#returning-a-view-versus-a-copy\n",
      "  X_train['UsageBand'] = clean_usageBand(X_train['UsageBand'])\n",
      "C:\\Users\\jeramirez\\AppData\\Local\\Temp\\ipykernel_17212\\2360994206.py:3: SettingWithCopyWarning: \n",
      "A value is trying to be set on a copy of a slice from a DataFrame.\n",
      "Try using .loc[row_indexer,col_indexer] = value instead\n",
      "\n",
      "See the caveats in the documentation: https://pandas.pydata.org/pandas-docs/stable/user_guide/indexing.html#returning-a-view-versus-a-copy\n",
      "  X_test['UsageBand'] = clean_usageBand(X_test['UsageBand'])\n"
     ]
    }
   ],
   "source": [
    "print(X_test['UsageBand'])\n",
    "X_train['UsageBand'] = clean_usageBand(X_train['UsageBand'])\n",
    "X_test['UsageBand'] = clean_usageBand(X_test['UsageBand'])\n",
    "print(X_test['UsageBand'])"
   ]
  },
  {
   "cell_type": "code",
   "execution_count": 90,
   "id": "0ee01758",
   "metadata": {},
   "outputs": [
    {
     "data": {
      "text/html": [
       "<div>\n",
       "<style scoped>\n",
       "    .dataframe tbody tr th:only-of-type {\n",
       "        vertical-align: middle;\n",
       "    }\n",
       "\n",
       "    .dataframe tbody tr th {\n",
       "        vertical-align: top;\n",
       "    }\n",
       "\n",
       "    .dataframe thead th {\n",
       "        text-align: right;\n",
       "    }\n",
       "</style>\n",
       "<table border=\"1\" class=\"dataframe\">\n",
       "  <thead>\n",
       "    <tr style=\"text-align: right;\">\n",
       "      <th></th>\n",
       "      <th>count</th>\n",
       "      <th>mean</th>\n",
       "      <th>std</th>\n",
       "      <th>min</th>\n",
       "      <th>25%</th>\n",
       "      <th>50%</th>\n",
       "      <th>75%</th>\n",
       "      <th>max</th>\n",
       "    </tr>\n",
       "  </thead>\n",
       "  <tbody>\n",
       "    <tr>\n",
       "      <th>MachineID</th>\n",
       "      <td>401125.0</td>\n",
       "      <td>1.217903e+06</td>\n",
       "      <td>440991.954249</td>\n",
       "      <td>0.0</td>\n",
       "      <td>1088697.0</td>\n",
       "      <td>1.279490e+06</td>\n",
       "      <td>1.468067e+06</td>\n",
       "      <td>2486330.0</td>\n",
       "    </tr>\n",
       "    <tr>\n",
       "      <th>YearMade</th>\n",
       "      <td>401125.0</td>\n",
       "      <td>1.993757e+03</td>\n",
       "      <td>9.211757</td>\n",
       "      <td>1919.0</td>\n",
       "      <td>1989.0</td>\n",
       "      <td>1.995000e+03</td>\n",
       "      <td>2.000000e+03</td>\n",
       "      <td>2013.0</td>\n",
       "    </tr>\n",
       "    <tr>\n",
       "      <th>MachineHoursCurrentMeter</th>\n",
       "      <td>401125.0</td>\n",
       "      <td>3.457955e+03</td>\n",
       "      <td>16459.845969</td>\n",
       "      <td>0.0</td>\n",
       "      <td>2318.0</td>\n",
       "      <td>3.457955e+03</td>\n",
       "      <td>3.457955e+03</td>\n",
       "      <td>2483300.0</td>\n",
       "    </tr>\n",
       "    <tr>\n",
       "      <th>UsageBand</th>\n",
       "      <td>401125.0</td>\n",
       "      <td>3.761022e-01</td>\n",
       "      <td>0.870291</td>\n",
       "      <td>0.0</td>\n",
       "      <td>0.0</td>\n",
       "      <td>0.000000e+00</td>\n",
       "      <td>0.000000e+00</td>\n",
       "      <td>3.0</td>\n",
       "    </tr>\n",
       "    <tr>\n",
       "      <th>saledate</th>\n",
       "      <td>401125.0</td>\n",
       "      <td>7.317953e+05</td>\n",
       "      <td>2102.982075</td>\n",
       "      <td>726119.0</td>\n",
       "      <td>730400.0</td>\n",
       "      <td>7.323930e+05</td>\n",
       "      <td>7.334900e+05</td>\n",
       "      <td>734501.0</td>\n",
       "    </tr>\n",
       "  </tbody>\n",
       "</table>\n",
       "</div>"
      ],
      "text/plain": [
       "                             count          mean            std       min  \\\n",
       "MachineID                 401125.0  1.217903e+06  440991.954249       0.0   \n",
       "YearMade                  401125.0  1.993757e+03       9.211757    1919.0   \n",
       "MachineHoursCurrentMeter  401125.0  3.457955e+03   16459.845969       0.0   \n",
       "UsageBand                 401125.0  3.761022e-01       0.870291       0.0   \n",
       "saledate                  401125.0  7.317953e+05    2102.982075  726119.0   \n",
       "\n",
       "                                25%           50%           75%        max  \n",
       "MachineID                 1088697.0  1.279490e+06  1.468067e+06  2486330.0  \n",
       "YearMade                     1989.0  1.995000e+03  2.000000e+03     2013.0  \n",
       "MachineHoursCurrentMeter     2318.0  3.457955e+03  3.457955e+03  2483300.0  \n",
       "UsageBand                       0.0  0.000000e+00  0.000000e+00        3.0  \n",
       "saledate                   730400.0  7.323930e+05  7.334900e+05   734501.0  "
      ]
     },
     "execution_count": 90,
     "metadata": {},
     "output_type": "execute_result"
    }
   ],
   "source": [
    "X_train.describe().T"
   ]
  },
  {
   "cell_type": "code",
   "execution_count": 91,
   "id": "b056c6e3",
   "metadata": {},
   "outputs": [
    {
     "data": {
      "text/html": [
       "<div>\n",
       "<style scoped>\n",
       "    .dataframe tbody tr th:only-of-type {\n",
       "        vertical-align: middle;\n",
       "    }\n",
       "\n",
       "    .dataframe tbody tr th {\n",
       "        vertical-align: top;\n",
       "    }\n",
       "\n",
       "    .dataframe thead th {\n",
       "        text-align: right;\n",
       "    }\n",
       "</style>\n",
       "<table border=\"1\" class=\"dataframe\">\n",
       "  <thead>\n",
       "    <tr style=\"text-align: right;\">\n",
       "      <th></th>\n",
       "      <th>count</th>\n",
       "      <th>mean</th>\n",
       "      <th>std</th>\n",
       "      <th>min</th>\n",
       "      <th>25%</th>\n",
       "      <th>50%</th>\n",
       "      <th>75%</th>\n",
       "      <th>max</th>\n",
       "    </tr>\n",
       "  </thead>\n",
       "  <tbody>\n",
       "    <tr>\n",
       "      <th>MachineID</th>\n",
       "      <td>11573.0</td>\n",
       "      <td>1.651495e+06</td>\n",
       "      <td>652248.533150</td>\n",
       "      <td>150.0</td>\n",
       "      <td>1.067304e+06</td>\n",
       "      <td>1.862151e+06</td>\n",
       "      <td>2.270530e+06</td>\n",
       "      <td>2485252.0</td>\n",
       "    </tr>\n",
       "    <tr>\n",
       "      <th>YearMade</th>\n",
       "      <td>11573.0</td>\n",
       "      <td>1.999486e+03</td>\n",
       "      <td>7.632649</td>\n",
       "      <td>1953.0</td>\n",
       "      <td>1.997000e+03</td>\n",
       "      <td>2.001000e+03</td>\n",
       "      <td>2.005000e+03</td>\n",
       "      <td>2014.0</td>\n",
       "    </tr>\n",
       "    <tr>\n",
       "      <th>MachineHoursCurrentMeter</th>\n",
       "      <td>11573.0</td>\n",
       "      <td>4.286834e+03</td>\n",
       "      <td>4208.889065</td>\n",
       "      <td>0.0</td>\n",
       "      <td>3.457955e+03</td>\n",
       "      <td>3.457955e+03</td>\n",
       "      <td>3.457955e+03</td>\n",
       "      <td>89200.0</td>\n",
       "    </tr>\n",
       "    <tr>\n",
       "      <th>UsageBand</th>\n",
       "      <td>11573.0</td>\n",
       "      <td>8.001383e-01</td>\n",
       "      <td>1.164440</td>\n",
       "      <td>0.0</td>\n",
       "      <td>0.000000e+00</td>\n",
       "      <td>0.000000e+00</td>\n",
       "      <td>2.000000e+00</td>\n",
       "      <td>3.0</td>\n",
       "    </tr>\n",
       "    <tr>\n",
       "      <th>saledate</th>\n",
       "      <td>11573.0</td>\n",
       "      <td>7.345681e+05</td>\n",
       "      <td>26.735685</td>\n",
       "      <td>734503.0</td>\n",
       "      <td>7.345460e+05</td>\n",
       "      <td>7.345700e+05</td>\n",
       "      <td>7.345900e+05</td>\n",
       "      <td>734621.0</td>\n",
       "    </tr>\n",
       "  </tbody>\n",
       "</table>\n",
       "</div>"
      ],
      "text/plain": [
       "                            count          mean            std       min  \\\n",
       "MachineID                 11573.0  1.651495e+06  652248.533150     150.0   \n",
       "YearMade                  11573.0  1.999486e+03       7.632649    1953.0   \n",
       "MachineHoursCurrentMeter  11573.0  4.286834e+03    4208.889065       0.0   \n",
       "UsageBand                 11573.0  8.001383e-01       1.164440       0.0   \n",
       "saledate                  11573.0  7.345681e+05      26.735685  734503.0   \n",
       "\n",
       "                                   25%           50%           75%        max  \n",
       "MachineID                 1.067304e+06  1.862151e+06  2.270530e+06  2485252.0  \n",
       "YearMade                  1.997000e+03  2.001000e+03  2.005000e+03     2014.0  \n",
       "MachineHoursCurrentMeter  3.457955e+03  3.457955e+03  3.457955e+03    89200.0  \n",
       "UsageBand                 0.000000e+00  0.000000e+00  2.000000e+00        3.0  \n",
       "saledate                  7.345460e+05  7.345700e+05  7.345900e+05   734621.0  "
      ]
     },
     "execution_count": 91,
     "metadata": {},
     "output_type": "execute_result"
    }
   ],
   "source": [
    "X_test.describe().T"
   ]
  },
  {
   "cell_type": "code",
   "execution_count": 92,
   "id": "8dab3d42",
   "metadata": {},
   "outputs": [
    {
     "name": "stdout",
     "output_type": "stream",
     "text": [
      "<class 'pandas.core.frame.DataFrame'>\n",
      "Int64Index: 401125 entries, 1139246 to 6333342\n",
      "Data columns (total 6 columns):\n",
      " #   Column                    Non-Null Count   Dtype  \n",
      "---  ------                    --------------   -----  \n",
      " 0   MachineID                 401125 non-null  int64  \n",
      " 1   YearMade                  401125 non-null  float64\n",
      " 2   MachineHoursCurrentMeter  401125 non-null  float64\n",
      " 3   UsageBand                 401125 non-null  float64\n",
      " 4   ProductGroup              401125 non-null  object \n",
      " 5   saledate                  401125 non-null  int64  \n",
      "dtypes: float64(3), int64(2), object(1)\n",
      "memory usage: 21.4+ MB\n"
     ]
    }
   ],
   "source": [
    "X_train.info()"
   ]
  },
  {
   "cell_type": "code",
   "execution_count": 93,
   "id": "6ec8cd1b",
   "metadata": {},
   "outputs": [],
   "source": [
    "#Scoring method"
   ]
  },
  {
   "cell_type": "code",
   "execution_count": 94,
   "id": "ac6f3991",
   "metadata": {},
   "outputs": [],
   "source": [
    "def rmsle(actual, predictions):\n",
    "    log_diff = np.log(predictions+1) - np.log(actual+1)\n",
    "    return np.sqrt(np.mean(log_diff**2))"
   ]
  },
  {
   "cell_type": "code",
   "execution_count": 95,
   "id": "bb7ab185",
   "metadata": {},
   "outputs": [],
   "source": [
    "score = make_scorer(rmsle, greater_is_better = False)"
   ]
  },
  {
   "cell_type": "code",
   "execution_count": 96,
   "id": "fc8e71f6",
   "metadata": {},
   "outputs": [],
   "source": [
    "y_train = data['SalePrice']\n",
    "X_train = X_train[['YearMade','MachineHoursCurrentMeter','UsageBand','saledate']]\n",
    "X_test = X_test[['YearMade','MachineHoursCurrentMeter','UsageBand','saledate']]"
   ]
  },
  {
   "cell_type": "markdown",
   "id": "35e97120",
   "metadata": {},
   "source": [
    "#Generacion de modelos"
   ]
  },
  {
   "cell_type": "code",
   "execution_count": 75,
   "id": "d98399be",
   "metadata": {},
   "outputs": [
    {
     "name": "stdout",
     "output_type": "stream",
     "text": [
      "Fitting 5 folds for each of 1 candidates, totalling 5 fits\n"
     ]
    },
    {
     "data": {
      "text/plain": [
       "(-0.7384809896158925, {})"
      ]
     },
     "execution_count": 75,
     "metadata": {},
     "output_type": "execute_result"
    }
   ],
   "source": [
    "parameters = {}\n",
    "model = LinearRegression()\n",
    "gs = GridSearchCV(model, parameters, cv=5, n_jobs=-1, verbose=1, scoring=score)\n",
    "gs.fit(X_train, y_train)\n",
    "gs.best_score_, gs.best_params_"
   ]
  },
  {
   "cell_type": "code",
   "execution_count": 76,
   "id": "96873fcf",
   "metadata": {},
   "outputs": [
    {
     "name": "stdout",
     "output_type": "stream",
     "text": [
      "Fitting 5 folds for each of 50 candidates, totalling 250 fits\n"
     ]
    },
    {
     "data": {
      "text/plain": [
       "(-0.7380243502312891, {'alpha': 62505.51925273976})"
      ]
     },
     "execution_count": 76,
     "metadata": {},
     "output_type": "execute_result"
    }
   ],
   "source": [
    "parameters = {'alpha': np.logspace(-5, 5)}\n",
    "model = Ridge()\n",
    "gs = GridSearchCV(model, parameters, cv=5, n_jobs=-1, verbose=1, scoring=score)\n",
    "gs.fit(X_train, y_train)\n",
    "gs.best_score_, gs.best_params_"
   ]
  },
  {
   "cell_type": "code",
   "execution_count": 77,
   "id": "3f094bea",
   "metadata": {},
   "outputs": [
    {
     "name": "stdout",
     "output_type": "stream",
     "text": [
      "Fitting 5 folds for each of 50 candidates, totalling 250 fits\n"
     ]
    },
    {
     "data": {
      "text/plain": [
       "(-0.7317778648450293, {'alpha': 9540.954763499964})"
      ]
     },
     "execution_count": 77,
     "metadata": {},
     "output_type": "execute_result"
    }
   ],
   "source": [
    "parameters = {'alpha': np.logspace(-5, 5)}\n",
    "model = Lasso()\n",
    "gs = GridSearchCV(model, parameters, cv=5, n_jobs=-1, verbose=1, scoring=score)\n",
    "gs.fit(X_train, y_train)\n",
    "gs.best_score_, gs.best_params_"
   ]
  },
  {
   "cell_type": "code",
   "execution_count": 30,
   "id": "cc9cafeb",
   "metadata": {},
   "outputs": [
    {
     "name": "stdout",
     "output_type": "stream",
     "text": [
      "Fitting 5 folds for each of 96 candidates, totalling 480 fits\n"
     ]
    },
    {
     "data": {
      "text/plain": [
       "(-0.7574593396459919, {'metric': 'manhattan', 'n_neighbors': 46})"
      ]
     },
     "execution_count": 30,
     "metadata": {},
     "output_type": "execute_result"
    }
   ],
   "source": [
    "#scalar = StandardScaler()\n",
    "#X_train = scalar.fit_transform(X_train)\n",
    "#X_test = scalar.transform(X_test)\n",
    "\n",
    "parameters = {'n_neighbors': range(2,50), 'metric': ['manhattan', 'euclidean']}\n",
    "model = KNeighborsRegressor()\n",
    "gs = GridSearchCV(model, parameters, cv=5, n_jobs=-1, verbose=1, scoring=score)\n",
    "gs.fit(X_train, y_train)\n",
    "gs.best_score_, gs.best_params_"
   ]
  },
  {
   "cell_type": "markdown",
   "id": "4dc1d05a",
   "metadata": {},
   "source": [
    "#Final Model"
   ]
  },
  {
   "cell_type": "code",
   "execution_count": 117,
   "id": "f5893e5c",
   "metadata": {},
   "outputs": [],
   "source": [
    "final = Lasso(alpha=9540.954763499964)\n",
    "final.fit(X_train, y_train)\n",
    "y_hat = final.predict(X_test)\n",
    "finalPred = pd.DataFrame({'SalesID':X_test.index,'SalePrice':y_hat}).set_index('SalesID')\n",
    "finalPred.to_csv('data/finalPred.csv')"
   ]
  },
  {
   "cell_type": "code",
   "execution_count": 103,
   "id": "f0b3d0e7",
   "metadata": {},
   "outputs": [
    {
     "data": {
      "text/html": [
       "<div>\n",
       "<style scoped>\n",
       "    .dataframe tbody tr th:only-of-type {\n",
       "        vertical-align: middle;\n",
       "    }\n",
       "\n",
       "    .dataframe tbody tr th {\n",
       "        vertical-align: top;\n",
       "    }\n",
       "\n",
       "    .dataframe thead th {\n",
       "        text-align: right;\n",
       "    }\n",
       "</style>\n",
       "<table border=\"1\" class=\"dataframe\">\n",
       "  <thead>\n",
       "    <tr style=\"text-align: right;\">\n",
       "      <th></th>\n",
       "      <th>YearMade</th>\n",
       "      <th>MachineHoursCurrentMeter</th>\n",
       "      <th>UsageBand</th>\n",
       "      <th>saledate</th>\n",
       "    </tr>\n",
       "    <tr>\n",
       "      <th>SalesID</th>\n",
       "      <th></th>\n",
       "      <th></th>\n",
       "      <th></th>\n",
       "      <th></th>\n",
       "    </tr>\n",
       "  </thead>\n",
       "  <tbody>\n",
       "    <tr>\n",
       "      <th>1222837</th>\n",
       "      <td>1999.486351</td>\n",
       "      <td>0.000000</td>\n",
       "      <td>0.0</td>\n",
       "      <td>734507</td>\n",
       "    </tr>\n",
       "    <tr>\n",
       "      <th>1222839</th>\n",
       "      <td>2006.000000</td>\n",
       "      <td>4412.000000</td>\n",
       "      <td>2.0</td>\n",
       "      <td>734507</td>\n",
       "    </tr>\n",
       "    <tr>\n",
       "      <th>1222841</th>\n",
       "      <td>2000.000000</td>\n",
       "      <td>10127.000000</td>\n",
       "      <td>2.0</td>\n",
       "      <td>734507</td>\n",
       "    </tr>\n",
       "    <tr>\n",
       "      <th>1222843</th>\n",
       "      <td>1999.486351</td>\n",
       "      <td>4682.000000</td>\n",
       "      <td>3.0</td>\n",
       "      <td>734507</td>\n",
       "    </tr>\n",
       "    <tr>\n",
       "      <th>1222845</th>\n",
       "      <td>2002.000000</td>\n",
       "      <td>8150.000000</td>\n",
       "      <td>2.0</td>\n",
       "      <td>734506</td>\n",
       "    </tr>\n",
       "    <tr>\n",
       "      <th>...</th>\n",
       "      <td>...</td>\n",
       "      <td>...</td>\n",
       "      <td>...</td>\n",
       "      <td>...</td>\n",
       "    </tr>\n",
       "    <tr>\n",
       "      <th>6333344</th>\n",
       "      <td>2005.000000</td>\n",
       "      <td>3457.955353</td>\n",
       "      <td>0.0</td>\n",
       "      <td>734569</td>\n",
       "    </tr>\n",
       "    <tr>\n",
       "      <th>6333345</th>\n",
       "      <td>2005.000000</td>\n",
       "      <td>3457.955353</td>\n",
       "      <td>0.0</td>\n",
       "      <td>734530</td>\n",
       "    </tr>\n",
       "    <tr>\n",
       "      <th>6333347</th>\n",
       "      <td>2005.000000</td>\n",
       "      <td>3457.955353</td>\n",
       "      <td>0.0</td>\n",
       "      <td>734530</td>\n",
       "    </tr>\n",
       "    <tr>\n",
       "      <th>6333348</th>\n",
       "      <td>2006.000000</td>\n",
       "      <td>3457.955353</td>\n",
       "      <td>0.0</td>\n",
       "      <td>734569</td>\n",
       "    </tr>\n",
       "    <tr>\n",
       "      <th>6333349</th>\n",
       "      <td>2006.000000</td>\n",
       "      <td>3457.955353</td>\n",
       "      <td>0.0</td>\n",
       "      <td>734530</td>\n",
       "    </tr>\n",
       "  </tbody>\n",
       "</table>\n",
       "<p>11573 rows × 4 columns</p>\n",
       "</div>"
      ],
      "text/plain": [
       "            YearMade  MachineHoursCurrentMeter  UsageBand  saledate\n",
       "SalesID                                                            \n",
       "1222837  1999.486351                  0.000000        0.0    734507\n",
       "1222839  2006.000000               4412.000000        2.0    734507\n",
       "1222841  2000.000000              10127.000000        2.0    734507\n",
       "1222843  1999.486351               4682.000000        3.0    734507\n",
       "1222845  2002.000000               8150.000000        2.0    734506\n",
       "...              ...                       ...        ...       ...\n",
       "6333344  2005.000000               3457.955353        0.0    734569\n",
       "6333345  2005.000000               3457.955353        0.0    734530\n",
       "6333347  2005.000000               3457.955353        0.0    734530\n",
       "6333348  2006.000000               3457.955353        0.0    734569\n",
       "6333349  2006.000000               3457.955353        0.0    734530\n",
       "\n",
       "[11573 rows x 4 columns]"
      ]
     },
     "execution_count": 103,
     "metadata": {},
     "output_type": "execute_result"
    }
   ],
   "source": [
    "X_test"
   ]
  },
  {
   "cell_type": "code",
   "execution_count": null,
   "id": "055a903b",
   "metadata": {},
   "outputs": [],
   "source": []
  }
 ],
 "metadata": {
  "kernelspec": {
   "display_name": "Python 3 (ipykernel)",
   "language": "python",
   "name": "python3"
  },
  "language_info": {
   "codemirror_mode": {
    "name": "ipython",
    "version": 3
   },
   "file_extension": ".py",
   "mimetype": "text/x-python",
   "name": "python",
   "nbconvert_exporter": "python",
   "pygments_lexer": "ipython3",
   "version": "3.9.12"
  }
 },
 "nbformat": 4,
 "nbformat_minor": 5
}
